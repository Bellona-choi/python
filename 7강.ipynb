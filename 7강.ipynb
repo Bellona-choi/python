{
 "cells": [
  {
   "cell_type": "code",
   "execution_count": 3,
   "id": "18c40ced",
   "metadata": {},
   "outputs": [
    {
     "name": "stdout",
     "output_type": "stream",
     "text": [
      "별10개 찍기\n",
      "**********\n",
      "\n",
      "별3개 찍기\n",
      "***\n",
      "\n",
      "별5개 찍기\n",
      "*****\n",
      "\n"
     ]
    }
   ],
   "source": [
    "#함수의 정의\n",
    "print(\"별10개 찍기\")\n",
    "for i in range(10):#0~9까지 반복 총 10번\n",
    "    print(\"*\",end=\"\")#반복문이 돌떄마다 * 추가,end=\"\"를 넣음으로 옆으로 출력\n",
    "print(\"\\n\")#줄바꿈\n",
    "\n",
    "print(\"별3개 찍기\")\n",
    "for i in range(3):#0~2까지 반복 총 3번\n",
    "    print(\"*\",end=\"\")#반복문이 돌떄마다 * 추가,end=\"\"를 넣음으로 옆으로 출력\n",
    "print(\"\\n\")#줄바꿈\n",
    "\n",
    "print(\"별5개 찍기\")\n",
    "for i in range(5):#0~4까지 반복 총 5번\n",
    "    print(\"*\",end=\"\")#반복문이 돌떄마다 * 추가,end=\"\"를 넣음으로 옆으로 출력\n",
    "print(\"\\n\")#줄바꿈"
   ]
  },
  {
   "cell_type": "code",
   "execution_count": 6,
   "id": "8fc63761",
   "metadata": {},
   "outputs": [
    {
     "name": "stdout",
     "output_type": "stream",
     "text": [
      "별10개 찍기\n",
      "**********\n",
      "\n",
      "별3개 찍기\n",
      "***\n",
      "\n",
      "별5개 찍기\n",
      "*****\n",
      "\n"
     ]
    }
   ],
   "source": [
    "def starprint(n):\n",
    "    for i in range(n):#n 만큼 반복문\n",
    "        print(\"*\",end=\"\")#n만큼 * 옆으로 추가\n",
    "    print(\"\\n\")#줄바꿈\n",
    "print(\"별10개 찍기\");starprint(10)#n=10 만큼 별 출력\n",
    "print(\"별3개 찍기\");starprint(3)#n=3 만큼 별 출력\n",
    "print(\"별5개 찍기\");starprint(5)#n=5 만큼 별 출력"
   ]
  },
  {
   "cell_type": "code",
   "execution_count": 7,
   "id": "61a8c85b",
   "metadata": {},
   "outputs": [
    {
     "name": "stdout",
     "output_type": "stream",
     "text": [
      "1~10까지의 합: 55\n",
      "1~1000까지의 합: 500500\n",
      "1~10000까지의 합: 50005000\n"
     ]
    }
   ],
   "source": [
    "#인수\n",
    "def intsum(n):\n",
    "    sum=0;\n",
    "    for i in range(1,n+1,1):#1부터 n까지의 합을 계산하는 함수\n",
    "        sum+=i#누적\n",
    "    return sum\n",
    "print(\"1~10까지의 합:\",intsum(10))#인수대입\n",
    "print(\"1~1000까지의 합:\",intsum(1000))#인수대입\n",
    "print(\"1~10000까지의 합:\",intsum(10000))#인수대입"
   ]
  },
  {
   "cell_type": "code",
   "execution_count": 9,
   "id": "b1aeda37",
   "metadata": {},
   "outputs": [
    {
     "name": "stdout",
     "output_type": "stream",
     "text": [
      "1~10까지의 합: 55\n",
      "1~1000까지의 합: 495550\n",
      "1~10000까지의 합: 37507500\n"
     ]
    }
   ],
   "source": [
    "def intsum(x,y):\n",
    "    sum=0;\n",
    "    for i in range(x,y+1,1):#x부터 y까지의\n",
    "        sum+=i#합\n",
    "    return sum\n",
    "print(\"1~10까지의 합:\",intsum(1,10))#인수대입\n",
    "print(\"1~1000까지의 합:\",intsum(100,1000))#인수대입\n",
    "print(\"1~10000까지의 합:\",intsum(5000,10000))#인수대입"
   ]
  },
  {
   "cell_type": "code",
   "execution_count": 10,
   "id": "3a93bd6a",
   "metadata": {},
   "outputs": [
    {
     "name": "stdout",
     "output_type": "stream",
     "text": [
      "1~10까지의 합에 5를 더함: 60\n",
      "100~1000까지의 합에 33을 곱함: 16353150\n"
     ]
    }
   ],
   "source": [
    "#return 값\n",
    "def intsum(x,y):\n",
    "    sum=0;\n",
    "    for i in range(x,y+1,1):#x부터 y까지의\n",
    "        sum+=i#합\n",
    "    return sum#sum값을 return\n",
    "print(\"1~10까지의 합에 5를 더함:\",intsum(1,10)+5)#인수대입\n",
    "i=intsum(100,1000)*33\n",
    "print(\"100~1000까지의 합에 33을 곱함:\",i)"
   ]
  },
  {
   "cell_type": "code",
   "execution_count": 11,
   "id": "40c6824b",
   "metadata": {},
   "outputs": [
    {
     "name": "stdout",
     "output_type": "stream",
     "text": [
      "함수내부에서 sum값을 출력: 495550\n",
      "100~1000까지의 합: None\n",
      "100~1000까지의 합에 33을 곱함: None\n"
     ]
    }
   ],
   "source": [
    "def intsum(x,y):\n",
    "    sum=0;\n",
    "    for i in range(x,y+1,1):#x부터 y까지의\n",
    "        sum+=i#합\n",
    "    print(\"함수내부에서 sum값을 출력:\",sum)\n",
    "i=intsum(100,1000)\n",
    "print(\"100~1000까지의 합:\",i)#위에 리턴값이 없으므로 값이 없는 none출력\n",
    "print(\"100~1000까지의 합에 33을 곱함:\",i)#위에 리턴값이 없으므로 값이 없는 none출력"
   ]
  },
  {
   "cell_type": "code",
   "execution_count": 15,
   "id": "1fc2aa8b",
   "metadata": {},
   "outputs": [
    {
     "name": "stdout",
     "output_type": "stream",
     "text": [
      "==================================================\n",
      "이름\t국어\t영어\t수학\t총점\t평균\n",
      "==================================================\n",
      "나연 \t 100 \t 90 \t 100 \t 290 \t 96\n",
      "정연 \t 100 \t 100 \t 80 \t 280 \t 93\n",
      "모모 \t 90 \t 100 \t 100 \t 290 \t 96\n",
      "사나 \t 90 \t 80 \t 90 \t 260 \t 86\n",
      "지효 \t 100 \t 100 \t 100 \t 300 \t 100\n",
      "미나 \t 80 \t 70 \t 90 \t 240 \t 80\n",
      "다현 \t 70 \t 60 \t 100 \t 230 \t 76\n",
      "채영 \t 80 \t 100 \t 90 \t 270 \t 90\n",
      "쯔위 \t 100 \t 100 \t 100 \t 300 \t 100\n",
      "==================================================\n",
      "반총점\t 810 \t 800 \t 850 \t 273 \t 91\n",
      "==================================================\n"
     ]
    }
   ],
   "source": [
    "#pass\n",
    "def titleprint():\n",
    "    #pass\n",
    "    print(\"=\"*50)#=를 50개 출력\n",
    "    print(\"이름\\t국어\\t영어\\t수학\\t총점\\t평균\")#이름 국어 영어 수학 총점 평균 출력\n",
    "    print(\"=\"*50)#=를 50개 출력\n",
    "def itemprint(name,kor,eng,mat):\n",
    "    #pass\n",
    "    print(name,\"\\t\",kor,\"\\t\",eng,\"\\t\",mat,\"\\t\",kor+eng+mat,\"\\t\",(kor+eng+mat)//3)\n",
    "def tailprint():\n",
    "    #pass\n",
    "    totkor=0#국어 총점\n",
    "    for i in ckor:#ckor만큼 반복문시작\n",
    "        totkor+=i#국어 총점 누적하기\n",
    "    toteng=0#영어 총점\n",
    "    for i in ceng:#ceng만큼 반복문시작\n",
    "        toteng+=i#영어 총점 누적하기\n",
    "    totmat=0#수학 총점\n",
    "    for i in cmat:#cmat만큼 반복문시작\n",
    "        totmat+=i#수학 총점 누적하기\n",
    "    print(\"=\"*50)#=를 50개 출력\n",
    "    print(\"반총점\\t\",totkor,\"\\t\",toteng,\"\\t\",totmat,\"\\t\"\n",
    "    ,round((totkor+toteng+totmat)//9),\"\\t\",round((totkor+toteng+totmat)/3//9))\n",
    "    print(\"=\"*50)#=를 50개 출력\n",
    "#데이터\n",
    "cname=[\"나연\",\"정연\",\"모모\",\"사나\",\"지효\",\"미나\",\"다현\",\"채영\",\"쯔위\"]\n",
    "ckor=[100,100,90,90,100,80,70,80,100]\n",
    "ceng=[90,100,100,80,100,70,60,100,100]\n",
    "cmat=[100,80,100,90,100,90,100,90,100]\n",
    "#프로그램\n",
    "titleprint()\n",
    "for i in range(9):\n",
    "    itemprint(cname[i],ckor[i],ceng[i],cmat[i])\n",
    "tailprint()"
   ]
  },
  {
   "cell_type": "code",
   "execution_count": 16,
   "id": "e7bba68b",
   "metadata": {},
   "outputs": [
    {
     "name": "stdout",
     "output_type": "stream",
     "text": [
      "case 1: 1\n",
      "case 2: 7\n",
      "case 3: 9505\n"
     ]
    }
   ],
   "source": [
    "#가변인수\n",
    "def sumsum(*num):#*은 인수의 개수가 여러개일때 인수명 앞에 사용\n",
    "    sum=0\n",
    "    for i in num:#인수(num)의 개수만큼 반복문\n",
    "        sum+=i\n",
    "    return sum\n",
    "print(\"case 1:\", sumsum(1))\n",
    "print(\"case 2:\", sumsum(1,2,4))\n",
    "print(\"case 3:\", sumsum(1,2,34,567,8901))"
   ]
  },
  {
   "cell_type": "code",
   "execution_count": 18,
   "id": "460db31a",
   "metadata": {},
   "outputs": [
    {
     "name": "stdout",
     "output_type": "stream",
     "text": [
      "case 1: 1\n",
      "case 2: 7\n",
      "case 3: 9505\n"
     ]
    }
   ],
   "source": [
    "def sumsum(num):\n",
    "#인수는 1개이며 해당 인수가 리스트 형이기 때문에 한 개의 변수에 리스트 값을 입력하여 전달\n",
    "    sum=0\n",
    "    for i in num:#인수(num)의 개수만큼 반복문\n",
    "        sum+=i\n",
    "    return sum\n",
    "print(\"case 1:\", sumsum([1]))\n",
    "print(\"case 2:\", sumsum([1,2,4]))\n",
    "print(\"case 3:\", sumsum([1,2,34,567,8901]))"
   ]
  },
  {
   "cell_type": "code",
   "execution_count": 19,
   "id": "b48077eb",
   "metadata": {},
   "outputs": [
    {
     "name": "stdout",
     "output_type": "stream",
     "text": [
      "case 1: 55\n",
      "case 2: 3825\n",
      "case 3: 100\n"
     ]
    }
   ],
   "source": [
    "#디폴트 값 처리\n",
    "def defaultest (start, end=100,step=1):\n",
    "    sum=0\n",
    "    for i in range(start,end+1,step):\n",
    "        sum+=i\n",
    "    return sum\n",
    "print(\"case 1:\", defaultest(0,10,1))#인수하나를 생략시 맨뒤 step값이 1로 기본값처리 \n",
    "print(\"case 2:\", defaultest(50,100))#인수하나를 생략시 맨뒤 step값이 1, #end 값이 1000으로 기본값처리 \n",
    "print(\"case 3:\", defaultest(100)) "
   ]
  },
  {
   "cell_type": "code",
   "execution_count": 24,
   "id": "9bb9d0aa",
   "metadata": {},
   "outputs": [
    {
     "name": "stdout",
     "output_type": "stream",
     "text": [
      "case 1: 55\n",
      "case 2: 55\n",
      "case 3: 55\n",
      "case 4: 55\n",
      "case 5: 55\n"
     ]
    }
   ],
   "source": [
    "#키워드 인수\n",
    "def defaultest (start,end=1000,step=1): \n",
    "    sum=0\n",
    "    for i in range(start,end+1,step): \n",
    "        sum+=i\n",
    "    return sum\n",
    "print(\"case 1:\", defaultest(0,10,1))\n",
    "print(\"case 2:\", defaultest(start=0,end=10,step=1))#키워드 지정시 순서가 상관없음\n",
    "print(\"case 3:\", defaultest(step=1,end=10,start=0))#맨뒤로 부터만 키워드 인수를 사용,앞은 일반인수 \n",
    "print(\"case 4:\", defaultest(0,10,step=1))#맨뒤로 부터만 키워드 인수를 사용,앞은 일반인수 \n",
    "print(\"case 5:\", defaultest(0,step=1,end=10))"
   ]
  },
  {
   "cell_type": "code",
   "execution_count": 25,
   "id": "fe80de19",
   "metadata": {},
   "outputs": [
    {
     "name": "stdout",
     "output_type": "stream",
     "text": [
      "case 1: 55\n",
      "case 2: 5005\n"
     ]
    }
   ],
   "source": [
    "#키워드 가변 인수\n",
    "def testfunc (**args):\n",
    "    start=args[\"start\"]#키워드 가변 \n",
    "    end=args[\"end\"]#키워드 가변 \n",
    "    step=args[\"step\"]#키워드 가변 \n",
    "    sum=0\n",
    "    for i in range(start,end+1,step): \n",
    "        sum+=i\n",
    "    return sum\n",
    "print(\"case 1:\", testfunc(start=0,end=10,step=1)) \n",
    "print(\"case 2:\", testfunc(end=100,step=1,start=10))"
   ]
  },
  {
   "cell_type": "code",
   "execution_count": 28,
   "id": "cc716b67",
   "metadata": {},
   "outputs": [
    {
     "name": "stdout",
     "output_type": "stream",
     "text": [
      "==============================\n",
      "***********\n",
      "\n",
      "&&&&&&&&&&&\n",
      "\n",
      "===========\n",
      "\n",
      "==============================\n",
      "   ********\n",
      "\n",
      "   ????????\n",
      "\n",
      "   ========\n",
      "\n",
      "   %%%%%%%%\n",
      "\n"
     ]
    }
   ],
   "source": [
    "def testfunc (*s,**args): \n",
    "    start=args[\"start\"] \n",
    "    end=args[\"end\"]    \n",
    "    step=args[\"step\"]  \n",
    "    for c in s:\n",
    "        print(\" \"*start,end=\"\")\n",
    "        for i in range(start,end+1,step): \n",
    "            print(c,end=\"\")\n",
    "        print(\"\\n\") \n",
    "print(\"=\"*30)\n",
    "testfunc(\"*\",\"&\",\"=\",start=0,end=10,step=1) \n",
    "print(\"=\"*30)\n",
    "testfunc(\"*\",\"?\",\"=\",\"%\",start=3,end=10,step=1)"
   ]
  },
  {
   "cell_type": "code",
   "execution_count": 30,
   "id": "11519489",
   "metadata": {},
   "outputs": [
    {
     "ename": "NameError",
     "evalue": "name 'a' is not defined",
     "output_type": "error",
     "traceback": [
      "\u001b[1;31m---------------------------------------------------------------------------\u001b[0m",
      "\u001b[1;31mNameError\u001b[0m                                 Traceback (most recent call last)",
      "Input \u001b[1;32mIn [30]\u001b[0m, in \u001b[0;36m<cell line: 4>\u001b[1;34m()\u001b[0m\n\u001b[0;32m      2\u001b[0m     a\u001b[38;5;241m=\u001b[39m\u001b[38;5;241m1\u001b[39m\n\u001b[0;32m      3\u001b[0m test()\n\u001b[1;32m----> 4\u001b[0m \u001b[38;5;28mprint\u001b[39m(\u001b[43ma\u001b[49m)\n",
      "\u001b[1;31mNameError\u001b[0m: name 'a' is not defined"
     ]
    }
   ],
   "source": [
    "#전역변수,지역변수\n",
    "def test():\n",
    "    a=1\n",
    "test()\n",
    "print(a) # 함수에서 사용된 지역변수는 다른 함수나 메인에서 해당변수를 가져다 사용불가"
   ]
  },
  {
   "cell_type": "code",
   "execution_count": 31,
   "id": "44e31db1",
   "metadata": {},
   "outputs": [
    {
     "name": "stdout",
     "output_type": "stream",
     "text": [
      "testf1: 1\n",
      "testf2: 즐거운    실습\n",
      "testf3: 3.141592\n",
      "랄랄라\n"
     ]
    }
   ],
   "source": [
    "def testf1(): \n",
    "    a=1\n",
    "    print(\"testf1:\",a)\n",
    "def testf2():\n",
    "    a=\"즐거운    실습\"\n",
    "    print(\"testf2:\",a)\n",
    "def testf3(): \n",
    "    a=3.141592 \n",
    "    print(\"testf3:\",a)\n",
    "#위에 선언된 변수는 이름만 같을뿐 전혀 다른변수임\n",
    "testf1()\n",
    "testf2()\n",
    "testf3() \n",
    "a=\"랄랄라\" \n",
    "print(a)"
   ]
  },
  {
   "cell_type": "code",
   "execution_count": 34,
   "id": "d9e2a384",
   "metadata": {},
   "outputs": [
    {
     "name": "stdout",
     "output_type": "stream",
     "text": [
      "testf1: 현재 달러환율은 1달러당 1021 원이며\n",
      "testf1: 미화 100달러는 102100 원 입니다\n",
      "testf1: 현재 달러환율은 1달러당 1120 원이며\n",
      "testf1: 미화 100달러는 112000 원 입니다\n",
      "testf2: 현재 달러환율은 1달러당 1011 원이며\n",
      "testf2: 미화 100달러는 101100 원 입니다\n",
      "testf1: 현재 달러환율은 1달러당 1120 원이며\n",
      "testf1: 미화 100달러는 112000 원 입니다\n"
     ]
    }
   ],
   "source": [
    "def testf1():\n",
    "    print(\"testf1: 현재 달러환율은 1달러당\",exrate,\"원이며\") \n",
    "    print(\"testf1: 미화 100달러는\",100*exrate,\"원 입니다\")\n",
    "def testf2(): \n",
    "    exrate=1011\n",
    "    print(\"testf2: 현재 달러환율은 1달러당\",exrate,\"원이며\") \n",
    "    print(\"testf2: 미화 100달러는\",100*exrate,\"원 입니다\")\n",
    "\n",
    "exrate=1021\n",
    "testf1() \n",
    "exrate=1120\n",
    "testf1()\n",
    "testf2() #testf2를 불러온다\n",
    "testf1() #testf1을 불러온다"
   ]
  },
  {
   "cell_type": "code",
   "execution_count": 37,
   "id": "4a4f7e01",
   "metadata": {},
   "outputs": [
    {
     "name": "stdout",
     "output_type": "stream",
     "text": [
      "Help on function testf1 in module __main__:\n",
      "\n",
      "testf1()\n",
      "    이 함수는 홍필두 교수님이 최선을 다하여 멋지게 만든 함수\n",
      "    인수값에 숫자만큼 1부터 해당 값을 더한 값을 출력해 준다\n",
      "\n"
     ]
    }
   ],
   "source": [
    "#docstring\n",
    "def testf1(): \n",
    "    \"\"\"\n",
    "이 함수는 홍필두 교수님이 최선을 다하여 멋지게 만든 함수\n",
    "인수값에 숫자만큼 1부터 해당 값을 더한 값을 출력해 준다 \n",
    "\"\"\"\n",
    "    sum=0\n",
    "    for i in range(n+1): \n",
    "        sum+=i\n",
    "    print(\"합:\",sum)\n",
    "help(testf1)"
   ]
  },
  {
   "cell_type": "code",
   "execution_count": null,
   "id": "6d7bad32",
   "metadata": {},
   "outputs": [],
   "source": []
  }
 ],
 "metadata": {
  "kernelspec": {
   "display_name": "Python 3 (ipykernel)",
   "language": "python",
   "name": "python3"
  },
  "language_info": {
   "codemirror_mode": {
    "name": "ipython",
    "version": 3
   },
   "file_extension": ".py",
   "mimetype": "text/x-python",
   "name": "python",
   "nbconvert_exporter": "python",
   "pygments_lexer": "ipython3",
   "version": "3.10.4"
  }
 },
 "nbformat": 4,
 "nbformat_minor": 5
}
