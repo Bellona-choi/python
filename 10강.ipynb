{
 "cells": [
  {
   "cell_type": "code",
   "execution_count": 1,
   "id": "c7c891fa",
   "metadata": {},
   "outputs": [
    {
     "name": "stdout",
     "output_type": "stream",
     "text": [
      "a b c d e\n",
      "e c c b a\n",
      "가 나 다 라 마\n"
     ]
    }
   ],
   "source": [
    "#문자열 다루기\n",
    "a=\"abcde\"\n",
    "print(a[0],a[1],a[2],a[3],a[4])#문자열 순서대로 출력\n",
    "print(a[-1],a[2],a[-3],a[-4],a[-5])#문자열 뒤에서부터 출력\n",
    "a=\"가나다라마\"\n",
    "print(a[0],a[1],a[2],a[3],a[4])#문자열 순서대로 출력"
   ]
  },
  {
   "cell_type": "code",
   "execution_count": 2,
   "id": "03322326",
   "metadata": {},
   "outputs": [
    {
     "name": "stdout",
     "output_type": "stream",
     "text": [
      "bcde\n",
      "b\n",
      "abcde\n",
      "de\n",
      "c\n",
      "\n",
      "bcd\n"
     ]
    }
   ],
   "source": [
    "a=\"abcde\" \n",
    "print(a[1:5])#0번을 제외한 1~5번까지 출력\n",
    "print(a[1:2])#2번 출력\n",
    "print(a[:6])#6번까지 출력\n",
    "print(a[3:])#4번부터 시작\n",
    "print(a[2:-2])#3번출력\n",
    "print(a[2:-3])#위치가 같으므로 빈칸\n",
    "print(a[1:-1])#1번부터 4번까지 출력"
   ]
  },
  {
   "cell_type": "code",
   "execution_count": 3,
   "id": "01876e03",
   "metadata": {},
   "outputs": [
    {
     "name": "stdout",
     "output_type": "stream",
     "text": [
      "5\n",
      "18\n",
      "8 8\n",
      "1 14\n"
     ]
    }
   ],
   "source": [
    "#찾기\n",
    "a=\"abcdefghijklmabcdefgh\"\n",
    "print(a.find(\"f\")) #앞에서 부터 찾음, 찾은 값의 인덱스임\n",
    "print(a.rfind(\"f\")) #뒤에서 부터 찾음\n",
    "print(a.find(\"i\"),a.rfind(\"i\")) #만일 찾는 문자가 하나라면 결과는 동일 (8, 8) \n",
    "print(a.index(\"b\"),a.rindex(\"b\")) #index함수도 결과는 동일"
   ]
  },
  {
   "cell_type": "code",
   "execution_count": 5,
   "id": "7b414e61",
   "metadata": {},
   "outputs": [
    {
     "name": "stdout",
     "output_type": "stream",
     "text": [
      "2\n",
      "13\n"
     ]
    },
    {
     "ename": "ValueError",
     "evalue": "substring not found",
     "output_type": "error",
     "traceback": [
      "\u001b[1;31m---------------------------------------------------------------------------\u001b[0m",
      "\u001b[1;31mValueError\u001b[0m                                Traceback (most recent call last)",
      "Input \u001b[1;32mIn [5]\u001b[0m, in \u001b[0;36m<cell line: 3>\u001b[1;34m()\u001b[0m\n\u001b[0;32m      1\u001b[0m \u001b[38;5;28mprint\u001b[39m(a\u001b[38;5;241m.\u001b[39mcount(\u001b[38;5;124m\"\u001b[39m\u001b[38;5;124mf\u001b[39m\u001b[38;5;124m\"\u001b[39m)) \u001b[38;5;66;03m#해당 문자의 개수를 반환\u001b[39;00m\n\u001b[0;32m      2\u001b[0m \u001b[38;5;28mprint\u001b[39m(a\u001b[38;5;241m.\u001b[39mrfind(\u001b[38;5;124m\"\u001b[39m\u001b[38;5;124mabc\u001b[39m\u001b[38;5;124m\"\u001b[39m)) \u001b[38;5;66;03m#문자열을 넣어도 됨\u001b[39;00m\n\u001b[1;32m----> 3\u001b[0m \u001b[38;5;28mprint\u001b[39m(\u001b[43ma\u001b[49m\u001b[38;5;241;43m.\u001b[39;49m\u001b[43mrindex\u001b[49m\u001b[43m(\u001b[49m\u001b[38;5;124;43m\"\u001b[39;49m\u001b[38;5;124;43mz\u001b[39;49m\u001b[38;5;124;43m\"\u001b[39;49m\u001b[43m)\u001b[49m)\n",
      "\u001b[1;31mValueError\u001b[0m: substring not found"
     ]
    }
   ],
   "source": [
    "print(a.count(\"f\")) #해당 문자의 개수를 반환\n",
    "print(a.rfind(\"abc\")) #문자열을 넣어도 됨\n",
    "print(a.rindex(\"z\"))  #하지만 찾는 문자가 없으면 에러발생 "
   ]
  },
  {
   "cell_type": "code",
   "execution_count": 6,
   "id": "a2975ce1",
   "metadata": {},
   "outputs": [
    {
     "name": "stdout",
     "output_type": "stream",
     "text": [
      "a가 들어 있음\n",
      "a가 들어 있음\n"
     ]
    }
   ],
   "source": [
    "#검사\n",
    "a=\"abcdfegabcdfeg\"\n",
    "if a.find(\"f\") > 0:#만약 \"f\"가 a안에 있다면\n",
    "    print (\"a가 들어 있음\")\n",
    "if \"f\" in a : #만일 \"f\"가 a안에 있다면\n",
    "    print (\"a가 들어 있음\")"
   ]
  },
  {
   "cell_type": "code",
   "execution_count": 7,
   "id": "48f245c0",
   "metadata": {},
   "outputs": [
    {
     "name": "stdout",
     "output_type": "stream",
     "text": [
      "ABCDEFGH\n",
      "abcdefgh\n"
     ]
    }
   ],
   "source": [
    "#대소문자 바꾸기\n",
    "a=\"abcDefGh\" \n",
    "print(a.upper())#upper를 사용하여 대문자로 바꾸기\n",
    "a=\"abcDefGh\" \n",
    "print(a.lower())#lower를 사용하여 소문자로 바꾸기"
   ]
  },
  {
   "cell_type": "code",
   "execution_count": 8,
   "id": "ca7c29b4",
   "metadata": {},
   "outputs": [
    {
     "name": "stdout",
     "output_type": "stream",
     "text": [
      "abc  def  hij      \n",
      "   abc  def  hij\n",
      "abc  def  hij\n",
      "abcdefhij\n"
     ]
    }
   ],
   "source": [
    "#공백제거\n",
    "a=\"   abc  def  hij      \" \n",
    "print(a.lstrip())#문자열 왼쪽 끝의 모든 공백 제거\n",
    "a=\"   abc  def  hij      \" \n",
    "print(a.rstrip())#문자열 오른쪽 끝의 모든 공백 제거\n",
    "a=\"   abc  def  hij      \" \n",
    "print(a.strip())#문자열 왼쪽,오른쪽 끝의 모든 공백 제거\n",
    "a=\"   abc  def  hij      \" \n",
    "print(a.replace(\" \",\"\"))#문자열 모든 공백 제거"
   ]
  },
  {
   "cell_type": "code",
   "execution_count": 10,
   "id": "a74a45ae",
   "metadata": {},
   "outputs": [
    {
     "name": "stdout",
     "output_type": "stream",
     "text": [
      "==========\n",
      "이름:  홍길동\n",
      "국어:  100\n",
      "영어:  95\n",
      "수학:  88\n",
      "==========\n"
     ]
    }
   ],
   "source": [
    "#문자열 나누기\n",
    "rec=\"홍길동,100,95,88\" \n",
    "item=rec.split(\",\")#rec를 ,단위로 나누기\n",
    "print(\"=\"*10)\n",
    "print(\"이름: \", item[0])\n",
    "print(\"국어: \", item[1])\n",
    "print(\"영어: \", item[2])\n",
    "print(\"수학: \", item[3])\n",
    "print(\"=\"*10)"
   ]
  },
  {
   "cell_type": "code",
   "execution_count": 11,
   "id": "13be486f",
   "metadata": {},
   "outputs": [
    {
     "name": "stdout",
     "output_type": "stream",
     "text": [
      "==========\n",
      "0 ==> 본\n",
      "1 ==> 예제는\n",
      "2 ==> 빈칸으로\n",
      "3 ==> 구분되어\n",
      "4 ==> 있는\n",
      "5 ==> 한\n",
      "6 ==> 줄의\n",
      "7 ==> 데이터를\n",
      "8 ==> 빈칸을\n",
      "9 ==> \n",
      "10 ==> \n",
      "11 ==> \n",
      "12 ==> \n",
      "13 ==> \n",
      "14 ==> \n",
      "15 ==> \n",
      "16 ==> 구분하여\n",
      "17 ==> 나누어\n",
      "18 ==> 줌\n",
      "==========\n"
     ]
    }
   ],
   "source": [
    "#구분자로 문자열 나누기\n",
    "rec=\"본 예제는 빈칸으로 구분되어 있는 한 줄의 데이터를 빈칸을        구분하여 나누어 줌\"\n",
    "item=rec.split(\" \")#rec를 빈칸 단위로 나누기\n",
    "print(\"=\"*10)\n",
    "i=0\n",
    "for s in item: \n",
    "    print(i,\"==>\", s) \n",
    "    i+=1\n",
    "print(\"=\"*10)"
   ]
  },
  {
   "cell_type": "code",
   "execution_count": 18,
   "id": "87815d62",
   "metadata": {},
   "outputs": [
    {
     "name": "stdout",
     "output_type": "stream",
     "text": [
      "[['나연', 100, 90, 100], ['정연', 90, 90, 100], ['모모', 80, 70, 90], ['사나', 90, 90, 80], ['지효', 100, 80, 80], ['미나', 50, 90, 90], ['다현', 80, 60, 100], ['채영', 70, 80, 90], ['쯔위', 100, 90, 90]]\n"
     ]
    }
   ],
   "source": [
    "#구분자 연습\n",
    "dili_score=[\"나연,100,90,100\",\n",
    "\"정연,90,90,100\",\n",
    "\"모모,80,70,90\",\n",
    "\"사나,90,90,80\",\n",
    "\"지효,100,80,80\",\n",
    "\"미나,50,90,90\",\n",
    "\"다현,80,60,100\",\n",
    "\"채영,70,80,90\",\n",
    "\"쯔위,100,90,90\"]\n",
    "score=[]\n",
    "for one_rec in dili_score:\n",
    "    one_score=one_rec.split(\",\")#, 반뒤로 나누기\n",
    "    one_score[1]=int(one_score[1]) #국어점수 숫자형 변환\n",
    "    one_score[2]=int(one_score[2]) #영어점수 숫자형 변환\n",
    "    one_score[3]=int(one_score[3]) #수학점수 숫자형 변환 \n",
    "    score.append(one_score.copy()) #score에 추가하기\n",
    "  \n",
    "print(score)"
   ]
  },
  {
   "cell_type": "code",
   "execution_count": 21,
   "id": "b8c48025",
   "metadata": {},
   "outputs": [
    {
     "name": "stdout",
     "output_type": "stream",
     "text": [
      "case1\n",
      "품목: 오징어땅콩  단가: 1000 원 수량: 10 개 합계: 10000 원\n",
      "case2\n",
      "품목:오징어땅콩  단가:1000원   수량:10개 합계:10000원\n",
      "case3\n",
      "품목:오징어땅콩  단가:1000원 수량:10개 합계:10000원\n",
      "case4\n",
      "품목:오징어땅콩       단가:01000원   수량:0x0a개   합계: 10000.000원\n"
     ]
    }
   ],
   "source": [
    "#포멧팅 정의\n",
    "item=\"오징어땅콩\"#품목 \n",
    "unit=1000#단가 \n",
    "qty=10#수량 \n",
    "tot=unit*qty#합계\n",
    "print(\"case1\")#지금까지 사용한 print방법, 칸이 띄어서 출력\n",
    "print(\"품목:\",item,\" 단가:\",unit,\"원 수량:\",qty,\"개 합계:\",tot,\"원\")\n",
    "print(\"case2\")#하나의 긴 문자열을 만들어 출력하면 공백없이 출력이 가능\n",
    "print(\"품목:\"+item+\"  단가:\"+str(unit)+\"원   수량:\"+str(qty)+\"개 합계:\"+str(tot)+\"원\")\n",
    "print(\"case3\")#출력포멧문자를 지정하여 원하는 포멧으로 출력이 가능\n",
    "print(\"품목:%s  단가:%d원 수량:%d개 합계:%d원\"%(item,unit,qty,tot))\n",
    "print(\"case4\")#포멧팅 예\n",
    "print(\"품목:%-10s  단가:%05d원   수량:0x%02x개   합계:%10.3f원\"%(item,unit,qty,tot))"
   ]
  },
  {
   "cell_type": "code",
   "execution_count": 22,
   "id": "8013faf3",
   "metadata": {},
   "outputs": [
    {
     "name": "stdout",
     "output_type": "stream",
     "text": [
      "[ 1000][1000 ][01000]\n",
      "[   땅콩][땅콩   ][   땅콩]\n",
      "[1000]=[3e8][0x3e8][1750]\n",
      "[ 1000%]\n",
      "[ ][ ][ ]\n"
     ]
    }
   ],
   "source": [
    "item=\"땅콩\"#문자 \n",
    "unit=1000#숫자\n",
    "print(\"[%5d][%-5d][%05d]\"%(unit,unit,unit))#앞 뒤 앞에 5칸씩 빈칸\n",
    "print(\"[%5s][%-5s][%05s]\"%(item,item,item))#앞 뒤 앞에 5칸씩 빈칸\n",
    "print(\"[%d]=[%x][%#x][%o]\"%(unit,unit,unit,unit))\n",
    "print(\"[%5d%%]\"%unit)#앞에 5칸씩 빈칸 후%넣기\n",
    "print(\"[%c][%c][%c]\"%(a[0],a[1],a[2]))"
   ]
  },
  {
   "cell_type": "code",
   "execution_count": 23,
   "id": "358d45eb",
   "metadata": {},
   "outputs": [
    {
     "name": "stdout",
     "output_type": "stream",
     "text": [
      "-1,234,567,890.123\n"
     ]
    }
   ],
   "source": [
    "#숫자에 콤마 찍기\n",
    "import locale \n",
    "locale.setlocale(locale.LC_ALL, \"\") # 시스템 기본 로케일 사용 \n",
    "n = -1234567890.123\n",
    "s = locale.format_string(\"%.3f\", n, 1) \n",
    "print(s)"
   ]
  },
  {
   "cell_type": "code",
   "execution_count": 35,
   "id": "66b1dc15",
   "metadata": {},
   "outputs": [
    {
     "name": "stdout",
     "output_type": "stream",
     "text": [
      "***************************************************\n",
      "총금액:    1,000,000원 \t달러환율: $1,010       \n",
      "지급달러: $988         \n",
      "거스름돈:      5원 \t은행수수료:  1,996원\n",
      "***************************************************\n"
     ]
    }
   ],
   "source": [
    "#포멧팅 실습\n",
    "import locale #locale라이브러리를 임포트 함, 설치는 필요없음 \n",
    "locale.setlocale(locale.LC_ALL, \"\") # 시스템 기본 로케일 사용\n",
    "myWon=1000000  #100만원\n",
    "moneyEx=1010.12 # 달러환율 \n",
    "commission_rate=0.002 # 은행 수수료 율\n",
    "a = moneyEx + moneyEx*commission_rate  #1달러당 환율금액 과 해당금액에 대한 수수료의 합 \n",
    "usd = int (myWon /a) # 나의 돈을 위의 금액으로 나오면 소수점이 나오기 때문에\n",
    "# 해당 소수점을 버린다 즉 100만원에 989.99달러 나오면 #989달러를 준다. 소수점 아래는 버린다\n",
    "remain = int(myWon - usd * a)  # 거스름돈 계산 =100만원 - 달러액*(환율+달러당 수수료)\n",
    "# 소수점 아래는 버린다.\n",
    "commission = usd * moneyEx * commission_rate # 환전 수수료총액 계산,\n",
    "#이 금액은 소수점이하 올림처리해 보자\n",
    "if(commission != float(int(commission))) : # 이 비교문은 소수점이 있는지 체크 \n",
    "    commission = int(commission) +1 #소수점이 있다면 올려서 은행이 처리\n",
    "else:\n",
    "    commission = int(commission) #소수점 아래 숫자가 없다면 단순 정수형 처리\n",
    "print(\"***************************************************\") \n",
    "print(\"총금액: %s원 \\t달러환율: $%s\"%(locale.format_string(\"%12d\",myWon,1),locale.format_string(\"%-12d\", moneyEx,1)))\n",
    "print(\"지급달러: $%s\"% locale.format_string(\"%-12d\", usd, 1)) \n",
    "print(\"거스름돈: %s원 \\t은행수수료: %s원\"%(locale.format_string(\"%6d\",remain,1),locale.format_string(\"%6d\",commission,1)))\n",
    "print(\"***************************************************\")"
   ]
  },
  {
   "cell_type": "code",
   "execution_count": null,
   "id": "aad5c77e",
   "metadata": {},
   "outputs": [],
   "source": []
  },
  {
   "cell_type": "code",
   "execution_count": null,
   "id": "6c6ffc1b",
   "metadata": {},
   "outputs": [],
   "source": []
  },
  {
   "cell_type": "code",
   "execution_count": null,
   "id": "5efae7b8",
   "metadata": {},
   "outputs": [],
   "source": []
  },
  {
   "cell_type": "code",
   "execution_count": null,
   "id": "42b16808",
   "metadata": {},
   "outputs": [],
   "source": []
  },
  {
   "cell_type": "code",
   "execution_count": null,
   "id": "41ee8de8",
   "metadata": {},
   "outputs": [],
   "source": []
  },
  {
   "cell_type": "code",
   "execution_count": null,
   "id": "294f5bb6",
   "metadata": {},
   "outputs": [],
   "source": []
  },
  {
   "cell_type": "code",
   "execution_count": null,
   "id": "ee027e1a",
   "metadata": {},
   "outputs": [],
   "source": []
  }
 ],
 "metadata": {
  "kernelspec": {
   "display_name": "Python 3 (ipykernel)",
   "language": "python",
   "name": "python3"
  },
  "language_info": {
   "codemirror_mode": {
    "name": "ipython",
    "version": 3
   },
   "file_extension": ".py",
   "mimetype": "text/x-python",
   "name": "python",
   "nbconvert_exporter": "python",
   "pygments_lexer": "ipython3",
   "version": "3.10.4"
  }
 },
 "nbformat": 4,
 "nbformat_minor": 5
}
