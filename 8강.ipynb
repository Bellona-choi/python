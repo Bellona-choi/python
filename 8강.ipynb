{
 "cells": [
  {
   "cell_type": "code",
   "execution_count": 1,
   "id": "a6631a72",
   "metadata": {},
   "outputs": [
    {
     "data": {
      "text/plain": [
       "(1, 2, 3, 4, 5)"
      ]
     },
     "execution_count": 1,
     "metadata": {},
     "output_type": "execute_result"
    }
   ],
   "source": [
    "#리스트의 정의\n",
    "a=[1,2,3,4,5]#a라는 리스트에 1,2,3,4,5를 정의\n",
    "a[0],a[1],a[2],a[3],a[4]#a리스트0번부터 4번까지 출력"
   ]
  },
  {
   "cell_type": "code",
   "execution_count": 3,
   "id": "8947f5a8",
   "metadata": {},
   "outputs": [
    {
     "data": {
      "text/plain": [
       "(11, 'abc', 12.3333, '안녕', (2+3j))"
      ]
     },
     "execution_count": 3,
     "metadata": {},
     "output_type": "execute_result"
    }
   ],
   "source": [
    "a=[11,\"abc\",12.3333,\"안녕\",2+3j]#a라는 리스트에 11,\"abc\",12.3333,\"안녕\",2+3j를 정의\n",
    "a[0],a[1],a[2],a[3],a[4]#a리스트0번부터 4번까지 출력"
   ]
  },
  {
   "cell_type": "code",
   "execution_count": 4,
   "id": "3abc75a2",
   "metadata": {},
   "outputs": [
    {
     "data": {
      "text/plain": [
       "[11, 1234, 12.3333, '안녕', '홍길동']"
      ]
     },
     "execution_count": 4,
     "metadata": {},
     "output_type": "execute_result"
    }
   ],
   "source": [
    "a[1]=1234;a[4]=\"홍길동\"#a[1]번 리스트를 1234로 교체,a[4]를 홍길동으로 교체\n",
    "a#a출력"
   ]
  },
  {
   "cell_type": "code",
   "execution_count": 5,
   "id": "6bac9414",
   "metadata": {},
   "outputs": [
    {
     "name": "stdout",
     "output_type": "stream",
     "text": [
      "점수( 90 )\n",
      "점수( 80 )\n",
      "점수( 70 )\n",
      "점수( 60 )\n",
      "점수( 30 )\n",
      "총점: 330\n"
     ]
    }
   ],
   "source": [
    "score=[90,80,70,60,30]#score리스트 정의\n",
    "sum=0#sum 정의\n",
    "for s in score:#score 크기(사이즈)만큼 반복문 시작\n",
    "    print(\"점수(\",s,\")\")#반복문을 돌면서 s(score) 출력\n",
    "    sum+=s#s(score) 를 sum에 누적\n",
    "print(\"총점:\",sum)#for문이 다돌면 누적점수sum을 출력"
   ]
  },
  {
   "cell_type": "code",
   "execution_count": 166,
   "id": "9d028fb4",
   "metadata": {},
   "outputs": [
    {
     "name": "stdout",
     "output_type": "stream",
     "text": [
      "1 1\n",
      "2 2\n",
      "3 3\n",
      "4 4\n",
      "5 5\n"
     ]
    }
   ],
   "source": [
    "#리스트의 표현 방식\n",
    "a=[1,2,3,4,5]#a리스트 선언\n",
    "print(a[0],a[-5])#a리스트에 0번째와 뒤에서 5번째 즉 0번째 를 출력\n",
    "print(a[1],a[-4])#a리스트에 1번째와 뒤에서 4번째 즉 1번째 를 출력\n",
    "print(a[2],a[-3])#a리스트에 2번째와 뒤에서 3번째 즉 2번째 를 출력\n",
    "print(a[3],a[-2])#a리스트에 3번째와 뒤에서 2번째 즉 3번째 를 출력\n",
    "print(a[4],a[-1])#a리스트에 4번째와 뒤에서 1번째 즉 4번째 를 출력"
   ]
  },
  {
   "cell_type": "code",
   "execution_count": 17,
   "id": "e4c061a9",
   "metadata": {},
   "outputs": [
    {
     "data": {
      "text/plain": [
       "[3, 4, 5, 6, 7, 8]"
      ]
     },
     "execution_count": 17,
     "metadata": {},
     "output_type": "execute_result"
    }
   ],
   "source": [
    "a=[1,2,3,4,5,6,7,8,9,10]\n",
    "a[2:8]#2부터 8보다 작을때까지 (:)기억하기(숫자가 아니라 리스트의 위치)"
   ]
  },
  {
   "cell_type": "code",
   "execution_count": 15,
   "id": "a776b835",
   "metadata": {},
   "outputs": [
    {
     "data": {
      "text/plain": [
       "[1, 2, 3, 4]"
      ]
     },
     "execution_count": 15,
     "metadata": {},
     "output_type": "execute_result"
    }
   ],
   "source": [
    "a[:4]#리스트의 0부터 4번째보다 작을때 까지 출력"
   ]
  },
  {
   "cell_type": "code",
   "execution_count": 18,
   "id": "3e7d2ae5",
   "metadata": {},
   "outputs": [
    {
     "data": {
      "text/plain": [
       "[6, 7, 8, 9, 10]"
      ]
     },
     "execution_count": 18,
     "metadata": {},
     "output_type": "execute_result"
    }
   ],
   "source": [
    "a[5:]#리스트의  5번째 부터 출력"
   ]
  },
  {
   "cell_type": "code",
   "execution_count": 20,
   "id": "f6b161d3",
   "metadata": {},
   "outputs": [
    {
     "data": {
      "text/plain": [
       "[1, 4]"
      ]
     },
     "execution_count": 20,
     "metadata": {},
     "output_type": "execute_result"
    }
   ],
   "source": [
    "a[0:6:3]#리스트의 0부터 6까지 3씩증가(a[0],a[3])및 출력"
   ]
  },
  {
   "cell_type": "code",
   "execution_count": 22,
   "id": "f8fd3137",
   "metadata": {},
   "outputs": [
    {
     "data": {
      "text/plain": [
       "[7, 8, 9]"
      ]
     },
     "execution_count": 22,
     "metadata": {},
     "output_type": "execute_result"
    }
   ],
   "source": [
    "#다중 리스트\n",
    "a=[[1,2,3],[4,5,6],[7,8,9]]#리스트로 구성된 리스트\n",
    "a[2]"
   ]
  },
  {
   "cell_type": "code",
   "execution_count": 23,
   "id": "dcc462ba",
   "metadata": {},
   "outputs": [
    {
     "data": {
      "text/plain": [
       "9"
      ]
     },
     "execution_count": 23,
     "metadata": {},
     "output_type": "execute_result"
    }
   ],
   "source": [
    "a[2][2]#a[2]의 3번째내용 출력"
   ]
  },
  {
   "cell_type": "code",
   "execution_count": 24,
   "id": "6297ffe3",
   "metadata": {},
   "outputs": [
    {
     "ename": "IndexError",
     "evalue": "list index out of range",
     "output_type": "error",
     "traceback": [
      "\u001b[1;31m---------------------------------------------------------------------------\u001b[0m",
      "\u001b[1;31mIndexError\u001b[0m                                Traceback (most recent call last)",
      "Input \u001b[1;32mIn [24]\u001b[0m, in \u001b[0;36m<cell line: 1>\u001b[1;34m()\u001b[0m\n\u001b[1;32m----> 1\u001b[0m \u001b[43ma\u001b[49m\u001b[43m[\u001b[49m\u001b[38;5;241;43m1\u001b[39;49m\u001b[43m]\u001b[49m\u001b[43m[\u001b[49m\u001b[38;5;241;43m3\u001b[39;49m\u001b[43m]\u001b[49m\n",
      "\u001b[1;31mIndexError\u001b[0m: list index out of range"
     ]
    }
   ],
   "source": [
    "a[1][3]#a[1]리스트는 0~2까지밖에 없어서 범위를 벗어나 오류"
   ]
  },
  {
   "cell_type": "code",
   "execution_count": 25,
   "id": "b1e77ce0",
   "metadata": {},
   "outputs": [
    {
     "data": {
      "text/plain": [
       "6"
      ]
     },
     "execution_count": 25,
     "metadata": {},
     "output_type": "execute_result"
    }
   ],
   "source": [
    "a[1][2]#[1]리스트의 두번째 출력"
   ]
  },
  {
   "cell_type": "code",
   "execution_count": 28,
   "id": "69bc6cc5",
   "metadata": {},
   "outputs": [
    {
     "data": {
      "text/plain": [
       "[[1, 2], [3, 4, 5], 6]"
      ]
     },
     "execution_count": 28,
     "metadata": {},
     "output_type": "execute_result"
    }
   ],
   "source": [
    "a=[[1,2],[3,4,5],6]#a리스트에 대입\n",
    "a"
   ]
  },
  {
   "cell_type": "code",
   "execution_count": 29,
   "id": "84b2b7ab",
   "metadata": {},
   "outputs": [
    {
     "data": {
      "text/plain": [
       "6"
      ]
     },
     "execution_count": 29,
     "metadata": {},
     "output_type": "execute_result"
    }
   ],
   "source": [
    "a[2]#a리스트의 3번째 출력(6)"
   ]
  },
  {
   "cell_type": "code",
   "execution_count": 30,
   "id": "4744a0f2",
   "metadata": {},
   "outputs": [
    {
     "data": {
      "text/plain": [
       "[3, 4, 5]"
      ]
     },
     "execution_count": 30,
     "metadata": {},
     "output_type": "execute_result"
    }
   ],
   "source": [
    "a[1]#a리스트의 2번째 내용 출력"
   ]
  },
  {
   "cell_type": "code",
   "execution_count": 31,
   "id": "f93af87b",
   "metadata": {},
   "outputs": [
    {
     "data": {
      "text/plain": [
       "[3, 6, 9, 12, 15, 18, 21, 24, 27]"
      ]
     },
     "execution_count": 31,
     "metadata": {},
     "output_type": "execute_result"
    }
   ],
   "source": [
    "#리스트 컴프리헨션\n",
    "a=[n*3 for n in range(1,10)]#1~9까지 n에 대입 후 3씩 곱하기\n",
    "a"
   ]
  },
  {
   "cell_type": "code",
   "execution_count": 32,
   "id": "f4a84637",
   "metadata": {},
   "outputs": [
    {
     "data": {
      "text/plain": [
       "[6, 12, 18, 24]"
      ]
     },
     "execution_count": 32,
     "metadata": {},
     "output_type": "execute_result"
    }
   ],
   "source": [
    "a=[n*3 for n in range(1,10) if n %2==0]\n",
    "#1~9까지 n에 대입 후 3씩 곱하고 2로나눌시0일때만 \n",
    "a# 출력"
   ]
  },
  {
   "cell_type": "code",
   "execution_count": 108,
   "id": "dea3e59a",
   "metadata": {},
   "outputs": [
    {
     "name": "stdout",
     "output_type": "stream",
     "text": [
      "['나연', 100, 90, 100] [290] [97]\n",
      "['정연', 100, 100, 80] [280] [93]\n",
      "['모모', 90, 100, 100] [290] [97]\n",
      "['사나', 90, 80, 90] [260] [87]\n",
      "['지효', 100, 100, 100] [300] [100]\n",
      "['미나', 80, 70, 90] [240] [80]\n",
      "['다현', 70, 60, 100] [230] [77]\n",
      "['채영', 80, 100, 90] [270] [90]\n",
      "['쯔위', 100, 100, 100] [300] [100]\n"
     ]
    }
   ],
   "source": [
    "#리스트 연습\n",
    "def itemprint(name,kortotal,engtotal,mattotal):#함수선언\n",
    "    #리스트 정의\n",
    "    score = [[\"나연\",100,90,100],[\"정연\",100,100,80],[\"모모\",90,100,100],[\"사나\",90,80,90],\n",
    "             [\"지효\",100,100,100],[\"미나\",80,70,90],[\"다현\",70,60,100],\n",
    "             [\"채영\",80,100,90],[\"쯔위\",100,100,100]]\n",
    "    name=0;kor=1;eng=2;mat=3  \n",
    "for one_student in score:#one_student에 score넣기\n",
    "    total = [int(one_student[kor])+int(one_student[eng])+int(one_student[mat])]#과목별 총합\n",
    "    ave = [round((int(one_student[kor])+int(one_student[eng])+int(one_student[mat]))/3)]#평균구하기\n",
    "    itemprint(one_student[name],one_student[kor],one_student[eng],one_student[mat])#함수를 불러와서 리스트의 이름,과목 넣기 \n",
    "    print(one_student,total,ave)#이름, 과목별 점수, 총합, 평균 출력"
   ]
  },
  {
   "cell_type": "code",
   "execution_count": null,
   "id": "b4c4b4e7",
   "metadata": {},
   "outputs": [],
   "source": [
    "def titleprint():\n",
    "    pass\n",
    "\n",
    "def itemprint(name,kortotal,engtotal,mattotal):#함수선언\n",
    "    pass\n",
    "def tailprint():\n",
    "    pass\n",
    "\n",
    "    #리스트 정의\n",
    "score = [[\"나연\",100,90,100],[\"정연\",100,100,80],[\"모모\",90,100,100],[\"사나\",90,80,90],\n",
    "         [\"지효\",100,100,100],[\"미나\",80,70,90],[\"다현\",70,60,100],\n",
    "         [\"채영\",80,100,90],[\"쯔위\",100,100,100]]\n",
    "name=0;kor=1;eng=2;mat=3  \n",
    "titleprint()\n",
    "for one_student in score:#one_student에 score넣기\n",
    "    itemprint(one_student[name],one_student[kor],one_student[eng],one_student[mat])#함수를 불러와서 리스트의 이름,과목 넣기 \n",
    "tailprint()"
   ]
  },
  {
   "cell_type": "code",
   "execution_count": 111,
   "id": "2dafd684",
   "metadata": {},
   "outputs": [
    {
     "name": "stdout",
     "output_type": "stream",
     "text": [
      "==================================================\n",
      "이름\t국어\t영어\t수학\t총점\t평균\n",
      "==================================================\n",
      "나연 \t 100 \t 90 \t 100 \t 290 \t 96\n",
      "정연 \t 100 \t 100 \t 80 \t 280 \t 93\n",
      "모모 \t 90 \t 100 \t 100 \t 290 \t 96\n",
      "사나 \t 90 \t 80 \t 90 \t 260 \t 86\n",
      "지효 \t 100 \t 100 \t 100 \t 300 \t 100\n",
      "미나 \t 80 \t 70 \t 90 \t 240 \t 80\n",
      "다현 \t 70 \t 60 \t 100 \t 230 \t 76\n",
      "채영 \t 80 \t 100 \t 90 \t 270 \t 90\n",
      "쯔위 \t 100 \t 100 \t 100 \t 300 \t 100\n",
      "==================================================\n",
      "반총점\t 810 \t 800 \t 850 \t 273 \t 91\n",
      "==================================================\n"
     ]
    }
   ],
   "source": [
    "\n",
    "def titleprint():#함수선언\n",
    "    print(\"=\"*50)#=를 50개 출력\n",
    "    print(\"이름\\t국어\\t영어\\t수학\\t총점\\t평균\")#이름 국어 영어 수학 총점 평균 출력\n",
    "    print(\"=\"*50)#=를 50개 출력\n",
    "def itemprint(name,kor,eng,mat):#이름 국어 영어 수학이 들어간  함수선언\n",
    "    print(name,\"\\t\",kor,\"\\t\",eng,\"\\t\",mat,\"\\t\",kor+eng+mat,\"\\t\",(kor+eng+mat)//3)\n",
    "\n",
    "def tailprint():\n",
    "    totkor=0#국어 총점\n",
    "    toteng=0#영어 총점\n",
    "    totmat=0#수학 총점\n",
    "    for one_student in score:#one_student에 score넣기\n",
    "        totkor+=one_student[kor]#국어 총점을 누적하기 \n",
    "        toteng+=one_student[eng]#영어 총점을 누적하기 \n",
    "        totmat+=one_student[mat]#수학 총점을 누적하기 \n",
    "    print(\"=\"*50)#=를 50개 출력\n",
    "    print(\"반총점\\t\",totkor,\"\\t\",toteng,\"\\t\",totmat,\"\\t\"\n",
    "    ,round((totkor+toteng+totmat)//9),\"\\t\",round((totkor+toteng+totmat)/3//9))\n",
    "    #반총점, 국어총점, 영어총점, 수학총점, 총점평균, 평균 출력\n",
    "    print(\"=\"*50)#=를 50개 출력\n",
    "  \n",
    "    #리스트 정의\n",
    "score = [[\"나연\",100,90,100],[\"정연\",100,100,80],[\"모모\",90,100,100],[\"사나\",90,80,90],\n",
    "         [\"지효\",100,100,100],[\"미나\",80,70,90],[\"다현\",70,60,100],\n",
    "         [\"채영\",80,100,90],[\"쯔위\",100,100,100]]\n",
    "name=0;kor=1;eng=2;mat=3  \n",
    "titleprint()\n",
    "for one_student in score:#one_student에 score넣기\n",
    "    itemprint(one_student[name],one_student[kor],one_student[eng],one_student[mat])#함수를 불러와서 리스트의 이름,과목 넣기 \n",
    "tailprint()"
   ]
  },
  {
   "cell_type": "code",
   "execution_count": 116,
   "id": "cc689cd9",
   "metadata": {},
   "outputs": [
    {
     "data": {
      "text/plain": [
       "[1, 2, 3, 4, 5]"
      ]
     },
     "execution_count": 116,
     "metadata": {},
     "output_type": "execute_result"
    }
   ],
   "source": [
    "#리스트 삽입, 삭제\n",
    "a=[1,2,3,4,5]\n",
    "a"
   ]
  },
  {
   "cell_type": "code",
   "execution_count": 117,
   "id": "9320797b",
   "metadata": {},
   "outputs": [
    {
     "data": {
      "text/plain": [
       "[1, 2, 4, 5]"
      ]
     },
     "execution_count": 117,
     "metadata": {},
     "output_type": "execute_result"
    }
   ],
   "source": [
    "del a[2]#a리스트 2번쨰요소 삭제\n",
    "a"
   ]
  },
  {
   "cell_type": "code",
   "execution_count": 118,
   "id": "d1d00570",
   "metadata": {},
   "outputs": [
    {
     "data": {
      "text/plain": [
       "[1, 2, 5]"
      ]
     },
     "execution_count": 118,
     "metadata": {},
     "output_type": "execute_result"
    }
   ],
   "source": [
    "del a[2]#a리스트 2번쨰요소 삭제\n",
    "a"
   ]
  },
  {
   "cell_type": "code",
   "execution_count": 120,
   "id": "1571d3dc",
   "metadata": {},
   "outputs": [
    {
     "data": {
      "text/plain": [
       "[]"
      ]
     },
     "execution_count": 120,
     "metadata": {},
     "output_type": "execute_result"
    }
   ],
   "source": [
    "a.clear()#리스트 전부 지움\n",
    "a"
   ]
  },
  {
   "cell_type": "code",
   "execution_count": 122,
   "id": "481aab71",
   "metadata": {},
   "outputs": [
    {
     "ename": "NameError",
     "evalue": "name 'a' is not defined",
     "output_type": "error",
     "traceback": [
      "\u001b[1;31m---------------------------------------------------------------------------\u001b[0m",
      "\u001b[1;31mNameError\u001b[0m                                 Traceback (most recent call last)",
      "Input \u001b[1;32mIn [122]\u001b[0m, in \u001b[0;36m<cell line: 1>\u001b[1;34m()\u001b[0m\n\u001b[1;32m----> 1\u001b[0m \u001b[43ma\u001b[49m\u001b[38;5;241m.\u001b[39mappend(\u001b[38;5;241m1\u001b[39m)\n",
      "\u001b[1;31mNameError\u001b[0m: name 'a' is not defined"
     ]
    }
   ],
   "source": [
    "a.append(1)#리스트가 정의되어 있지 않은 경우 추가 불가"
   ]
  },
  {
   "cell_type": "code",
   "execution_count": 124,
   "id": "800fd4c7",
   "metadata": {},
   "outputs": [
    {
     "data": {
      "text/plain": [
       "[1, 3, 5]"
      ]
     },
     "execution_count": 124,
     "metadata": {},
     "output_type": "execute_result"
    }
   ],
   "source": [
    "a=[]#리스트 정의\n",
    "a.append(1)#리스트에 1값의 리스트요소 추가\n",
    "a.append(3)#리스트에 3값의 리스트요소 추가\n",
    "a.append(5)#리스트에 5값의 리스트요소 추가\n",
    "a"
   ]
  },
  {
   "cell_type": "code",
   "execution_count": 125,
   "id": "363d838b",
   "metadata": {},
   "outputs": [
    {
     "data": {
      "text/plain": [
       "[4, 5, 6, 10]"
      ]
     },
     "execution_count": 125,
     "metadata": {},
     "output_type": "execute_result"
    }
   ],
   "source": [
    "a=[4,5,6]#기존 리스트를 무시하고 다시정의\n",
    "a.append(10)#리스트에 10값의 리스트요소 추가\n",
    "a"
   ]
  },
  {
   "cell_type": "code",
   "execution_count": 129,
   "id": "b1dfd89c",
   "metadata": {},
   "outputs": [
    {
     "data": {
      "text/plain": [
       "[1, 2, 3, 4, 5, 6]"
      ]
     },
     "execution_count": 129,
     "metadata": {},
     "output_type": "execute_result"
    }
   ],
   "source": [
    "a=[1,2,3,4,5]\n",
    "a.append(6)\n",
    "a"
   ]
  },
  {
   "cell_type": "code",
   "execution_count": 130,
   "id": "9c5f3b06",
   "metadata": {},
   "outputs": [
    {
     "data": {
      "text/plain": [
       "[1, 2, 3, 12, 4, 5, 6]"
      ]
     },
     "execution_count": 130,
     "metadata": {},
     "output_type": "execute_result"
    }
   ],
   "source": [
    "a.insert(3,12)#3뒤에 12추가\n",
    "a"
   ]
  },
  {
   "cell_type": "code",
   "execution_count": 131,
   "id": "ba0ca5b1",
   "metadata": {},
   "outputs": [
    {
     "data": {
      "text/plain": [
       "[1, 2, 3, 12, 15, 4, 5, 6]"
      ]
     },
     "execution_count": 131,
     "metadata": {},
     "output_type": "execute_result"
    }
   ],
   "source": [
    "a.insert(4,15)#4뒤에 15추가\n",
    "a"
   ]
  },
  {
   "cell_type": "code",
   "execution_count": 132,
   "id": "ba09d894",
   "metadata": {},
   "outputs": [
    {
     "data": {
      "text/plain": [
       "[1, 2, 3, 1, 12, 15, 4, 5, 6]"
      ]
     },
     "execution_count": 132,
     "metadata": {},
     "output_type": "execute_result"
    }
   ],
   "source": [
    "a.insert(3,1)#3뒤에 1추가\n",
    "a"
   ]
  },
  {
   "cell_type": "code",
   "execution_count": 133,
   "id": "e0197c1b",
   "metadata": {},
   "outputs": [
    {
     "data": {
      "text/plain": [
       "[1, 2, 3, 1, 12, 1, 2, 3, 4, 5, 6, 15, 4, 5, 6]"
      ]
     },
     "execution_count": 133,
     "metadata": {},
     "output_type": "execute_result"
    }
   ],
   "source": [
    "a[5:5]=[1,2,3,4,5,6]#5에서 5까지 영역에 해당 리스트 값을 대입\n",
    "a"
   ]
  },
  {
   "cell_type": "code",
   "execution_count": 135,
   "id": "a59d2ee2",
   "metadata": {},
   "outputs": [
    {
     "data": {
      "text/plain": [
       "[1, 2, 3, 4, 5, 6]"
      ]
     },
     "execution_count": 135,
     "metadata": {},
     "output_type": "execute_result"
    }
   ],
   "source": [
    "a=[1,2,3]\n",
    "b=[4,5,6]\n",
    "a=a+b\n",
    "a"
   ]
  },
  {
   "cell_type": "code",
   "execution_count": 140,
   "id": "9e2cc936",
   "metadata": {},
   "outputs": [
    {
     "data": {
      "text/plain": [
       "[1, 2, 4, [], 5, 6, 7, 7, 8]"
      ]
     },
     "execution_count": 140,
     "metadata": {},
     "output_type": "execute_result"
    }
   ],
   "source": [
    "a=[1,2,3,3,4,4,5,6,7,7,7,7,8]\n",
    "a.remove(7)#첫 번째 만나는 7값을 가진 리스트 삭제\n",
    "a\n",
    "a.remove(7)#첫 번째 만나는 7값을 가진 리스트 삭제\n",
    "a[5]=[]\n",
    "a[2:4]=[]\n",
    "a"
   ]
  },
  {
   "cell_type": "code",
   "execution_count": 141,
   "id": "91c08ff8",
   "metadata": {},
   "outputs": [
    {
     "data": {
      "text/plain": [
       "[1, 2, 4, [], 6, 7, 7, 8]"
      ]
     },
     "execution_count": 141,
     "metadata": {},
     "output_type": "execute_result"
    }
   ],
   "source": [
    "del(a[4])#리스트 요소 제거\n",
    "a"
   ]
  },
  {
   "cell_type": "code",
   "execution_count": 142,
   "id": "7c19c990",
   "metadata": {},
   "outputs": [
    {
     "data": {
      "text/plain": [
       "8"
      ]
     },
     "execution_count": 142,
     "metadata": {},
     "output_type": "execute_result"
    }
   ],
   "source": [
    "a.pop()#맨 마지막 요소 리턴하고 제거\n"
   ]
  },
  {
   "cell_type": "code",
   "execution_count": 143,
   "id": "c8492dfa",
   "metadata": {},
   "outputs": [
    {
     "data": {
      "text/plain": [
       "[]"
      ]
     },
     "execution_count": 143,
     "metadata": {},
     "output_type": "execute_result"
    }
   ],
   "source": [
    "a.pop(3)#4번쨰 요소 리턴하고 제거"
   ]
  },
  {
   "cell_type": "code",
   "execution_count": 146,
   "id": "f0f5d28a",
   "metadata": {},
   "outputs": [
    {
     "data": {
      "text/plain": [
       "4"
      ]
     },
     "execution_count": 146,
     "metadata": {},
     "output_type": "execute_result"
    }
   ],
   "source": [
    "#리스트 검색\n",
    "a=[1,2,3,3,4,4,5,6,7,7,7,7,8]\n",
    "a.index(7)#리스트 요소중 7의 위치\n",
    "a.index(8)#리스트 요소중 8의 위치\n",
    "a.index(4)#리스트 요소중 4의 위치\n",
    "a.count(7)#리스트 요소중 7dml 개수"
   ]
  },
  {
   "cell_type": "code",
   "execution_count": 149,
   "id": "962637ed",
   "metadata": {},
   "outputs": [
    {
     "name": "stdout",
     "output_type": "stream",
     "text": [
      "1 8 13\n"
     ]
    }
   ],
   "source": [
    "print(min(a),max(a),len(a))\n",
    "#min=리스트요소중 가장 작은 요소\n",
    "#max=리스트요소중 가장 큰 요소\n",
    "#len=리스트요소의 개수"
   ]
  },
  {
   "cell_type": "code",
   "execution_count": 150,
   "id": "c3c5686e",
   "metadata": {},
   "outputs": [
    {
     "data": {
      "text/plain": [
       "[4, 9, 6, 52, 4, 2, 6, 5, 8, 1]"
      ]
     },
     "execution_count": 150,
     "metadata": {},
     "output_type": "execute_result"
    }
   ],
   "source": [
    "a=[1,8,5,6,2,4,52,6,9,4]\n",
    "a.reverse()#리스트 요소를 역순으로\n",
    "a"
   ]
  },
  {
   "cell_type": "code",
   "execution_count": 152,
   "id": "0a2e47f2",
   "metadata": {},
   "outputs": [
    {
     "data": {
      "text/plain": [
       "[1, 2, 4, 4, 5, 6, 6, 8, 9, 52]"
      ]
     },
     "execution_count": 152,
     "metadata": {},
     "output_type": "execute_result"
    }
   ],
   "source": [
    "a.sort()#리스트 요소를 오름차순으로 정렬\n",
    "a"
   ]
  },
  {
   "cell_type": "code",
   "execution_count": 158,
   "id": "e0b50c7c",
   "metadata": {},
   "outputs": [
    {
     "name": "stdout",
     "output_type": "stream",
     "text": [
      "==================================================\n",
      "이름\t국어\t영어\t수학\t총점\t평균\n",
      "==================================================\n",
      "name0 \t 69 \t 75 \t 86 \t 230 \t 76\n",
      "name1 \t 60 \t 72 \t 97 \t 229 \t 76\n",
      "name2 \t 59 \t 52 \t 51 \t 162 \t 54\n",
      "name3 \t 33 \t 94 \t 99 \t 226 \t 75\n",
      "name4 \t 72 \t 45 \t 18 \t 135 \t 45\n",
      "name5 \t 17 \t 72 \t 46 \t 135 \t 45\n",
      "name6 \t 49 \t 66 \t 73 \t 188 \t 62\n",
      "name7 \t 59 \t 93 \t 62 \t 214 \t 71\n",
      "name8 \t 59 \t 63 \t 43 \t 165 \t 55\n",
      "name9 \t 41 \t 70 \t 64 \t 175 \t 58\n",
      "==================================================\n",
      "반총점\t 518 \t 702 \t 639 \t 206 \t 68\n",
      "==================================================\n"
     ]
    }
   ],
   "source": [
    "#심화학습\n",
    "import random as r\n",
    "def titleprint():\n",
    "    print(\"=\"*50)#=를 50개 출력\n",
    "    print(\"이름\\t국어\\t영어\\t수학\\t총점\\t평균\")#이름 국어 영어 수학 총점 평균 출력\n",
    "    print(\"=\"*50)#=를 50개 출력\n",
    "def itemprint(name,kor,eng,mat):\n",
    "    print(name,\"\\t\",kor,\"\\t\",eng,\"\\t\",mat,\"\\t\",kor+eng+mat,\"\\t\",(kor+eng+mat)//3)\n",
    "def tailprint():\n",
    "    totkor=0#국어 총점\n",
    "    toteng=0#영어 총점\n",
    "    totmat=0#수학 총점\n",
    "    for one_student in score:#one_student에 score넣기\n",
    "        totkor+=one_student[kor]#국어 총점을 누적하기 \n",
    "        toteng+=one_student[eng]#영어 총점을 누적하기 \n",
    "        totmat+=one_student[mat]#수학 총점을 누적하기 \n",
    "    print(\"=\"*50)#=를 50개 출력\n",
    "    print(\"반총점\\t\",totkor,\"\\t\",toteng,\"\\t\",totmat,\"\\t\"\n",
    "    ,round((totkor+toteng+totmat)//9),\"\\t\",round((totkor+toteng+totmat)/3//9))\n",
    "    #반총점, 국어총점, 영어총점, 수학총점, 총점평균, 평균 출력\n",
    "    print(\"=\"*50)#=를 50개 출력\n",
    "one_person=[]\n",
    "score=[]\n",
    "for i in range(10):#100은 너무 많아서 10으로 줄여줌\n",
    "    one_person.append(\"name\"+str(i))#이름\n",
    "    one_person.append(r.randrange(10,100))#국어 10~100까지 임의값 추출\n",
    "    one_person.append(r.randrange(10,100))#영어 10~100까지 임의값 추출\n",
    "    one_person.append(r.randrange(10,100))#수학 10~100까지 임의값 추출\n",
    "    score.append(one_person[:])#값을 복사해서 추가\n",
    "    one_person.clear()\n",
    "name=0;kor=1;eng=2;mat=3\n",
    "titleprint()\n",
    "for one_student in score:\n",
    "    itemprint(one_student[name],one_student[kor],one_student[eng],one_student[mat])#함수를 불러와서 리스트의 이름,과목 넣기 \n",
    "tailprint()"
   ]
  },
  {
   "cell_type": "code",
   "execution_count": 163,
   "id": "b9877268",
   "metadata": {},
   "outputs": [
    {
     "data": {
      "text/plain": [
       "(1, 8, 5, 6, 2, 4, 5, 2, 6, 9, 4, 1, 8, 5, 6, 2, 4, 5, 2, 6, 9, 4)"
      ]
     },
     "execution_count": 163,
     "metadata": {},
     "output_type": "execute_result"
    }
   ],
   "source": [
    "#튜플\n",
    "a=(1,8,5,6,2,4,5,2,6,9,4)\n",
    "a[5]#a[5]의 값 조회\n",
    "a[3:5]#a의 3,4번쨰 값 조회(:를 기준으로 앞이면 포함 뒤면 불포함이다)\n",
    "a[3:8]#a의3~7번쨰 요소까지 조회\n",
    "a*2#a를 두번 출력"
   ]
  },
  {
   "cell_type": "code",
   "execution_count": 164,
   "id": "6a2d2fb7",
   "metadata": {},
   "outputs": [
    {
     "ename": "TypeError",
     "evalue": "'tuple' object does not support item assignment",
     "output_type": "error",
     "traceback": [
      "\u001b[1;31m---------------------------------------------------------------------------\u001b[0m",
      "\u001b[1;31mTypeError\u001b[0m                                 Traceback (most recent call last)",
      "Input \u001b[1;32mIn [164]\u001b[0m, in \u001b[0;36m<cell line: 1>\u001b[1;34m()\u001b[0m\n\u001b[1;32m----> 1\u001b[0m a[\u001b[38;5;241m1\u001b[39m]\u001b[38;5;241m=\u001b[39m\u001b[38;5;241m5\u001b[39m\n",
      "\u001b[1;31mTypeError\u001b[0m: 'tuple' object does not support item assignment"
     ]
    }
   ],
   "source": [
    "a[1]=5#값 변경 불가\n",
    "del a[4]#변수 지우기 불가\n",
    "a.append(10)#변수 추가 불가"
   ]
  },
  {
   "cell_type": "code",
   "execution_count": 165,
   "id": "d7f6fd50",
   "metadata": {},
   "outputs": [
    {
     "name": "stdout",
     "output_type": "stream",
     "text": [
      "((2, 17403), (41, 40338))\n"
     ]
    }
   ],
   "source": [
    "def location():\n",
    "    latitude = 2, 17403 #위도\n",
    "    longitude = 41,40338 #경도\n",
    "    return latitude, longitude#튜플 반환\n",
    "a=location()\n",
    "print(a)"
   ]
  }
 ],
 "metadata": {
  "kernelspec": {
   "display_name": "Python 3 (ipykernel)",
   "language": "python",
   "name": "python3"
  },
  "language_info": {
   "codemirror_mode": {
    "name": "ipython",
    "version": 3
   },
   "file_extension": ".py",
   "mimetype": "text/x-python",
   "name": "python",
   "nbconvert_exporter": "python",
   "pygments_lexer": "ipython3",
   "version": "3.10.4"
  }
 },
 "nbformat": 4,
 "nbformat_minor": 5
}
