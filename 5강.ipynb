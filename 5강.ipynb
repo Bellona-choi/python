{
 "cells": [
  {
   "cell_type": "code",
   "execution_count": 1,
   "id": "63f8e553",
   "metadata": {},
   "outputs": [
    {
     "name": "stdout",
     "output_type": "stream",
     "text": [
      "이름이 뭐니?최재원\n",
      "주인님 어서오십시요\n"
     ]
    }
   ],
   "source": [
    "#if조건문\n",
    "name = input(\"이름이 뭐니?\")\n",
    "if name == \"최재원\" :\n",
    "    print(\"주인님 어서오십시요\")"
   ]
  },
  {
   "cell_type": "code",
   "execution_count": 2,
   "id": "950b6903",
   "metadata": {},
   "outputs": [
    {
     "name": "stdout",
     "output_type": "stream",
     "text": [
      "성별이 어떻게 되나요?남자\n",
      "넥타이가 멋있습니다.\n"
     ]
    }
   ],
   "source": [
    "name = input(\"성별이 어떻게 되나요?\")\n",
    "if name == \"남자\" :#만약 남자라면\n",
    "    print(\"넥타이가 멋있습니다.\")\n",
    "else:#만약 남자가 아니라면\n",
    "    print(\"립스틱색이 예쁘네요.\")"
   ]
  },
  {
   "cell_type": "code",
   "execution_count": 3,
   "id": "b3e1fe24",
   "metadata": {},
   "outputs": [
    {
     "name": "stdout",
     "output_type": "stream",
     "text": [
      "성별이 어떻게 되나요?여자\n",
      "립스틱색이 예쁘네요.\n"
     ]
    }
   ],
   "source": [
    "name = input(\"성별이 어떻게 되나요?\")\n",
    "if name == \"남자\" :#만약 남자라면\n",
    "    print(\"넥타이가 멋있습니다.\")\n",
    "else:#만약 남자가 아니라면\n",
    "    print(\"립스틱색이 예쁘네요.\")"
   ]
  },
  {
   "cell_type": "code",
   "execution_count": 4,
   "id": "4c6e54be",
   "metadata": {},
   "outputs": [
    {
     "name": "stdout",
     "output_type": "stream",
     "text": [
      "얼마를 구매하셨나요?1000\n",
      "면세입니다.\n"
     ]
    }
   ],
   "source": [
    "price = int(input(\"얼마를 구매하셨나요?\"))\n",
    "if price < 10000 :\n",
    "    print(\"면세입니다.\")\n",
    "else:\n",
    "    print(\"세금은 10%입니다.\")"
   ]
  },
  {
   "cell_type": "code",
   "execution_count": 5,
   "id": "122b5eef",
   "metadata": {},
   "outputs": [
    {
     "name": "stdout",
     "output_type": "stream",
     "text": [
      "a는 100입니다\n"
     ]
    }
   ],
   "source": [
    "#비교 연산자 예시\n",
    "a=100\n",
    "if (a==99): print(\"a는 99입니다\")\n",
    "if (a==100): print(\"a는 100입니다\")"
   ]
  },
  {
   "cell_type": "code",
   "execution_count": 6,
   "id": "bbc0b1af",
   "metadata": {},
   "outputs": [
    {
     "name": "stdout",
     "output_type": "stream",
     "text": [
      "a는 100입니다\n"
     ]
    }
   ],
   "source": [
    "if (a>=100): print(\"a는 100입니다\")\n",
    "if (a<100): print(\"a는 100입니다\")"
   ]
  },
  {
   "cell_type": "code",
   "execution_count": 7,
   "id": "cf3c58e8",
   "metadata": {},
   "outputs": [
    {
     "name": "stdout",
     "output_type": "stream",
     "text": [
      "abc이다\n"
     ]
    }
   ],
   "source": [
    "a=\"abc\"\n",
    "if(a == \"abc\"): print(\"abc이다\")"
   ]
  },
  {
   "cell_type": "code",
   "execution_count": 10,
   "id": "3c5ffdf5",
   "metadata": {},
   "outputs": [
    {
     "name": "stdout",
     "output_type": "stream",
     "text": [
      "abc보다 큰문자이다\n",
      "abc보다 큰문자이다\n"
     ]
    }
   ],
   "source": [
    "a=\"abc\"\n",
    "if(a > \"abc\"): print(\"abc보다 큰문자이다\")\n",
    "a=\"abd\"\n",
    "if(a > \"abc\"): print(\"abc보다 큰문자이다\")\n",
    "a=\"abb\"\n",
    "if(a > \"Abc\"): print(\"abc보다 큰문자이다\")"
   ]
  },
  {
   "cell_type": "code",
   "execution_count": 14,
   "id": "57c09006",
   "metadata": {},
   "outputs": [
    {
     "name": "stdout",
     "output_type": "stream",
     "text": [
      "점수를 입력하세요?88\n",
      "학점은 B입니다.\n"
     ]
    }
   ],
   "source": [
    "#논리 연산자\n",
    "x = int(input(\"점수를 입력하세요?\"))\n",
    "if 0 <= x and x < 60 : print(\"학점은 F입니다.\")#0~60점 이면 학점은 F입니다 출력\n",
    "if 60 <= x and x < 70 : print(\"학점은 D입니다.\")#60~70점 이면 학점은 F입니다 출력\n",
    "if 70 <= x and x < 80 : print(\"학점은 C입니다.\")#70~80점 이면 학점은 F입니다 출력\n",
    "if 80 <= x and x < 90 : print(\"학점은 B입니다.\")#80~90점 이면 학점은 F입니다 출력\n",
    "if 90 <= x and x <= 100 : print(\"학점은 A입니다.\")#90~100점 이면 학점은 F입니다 출력"
   ]
  },
  {
   "cell_type": "code",
   "execution_count": 15,
   "id": "eb34ac34",
   "metadata": {},
   "outputs": [
    {
     "name": "stdout",
     "output_type": "stream",
     "text": [
      "영문 알패벳 한글자를 입력하세요?a\n",
      "소문자 입니다.\n"
     ]
    }
   ],
   "source": [
    "x = input(\"영문 알패벳 한글자를 입력하세요?\")\n",
    "if \"a\" <= x and x <= \"z\" : print(\"소문자 입니다.\")#a~z 라면 소문자 입니다 출력\n",
    "if \"A\" <= x and x <= \"Z\" : print(\"대문자 입니다.\")# A~Z 라면 대문자 입니다 출력    "
   ]
  },
  {
   "cell_type": "code",
   "execution_count": 20,
   "id": "70b0df14",
   "metadata": {},
   "outputs": [
    {
     "ename": "IndentationError",
     "evalue": "unexpected indent (693932537.py, line 4)",
     "output_type": "error",
     "traceback": [
      "\u001b[1;36m  Input \u001b[1;32mIn [20]\u001b[1;36m\u001b[0m\n\u001b[1;33m    a=a-50\u001b[0m\n\u001b[1;37m    ^\u001b[0m\n\u001b[1;31mIndentationError\u001b[0m\u001b[1;31m:\u001b[0m unexpected indent\n"
     ]
    }
   ],
   "source": [
    "a=100\n",
    "if a>50:\n",
    "    print(\"50보다 큰수는 50을 빼겠습니다.\")\n",
    "            a = a - 50 #위치에 의하여 오류"
   ]
  },
  {
   "cell_type": "code",
   "execution_count": 21,
   "id": "2abcc486",
   "metadata": {},
   "outputs": [
    {
     "name": "stdout",
     "output_type": "stream",
     "text": [
      "50보다 큰수는 50을 빼겠습니다.\n"
     ]
    }
   ],
   "source": [
    "# 블록구조\n",
    "if a>50:\n",
    "    print(\"50보다 큰수는 50을 빼겠습니다.\")\n",
    "    a = a - 50"
   ]
  },
  {
   "cell_type": "code",
   "execution_count": 24,
   "id": "1bf8673c",
   "metadata": {},
   "outputs": [
    {
     "name": "stdout",
     "output_type": "stream",
     "text": [
      "점수를 입력하셔요?(0~100)78\n",
      "학점은 C입니다\n"
     ]
    }
   ],
   "source": [
    "#elif문\n",
    "x=int(input(\"점수를 입력하셔요?(0~100)\"))\n",
    "if x >= 90 :print (\"학점은 A입니다\")#90점 이상이면 학점은 A입니다 출력\n",
    "elif x >= 80 : print (\"학점은 B입니다\")#80점 이상이면 학점은 B입니다 출력\n",
    "elif x >= 70 : print (\"학점은 C입니다\")#70점 이상이면 학점은 C입니다 출력\n",
    "elif x >= 60 : print (\"학점은 D입니다\")#60점 이상이면 학점은 D입니다 출력\n",
    "else  : print (\"학점은 F입니다\")#위 조건이 아니면 학점은 F입니다출력"
   ]
  },
  {
   "cell_type": "code",
   "execution_count": 25,
   "id": "f4577e8f",
   "metadata": {},
   "outputs": [
    {
     "name": "stdout",
     "output_type": "stream",
     "text": [
      "숫자를 입력하셔요?50\n",
      "4의 배수가 아닌 짝수입니다.\n"
     ]
    }
   ],
   "source": [
    "#중첩 if문\n",
    "x=int(input(\"숫자를 입력하셔요?\"))\n",
    "if x % 2 == 0 :#만약 입력값이 2로 나누었을떄 나머지가 0이면\n",
    "    if x%4==0:#만약 입력값이 4로 나누었을떄 나머지가 0이면\n",
    "        print(\"4의 배수인 짝수입니다(당연히 짝수)\")#4의 배수인 짝수입니다(당연히 짝수)출력\n",
    "    else:#위조건이 아니면(4로 나누었을시 나머지가 0이 아니면)\n",
    "        print(\"4의 배수가 아닌 짝수입니다.\");#4의 배수가 아닌 짝수입니다. 출력\n",
    "elif x%3==0:#위조건 2로 나누었을시 0이 아니고 3으로 나누었을시 0이면\n",
    "    print(\"3의 배수인 홀수 입니다.\")#3의 배수인 홀수 입니다. 출력\n",
    "else:#위 조건들이 아닐시 (2,3으로 나누었을때0이 아니면)\n",
    "    print(\"3의 배수가 아닌 홀수입니다.\")#3의 배수가 아닌 홀수입니다. 출력"
   ]
  },
  {
   "cell_type": "code",
   "execution_count": 49,
   "id": "50934d86",
   "metadata": {
    "scrolled": true
   },
   "outputs": [
    {
     "name": "stdout",
     "output_type": "stream",
     "text": [
      "***************************************************************\n",
      "총금액: 1000000 원  달러환율: 1010.12 $\n",
      "지급달러: 988 $\n",
      "거스름돈: 5 원  은행수수료: 1996 원\n"
     ]
    }
   ],
   "source": [
    "#심화실습\n",
    "k43_MyWon = 1000000# 환전할 한국돈\n",
    "k43_MoneyEx = 1010.12# 달러환율\n",
    "k43_commission = 0.002# 환전 수수료\n",
    "\n",
    "k43_ComPerOne = k43_MoneyEx * k43_commission;# 1달러당 수수료 계산\n",
    "k43_usd = (int) (k43_MyWon / (k43_MoneyEx + k43_ComPerOne))# 달러 구하기 (전체 금액을 환율로 나눈다)\n",
    "\n",
    "k43_totalcom = k43_usd * k43_ComPerOne;# 수수료 계산\n",
    "\n",
    "if (k43_totalcom != k43_totalcom): # 수수료 올림처리\n",
    "    k43_i_totalcom = k43_totalcom + 1\n",
    "else :\n",
    "    k43_i_totalcom = k43_totalcom\n",
    "k43_remain = (int) (k43_MyWon - k43_usd * k43_MoneyEx - k43_i_totalcom)# 잔돈계산\n",
    "print(\"***************************************************************\")\n",
    "print(\"총금액:\",k43_MyWon,\"원\",\" 달러환율:\", k43_MoneyEx,\"$\")\n",
    "print(\"지급달러:\", k43_usd, \"$\")\n",
    "print(\"거스름돈:\", k43_remain, \"원\", \" 은행수수료:\", round(k43_i_totalcom),\"원\")\n"
   ]
  },
  {
   "cell_type": "code",
   "execution_count": null,
   "id": "42b8cd19",
   "metadata": {},
   "outputs": [],
   "source": []
  }
 ],
 "metadata": {
  "kernelspec": {
   "display_name": "Python 3 (ipykernel)",
   "language": "python",
   "name": "python3"
  },
  "language_info": {
   "codemirror_mode": {
    "name": "ipython",
    "version": 3
   },
   "file_extension": ".py",
   "mimetype": "text/x-python",
   "name": "python",
   "nbconvert_exporter": "python",
   "pygments_lexer": "ipython3",
   "version": "3.10.4"
  }
 },
 "nbformat": 4,
 "nbformat_minor": 5
}
