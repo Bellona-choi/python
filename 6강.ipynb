{
 "cells": [
  {
   "cell_type": "code",
   "execution_count": 2,
   "id": "7695d110",
   "metadata": {},
   "outputs": [
    {
     "name": "stdout",
     "output_type": "stream",
     "text": [
      "2\n",
      "3\n",
      "4\n",
      "5\n"
     ]
    }
   ],
   "source": [
    "#while 반복문\n",
    "i=1\n",
    "while i < 5:#i는 5이하로 반복\n",
    "    i+=1# 돌떄마다 +1\n",
    "    print(i)"
   ]
  },
  {
   "cell_type": "code",
   "execution_count": 3,
   "id": "a9ec6278",
   "metadata": {},
   "outputs": [
    {
     "name": "stdout",
     "output_type": "stream",
     "text": [
      "sum= 5050\n"
     ]
    }
   ],
   "source": [
    "i=0 #반복 카운터\n",
    "sum=0#총합의 변수\n",
    "while i < 100:#0~99까지 실행\n",
    "    i+=1#실행 할때마다 +1\n",
    "    sum = sum + i#돌때마다 누적\n",
    "print(\"sum=\",sum)#총합 출력"
   ]
  },
  {
   "cell_type": "code",
   "execution_count": 4,
   "id": "a56f469e",
   "metadata": {},
   "outputs": [
    {
     "name": "stdout",
     "output_type": "stream",
     "text": [
      "sum= 4950\n"
     ]
    }
   ],
   "source": [
    "i=0 #반복 카운터\n",
    "sum=0#총합의 변수\n",
    "while i < 100:#0~99까지 실행\n",
    "    sum = sum + i#돌때마다 누적\n",
    "    i+=1#실행 할때마다 +1\n",
    "print(\"sum=\",sum)#총합 출력"
   ]
  },
  {
   "cell_type": "code",
   "execution_count": 5,
   "id": "2e5839eb",
   "metadata": {},
   "outputs": [
    {
     "name": "stdout",
     "output_type": "stream",
     "text": [
      "sum= 5050\n"
     ]
    }
   ],
   "source": [
    "i=0 #반복 카운터\n",
    "sum=0#총합의 변수\n",
    "while i < 101:#0~100까지 실행\n",
    "    sum = sum + i#돌때마다 누적\n",
    "    i+=1#실행 할때마다 +1\n",
    "print(\"sum=\",sum)#총합 출력"
   ]
  },
  {
   "cell_type": "code",
   "execution_count": 7,
   "id": "d2bc506e",
   "metadata": {},
   "outputs": [
    {
     "name": "stdout",
     "output_type": "stream",
     "text": [
      "a[ 0 ]자료형 <class 'str'> 값: 1\n",
      "a[ 0 ]자료형 <class 'int'> 값: 2\n",
      "a[ 0 ]자료형 <class 'str'> 값: 3\n",
      "a[ 0 ]자료형 <class 'int'> 값: 55\n"
     ]
    }
   ],
   "source": [
    "#for반복문\n",
    "i=0\n",
    "for a in[\"1\",2,\"3\",55]:#a 에 (str)1,2,(str)3,55를 대입\n",
    "    print(\"a[\",i,\"]자료형\",type(a),\"값:\",a)#a[i]자료형 type 와 a를 순서대로 출력"
   ]
  },
  {
   "cell_type": "code",
   "execution_count": 8,
   "id": "f52c3da6",
   "metadata": {},
   "outputs": [
    {
     "name": "stdout",
     "output_type": "stream",
     "text": [
      "1 ,2 ,3 ,4 ,5 ,6 ,7 ,8 ,9 ,"
     ]
    }
   ],
   "source": [
    "for i in range(1,10,1):#1~9까지 1씩 추가해준다\n",
    "    print(i,\",\",end=\"\")#i값을 넣고 넣을떄마다 마지막(end=)은 빈칸을 넣어준다"
   ]
  },
  {
   "cell_type": "code",
   "execution_count": 10,
   "id": "64f01288",
   "metadata": {},
   "outputs": [
    {
     "name": "stdout",
     "output_type": "stream",
     "text": [
      "0 ,1 ,2 ,3 ,4 ,5 ,6 ,7 ,8 ,9 ,"
     ]
    }
   ],
   "source": [
    "for i in range(10):#0~9까지\n",
    "    print(i,\",\",end=\"\")#출력"
   ]
  },
  {
   "cell_type": "code",
   "execution_count": 11,
   "id": "4323b6c3",
   "metadata": {},
   "outputs": [
    {
     "name": "stdout",
     "output_type": "stream",
     "text": [
      "1 ,2 ,3 ,4 ,5 ,6 ,7 ,8 ,9 ,"
     ]
    }
   ],
   "source": [
    "for i in range(1,10):#1~9까지\n",
    "    print(i,\",\",end=\"\")#출력"
   ]
  },
  {
   "cell_type": "code",
   "execution_count": 12,
   "id": "5e61f8b7",
   "metadata": {},
   "outputs": [
    {
     "name": "stdout",
     "output_type": "stream",
     "text": [
      "1 ,3 ,5 ,7 ,9 ,"
     ]
    }
   ],
   "source": [
    "for i in range(1,10,2):#0~9까지 2씩 더해서\n",
    "    print(i,\",\",end=\"\")#출력"
   ]
  },
  {
   "cell_type": "code",
   "execution_count": 13,
   "id": "d90181c2",
   "metadata": {},
   "outputs": [
    {
     "name": "stdout",
     "output_type": "stream",
     "text": [
      "10 ,9 ,8 ,7 ,6 ,5 ,4 ,3 ,2 ,1 ,"
     ]
    }
   ],
   "source": [
    "for i in range(10,0,-1):#10~1까지 1씩 빼서 \n",
    "    print(i,\",\",end=\"\")#출력"
   ]
  },
  {
   "cell_type": "code",
   "execution_count": 14,
   "id": "3c60ac87",
   "metadata": {},
   "outputs": [
    {
     "name": "stdout",
     "output_type": "stream",
     "text": [
      "0 ,1 ,2 ,4 ,5 ,6 ,7 ,8 ,9 ,"
     ]
    }
   ],
   "source": [
    "#제어문\n",
    "for i in range(10):#0~9까지\n",
    "    if(i==3):#만약 3이라면\n",
    "        continue#3을 넘기기\n",
    "    print(i,\",\",end=\"\")#출력"
   ]
  },
  {
   "cell_type": "code",
   "execution_count": 15,
   "id": "eac34fdc",
   "metadata": {},
   "outputs": [
    {
     "name": "stdout",
     "output_type": "stream",
     "text": [
      "i= 100 sum= 5050\n"
     ]
    }
   ],
   "source": [
    "i=0;sum=0\n",
    "while True:#문장으로 무한루프 실행\n",
    "    i+=1;sum+=i#i는 1씩 늘어나고 , sum은 i를 누적하기\n",
    "    if(i==100): break#만약 i가 100이면 반복문 탈출\n",
    "print(\"i=\",i,\"sum=\",sum)"
   ]
  },
  {
   "cell_type": "code",
   "execution_count": 16,
   "id": "06188602",
   "metadata": {},
   "outputs": [
    {
     "name": "stdout",
     "output_type": "stream",
     "text": [
      "******************************\n",
      "******************************\n",
      "******************************\n",
      "******************************\n"
     ]
    }
   ],
   "source": [
    "for i in range(1,121):#1~120까지\n",
    "    print(\"*\",end=\"\")#별을 출력\n",
    "    if(i%30==0):print(end=\"\\n\")#만약 i가 30으로 나누었을떄 나머지가 0이면 줄바꿈"
   ]
  },
  {
   "cell_type": "code",
   "execution_count": 21,
   "id": "4251c2f5",
   "metadata": {},
   "outputs": [
    {
     "name": "stdout",
     "output_type": "stream",
     "text": [
      "2 * 1 = 2\n",
      "2 * 2 = 4\n",
      "2 * 3 = 6\n",
      "2 * 4 = 8\n",
      "2 * 5 = 10\n",
      "2 * 6 = 12\n",
      "2 * 7 = 14\n",
      "2 * 8 = 16\n",
      "2 * 9 = 18\n",
      "*********************\n",
      "3 * 1 = 3\n",
      "3 * 2 = 6\n",
      "3 * 3 = 9\n",
      "3 * 4 = 12\n",
      "3 * 5 = 15\n",
      "3 * 6 = 18\n",
      "3 * 7 = 21\n",
      "3 * 8 = 24\n",
      "3 * 9 = 27\n",
      "*********************\n"
     ]
    }
   ],
   "source": [
    "#다중 반복구조\n",
    "for i in range(2,4):#너무 길어서 2,3까지 구구단\n",
    "    for j in range(1,10):#1~9까지\n",
    "        print(i,\"*\",j,\"=\",i*j)\n",
    "    print(\"*********************\")"
   ]
  },
  {
   "cell_type": "code",
   "execution_count": 22,
   "id": "8f4e8f02",
   "metadata": {},
   "outputs": [
    {
     "name": "stdout",
     "output_type": "stream",
     "text": [
      "*********\n",
      "********\n",
      "*******\n",
      "******\n",
      "*****\n",
      "****\n",
      "***\n",
      "**\n",
      "*\n"
     ]
    }
   ],
   "source": [
    "for i in range(1,10):#1~9까지의 빈칸\n",
    "    for j in range(i,10):i~9까지\n",
    "        print(\"*\",end=\"\")#별출력\n",
    "    print(end=\"\\n\")#줄바꿈"
   ]
  },
  {
   "cell_type": "code",
   "execution_count": 28,
   "id": "b7b7b74c",
   "metadata": {},
   "outputs": [
    {
     "name": "stdout",
     "output_type": "stream",
     "text": [
      "*********\n",
      "*********\n",
      "*********\n",
      "*********\n",
      "*********\n",
      "*********\n",
      "*********\n",
      "*********\n",
      "*********\n",
      "*********"
     ]
    }
   ],
   "source": [
    "i=1\n",
    "while True:\n",
    "    j=1\n",
    "    while True:\n",
    "        if(j==10): break\n",
    "        print( \"*\",end=\"\")\n",
    "        j+=1\n",
    "    if(i==10): break\n",
    "    print(end=\"\\n\")\n",
    "    i+=1"
   ]
  },
  {
   "cell_type": "code",
   "execution_count": 29,
   "id": "5b1c99bf",
   "metadata": {},
   "outputs": [
    {
     "name": "stdout",
     "output_type": "stream",
     "text": [
      "1 월 :1,2,3,4,5,6,7,8,9,10,11,12,13,14,15,16,17,18,19,20,21,22,23,24,25,26,27,28,29,30,31,\n",
      "2 월 :1,2,3,4,5,6,7,8,9,10,11,12,13,14,15,16,17,18,19,20,21,22,23,24,25,26,27,28,\n",
      "3 월 :1,2,3,4,5,6,7,8,9,10,11,12,13,14,15,16,17,18,19,20,21,22,23,24,25,26,27,28,29,30,31,\n",
      "4 월 :1,2,3,4,5,6,7,8,9,10,11,12,13,14,15,16,17,18,19,20,21,22,23,24,25,26,27,28,29,30,\n",
      "5 월 :1,2,3,4,5,6,7,8,9,10,11,12,13,14,15,16,17,18,19,20,21,22,23,24,25,26,27,28,29,30,31,\n",
      "6 월 :1,2,3,4,5,6,7,8,9,10,11,12,13,14,15,16,17,18,19,20,21,22,23,24,25,26,27,28,29,30,\n",
      "7 월 :1,2,3,4,5,6,7,8,9,10,11,12,13,14,15,16,17,18,19,20,21,22,23,24,25,26,27,28,29,30,31,\n",
      "8 월 :1,2,3,4,5,6,7,8,9,10,11,12,13,14,15,16,17,18,19,20,21,22,23,24,25,26,27,28,29,30,31,\n",
      "9 월 :1,2,3,4,5,6,7,8,9,10,11,12,13,14,15,16,17,18,19,20,21,22,23,24,25,26,27,28,29,30,\n",
      "10 월 :1,2,3,4,5,6,7,8,9,10,11,12,13,14,15,16,17,18,19,20,21,22,23,24,25,26,27,28,29,30,31,\n",
      "11 월 :1,2,3,4,5,6,7,8,9,10,11,12,13,14,15,16,17,18,19,20,21,22,23,24,25,26,27,28,29,30,\n",
      "12 월 :1,2,3,4,5,6,7,8,9,10,11,12,13,14,15,16,17,18,19,20,21,22,23,24,25,26,27,28,29,30,31,\n"
     ]
    }
   ],
   "source": [
    "#심화실습\n",
    "Mon=1\n",
    "for LastDay in [31,28,31,30,31,30,31,31,30,31,30,31]:#월별 마지막날을 배열에 넣기\n",
    "    print(Mon,\"월 :\",end=\"\")\n",
    "    for Day in range(1,LastDay+1):#배열만큼 돌리기\n",
    "        print(Day,end=\",\")\n",
    "    print(end=\"\\n\")\n",
    "    Mon+=1#월+1"
   ]
  },
  {
   "cell_type": "code",
   "execution_count": 30,
   "id": "c8a07959",
   "metadata": {},
   "outputs": [
    {
     "name": "stdout",
     "output_type": "stream",
     "text": [
      "2 * 2 = 4\t3 * 2 = 4\t4 * 2 = 4\n",
      "2 * 3 = 6\t3 * 3 = 6\t4 * 3 = 6\n",
      "2 * 4 = 8\t3 * 4 = 8\t4 * 4 = 8\n",
      "2 * 5 = 10\t3 * 5 = 10\t4 * 5 = 10\n",
      "2 * 6 = 12\t3 * 6 = 12\t4 * 6 = 12\n",
      "2 * 7 = 14\t3 * 7 = 14\t4 * 7 = 14\n",
      "2 * 8 = 16\t3 * 8 = 16\t4 * 8 = 16\n",
      "2 * 9 = 18\t3 * 9 = 18\t4 * 9 = 18\n",
      "\n",
      "5 * 2 = 10\t6 * 2 = 10\t7 * 2 = 10\n",
      "5 * 3 = 15\t6 * 3 = 15\t7 * 3 = 15\n",
      "5 * 4 = 20\t6 * 4 = 20\t7 * 4 = 20\n",
      "5 * 5 = 25\t6 * 5 = 25\t7 * 5 = 25\n",
      "5 * 6 = 30\t6 * 6 = 30\t7 * 6 = 30\n",
      "5 * 7 = 35\t6 * 7 = 35\t7 * 7 = 35\n",
      "5 * 8 = 40\t6 * 8 = 40\t7 * 8 = 40\n",
      "5 * 9 = 45\t6 * 9 = 45\t7 * 9 = 45\n",
      "\n",
      "8 * 2 = 16\t9 * 2 = 16\t\n",
      "8 * 3 = 24\t9 * 3 = 24\t\n",
      "8 * 4 = 32\t9 * 4 = 32\t\n",
      "8 * 5 = 40\t9 * 5 = 40\t\n",
      "8 * 6 = 48\t9 * 6 = 48\t\n",
      "8 * 7 = 56\t9 * 7 = 56\t\n",
      "8 * 8 = 64\t9 * 8 = 64\t\n",
      "8 * 9 = 72\t9 * 9 = 72\t\n",
      "\n"
     ]
    }
   ],
   "source": [
    "#실습 2 구구단\n",
    "for i in range(2,10,3):#2~10R까지 3씩증가\n",
    "    for j in range(2,10):#2~9까지\n",
    "        print(i,\"*\",j,\"=\",i*j,end=\"\\t\")#구구단 출력\n",
    "        print(i+1,\"*\",j,\"=\",i*j,end=\"\\t\")#i+1구구단 출력\n",
    "        if(i+2!=10): print(i+2, \"*\",j,\"=\",i*j,end=\"\\n\")\n",
    "            #만약 i+2가 10이 아니라면 우측으로 출력\n",
    "        else: print(end=\"\\n\")\n",
    "    print(end=\"\\n\")"
   ]
  },
  {
   "cell_type": "code",
   "execution_count": 34,
   "id": "6dd92c26",
   "metadata": {},
   "outputs": [
    {
     "name": "stdout",
     "output_type": "stream",
     "text": [
      "2 * 2 = 4\t5 * 2 = 4\t8 * 2 = 4\n",
      "2 * 3 = 6\t5 * 3 = 6\t8 * 3 = 6\n",
      "2 * 4 = 8\t5 * 4 = 8\t8 * 4 = 8\n",
      "2 * 5 = 10\t5 * 5 = 10\t8 * 5 = 10\n",
      "2 * 6 = 12\t5 * 6 = 12\t8 * 6 = 12\n",
      "2 * 7 = 14\t5 * 7 = 14\t8 * 7 = 14\n",
      "2 * 8 = 16\t5 * 8 = 16\t8 * 8 = 16\n",
      "2 * 9 = 18\t5 * 9 = 18\t8 * 9 = 18\n",
      "\n",
      "3 * 2 = 6\t6 * 2 = 6\t9 * 2 = 6\n",
      "3 * 3 = 9\t6 * 3 = 9\t9 * 3 = 9\n",
      "3 * 4 = 12\t6 * 4 = 12\t9 * 4 = 12\n",
      "3 * 5 = 15\t6 * 5 = 15\t9 * 5 = 15\n",
      "3 * 6 = 18\t6 * 6 = 18\t9 * 6 = 18\n",
      "3 * 7 = 21\t6 * 7 = 21\t9 * 7 = 21\n",
      "3 * 8 = 24\t6 * 8 = 24\t9 * 8 = 24\n",
      "3 * 9 = 27\t6 * 9 = 27\t9 * 9 = 27\n",
      "\n",
      "4 * 2 = 8\t7 * 2 = 8\t\n",
      "4 * 3 = 12\t7 * 3 = 12\t\n",
      "4 * 4 = 16\t7 * 4 = 16\t\n",
      "4 * 5 = 20\t7 * 5 = 20\t\n",
      "4 * 6 = 24\t7 * 6 = 24\t\n",
      "4 * 7 = 28\t7 * 7 = 28\t\n",
      "4 * 8 = 32\t7 * 8 = 32\t\n",
      "4 * 9 = 36\t7 * 9 = 36\t\n",
      "\n"
     ]
    }
   ],
   "source": [
    "#실습 3\n",
    "for i in range(2,5):#2~4까지 세로\n",
    "    for j in range(2,10):#2~9까지 구구단\n",
    "        print(i,\"*\",j,\"=\",i*j,end=\"\\t\")#i*2~9\n",
    "        print(i+3,\"*\",j,\"=\",i*j,end=\"\\t\")#가로로 +3씩\n",
    "        if(i+6!=10): print(i+6,\"*\",j,\"=\",i*j,end=\"\\n\")\n",
    "            #만약i+6이 10이 아니라면 출력 후 줄바꿈\n",
    "        else: print(end=\"\\n\")#아니라면 줄바꿈\n",
    "    print(end=\"\\n\")"
   ]
  },
  {
   "cell_type": "code",
   "execution_count": null,
   "id": "c81fd322",
   "metadata": {},
   "outputs": [],
   "source": []
  }
 ],
 "metadata": {
  "kernelspec": {
   "display_name": "Python 3 (ipykernel)",
   "language": "python",
   "name": "python3"
  },
  "language_info": {
   "codemirror_mode": {
    "name": "ipython",
    "version": 3
   },
   "file_extension": ".py",
   "mimetype": "text/x-python",
   "name": "python",
   "nbconvert_exporter": "python",
   "pygments_lexer": "ipython3",
   "version": "3.10.4"
  }
 },
 "nbformat": 4,
 "nbformat_minor": 5
}
