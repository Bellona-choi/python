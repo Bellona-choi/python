{
 "cells": [
  {
   "cell_type": "code",
   "execution_count": null,
   "id": "691ade0a",
   "metadata": {},
   "outputs": [],
   "source": [
    "struct  elevator {#구조체\n",
    "    int limit-up-floor;#최상층\n",
    "    int down-floor;#내려가는 함수\n",
    "    int floor; #현재 층\n",
    "    char help[100];\n",
    "}"
   ]
  },
  {
   "cell_type": "code",
   "execution_count": null,
   "id": "c179ec5b",
   "metadata": {},
   "outputs": [],
   "source": [
    "void main() {\n",
    "    class *myclass elevator;#클래스\n",
    "    if(올라가라는 전기 신호가 왔다면) #만약 올라가라는 전기 신호가 왔다면\n",
    "        myclass->up();# 올라간다\n",
    "    else if(내려가라는 전기 신호가 왔다면) #만약 내려가라는 전기 신호가 왔다면\n",
    "        myclass->down();#내려간다\n",
    "}"
   ]
  },
  {
   "cell_type": "code",
   "execution_count": null,
   "id": "d3afd36f",
   "metadata": {},
   "outputs": [],
   "source": []
  },
  {
   "cell_type": "code",
   "execution_count": 7,
   "id": "5630ac52",
   "metadata": {},
   "outputs": [
    {
     "name": "stdout",
     "output_type": "stream",
     "text": [
      "2층입니다\n",
      "3층입니다\n",
      "4층입니다\n",
      "5층입니다\n",
      "6층입니다\n",
      "7층입니다\n",
      "8층입니다\n",
      "9층입니다\n",
      "10층입니다\n",
      "11층입니다\n",
      "12층입니다\n",
      "13층입니다\n",
      "14층입니다\n",
      "15층입니다\n",
      "최상층 입니다\n",
      "최상층 입니다\n",
      "최상층 입니다\n",
      "최상층 입니다\n",
      "최상층 입니다\n",
      "최상층 입니다\n",
      "14층입니다\n",
      "13층입니다\n",
      "12층입니다\n",
      "11층입니다\n",
      "10층입니다\n",
      "9층입니다\n",
      "8층입니다\n",
      "7층입니다\n",
      "6층입니다\n",
      "5층입니다\n",
      "4층입니다\n",
      "3층입니다\n",
      "2층입니다\n",
      "1층입니다\n",
      "0층입니다\n",
      "최하층 입니다\n",
      "최하층 입니다\n",
      "최하층 입니다\n",
      "최하층 입니다\n",
      "최하층 입니다\n"
     ]
    }
   ],
   "source": [
    "#파이썬 클래스\n",
    "myclass = elevator(1,15,0,\"\") #(현재1층, 최저0층, 최고15층, 메시지)\n",
    "#값으로 클래스생성\n",
    "for i in range(20):  #20번 up()를 실행 \n",
    "    myclass.up()\n",
    "for i in range(20):  #20번 down()을 실 \n",
    "    myclass.down()"
   ]
  },
  {
   "cell_type": "code",
   "execution_count": 21,
   "id": "3d5d92bb",
   "metadata": {},
   "outputs": [],
   "source": [
    "class elevator:#클래스 생성\n",
    "    #self,floor,limit_up_floor,limit_down_floor,msg이란 내용의 함수 생성\n",
    "    def __init__(self,floor,limit_up_floor,limit_down_floor,msg):\n",
    "        self.floor=floor#현재층\n",
    "        self.limit_up_floor=limit_up_floor#최상층\n",
    "        self.limit_down_floor=limit_down_floor#최하층\n",
    "        self.msg=msg #현재층 +층입니다     \n",
    "    def up(self):#올라가는 함수 생성\n",
    "        if self.floor == self.limit_up_floor: #만약 현재층이 최상층이면\n",
    "            self.msg=\"최상층 입니다\"#self.msg에 최상층 입니다 넣기\n",
    "        else:#최상층이 아니라면\n",
    "            self.floor+=1#현재층 +1\n",
    "            self.msg=str(self.floor)+\"층입니다\" # self.msg에 (self.floor)+\"층입니다\" 넣기\n",
    "        print(self.msg)#self.msg 출력\n",
    "    def down(self):#아래로 내려가는 함수\n",
    "        if self.floor == self.limit_down_floor: #만약 현재층이 최하층이라면\n",
    "            self.msg=\"최하층 입니다\"#self.msg에 최하층입니다 넣기\n",
    "        else:#최하층이 아니라면\n",
    "            self.floor-=1#현재층 -1\n",
    "            self.msg=str(self.floor)+\"층입니다\" # self.msg에 (self.floor)+\"층입니다\" 넣기\n",
    "        print(self.msg)#self.msg 출력"
   ]
  },
  {
   "cell_type": "code",
   "execution_count": 8,
   "id": "b243ebc9",
   "metadata": {},
   "outputs": [
    {
     "name": "stdout",
     "output_type": "stream",
     "text": [
      "myclass->2층입니다\n",
      "yourclass->6층입니다\n",
      "myclass->3층입니다\n",
      "yourclass->7층입니다\n",
      "myclass->4층입니다\n",
      "yourclass->8층입니다\n",
      "myclass->5층입니다\n",
      "yourclass->9층입니다\n",
      "myclass->6층입니다\n",
      "yourclass->10층입니다\n",
      "myclass->7층입니다\n",
      "yourclass->최상층 입니다\n",
      "myclass->8층입니다\n",
      "yourclass->최상층 입니다\n",
      "myclass->9층입니다\n",
      "yourclass->최상층 입니다\n",
      "myclass->10층입니다\n",
      "yourclass->최상층 입니다\n",
      "myclass->11층입니다\n",
      "yourclass->최상층 입니다\n",
      "myclass->12층입니다\n",
      "yourclass->최상층 입니다\n",
      "myclass->13층입니다\n",
      "yourclass->최상층 입니다\n",
      "myclass->14층입니다\n",
      "yourclass->최상층 입니다\n",
      "myclass->15층입니다\n",
      "yourclass->최상층 입니다\n",
      "myclass->최상층 입니다\n",
      "yourclass->최상층 입니다\n",
      "myclass->최상층 입니다\n",
      "yourclass->최상층 입니다\n",
      "myclass->최상층 입니다\n",
      "yourclass->최상층 입니다\n",
      "myclass->최상층 입니다\n",
      "yourclass->최상층 입니다\n",
      "myclass->최상층 입니다\n",
      "yourclass->최상층 입니다\n",
      "myclass->최상층 입니다\n",
      "yourclass->최상층 입니다\n",
      "myclass->14층입니다\n",
      "yourclass->9층입니다\n",
      "myclass->13층입니다\n",
      "yourclass->8층입니다\n",
      "myclass->12층입니다\n",
      "yourclass->7층입니다\n",
      "myclass->11층입니다\n",
      "yourclass->6층입니다\n",
      "myclass->10층입니다\n",
      "yourclass->5층입니다\n",
      "myclass->9층입니다\n",
      "yourclass->4층입니다\n",
      "myclass->8층입니다\n",
      "yourclass->3층입니다\n",
      "myclass->7층입니다\n",
      "yourclass->2층입니다\n",
      "myclass->6층입니다\n",
      "yourclass->1층입니다\n",
      "myclass->5층입니다\n",
      "yourclass->0층입니다\n",
      "myclass->4층입니다\n",
      "yourclass->-1층입니다\n",
      "myclass->3층입니다\n",
      "yourclass->최하층 입니다\n",
      "myclass->2층입니다\n",
      "yourclass->최하층 입니다\n",
      "myclass->1층입니다\n",
      "yourclass->최하층 입니다\n",
      "myclass->0층입니다\n",
      "yourclass->최하층 입니다\n",
      "myclass->최하층 입니다\n",
      "yourclass->최하층 입니다\n",
      "myclass->최하층 입니다\n",
      "yourclass->최하층 입니다\n",
      "myclass->최하층 입니다\n",
      "yourclass->최하층 입니다\n",
      "myclass->최하층 입니다\n",
      "yourclass->최하층 입니다\n",
      "myclass->최하층 입니다\n",
      "yourclass->최하층 입니다\n"
     ]
    }
   ],
   "source": [
    "#self\n",
    "myclass = elevator(1,15,0,\"\") #(현재1층, 최저0층, 최고15층, 메시지)값으로 클래스생성 \n",
    "yourclass = elevator(5,10,-1,\"\") #(현재1층, 최저0층, 최고15층, 메시지)값으로 클래스생성\n",
    "for i in range(20):  #20번 up()를 실행 \n",
    "    print(\"myclass->\",end=\"\") \n",
    "    myclass.up()\n",
    "    print(\"yourclass->\",end=\"\")\n",
    "    yourclass.up()\n",
    "for i in range(20):  #20번 down()을 실행 \n",
    "    print(\"myclass->\",end=\"\")\n",
    "    myclass.down()\n",
    "    print(\"yourclass->\",end=\"\") \n",
    "    yourclass.down()"
   ]
  },
  {
   "cell_type": "code",
   "execution_count": null,
   "id": "ee5ea196",
   "metadata": {},
   "outputs": [],
   "source": []
  },
  {
   "cell_type": "code",
   "execution_count": 26,
   "id": "013e7dbf",
   "metadata": {},
   "outputs": [],
   "source": [
    "#생성자\n",
    "class elevator:#클래스 선언\n",
    "    def __init__(self,floor,limit_up_floor,limit_down_floor,msg):#__init__함수 정의\n",
    "        self.floor=floor#현재층\n",
    "        self.limit_up_floor=limit_up_floor#최상층\n",
    "        self.limit_down_floor=limit_down_floor#최하층\n",
    "        self.msg=msg   "
   ]
  },
  {
   "cell_type": "code",
   "execution_count": 27,
   "id": "b5c5a4f2",
   "metadata": {},
   "outputs": [],
   "source": [
    "#(현재1층, 최저0층, 최고15층, 메시지)값으로 클래스생성 \n",
    "myclass = elevator(1,15,0,\"\")\n",
    "#(현재1층, 최저0층, 최고15층, 메시지)값으로 클래스생성 \n",
    "yourclass = elevator(5,10,-1,\"\")"
   ]
  },
  {
   "cell_type": "code",
   "execution_count": 28,
   "id": "3f7411cd",
   "metadata": {},
   "outputs": [],
   "source": [
    "class elevator:#클래스 생성\n",
    "    #self,floor,limit_up_floor,limit_down_floor,msg이란 내용의 함수 생성\n",
    "    def __init__(self,floor,limit_up_floor,limit_down_floor,msg):\n",
    "        self.floor=floor#현재층\n",
    "        self.limit_up_floor=limit_up_floor#최상층\n",
    "        self.limit_down_floor=limit_down_floor#최하층\n",
    "        self.msg=msg #현재층 +층입니다     \n",
    "    def up(self):#올라가는 함수 생성\n",
    "        if self.floor == self.limit_up_floor: #만약 현재층이 최상층이면\n",
    "            self.msg=\"최상층 입니다\"#self.msg에 최상층 입니다 넣기\n",
    "        else:#최상층이 아니라면\n",
    "            self.floor+=1#현재층 +1\n",
    "            self.msg=str(self.floor)+\"층입니다\" # self.msg에 (self.floor)+\"층입니다\" 넣기\n",
    "        print(self.msg)#self.msg 출력\n",
    "    def down(self):#아래로 내려가는 함수\n",
    "        if self.floor == self.limit_down_floor: #만약 현재층이 최하층이라면\n",
    "            self.msg=\"최하층 입니다\"#self.msg에 최하층입니다 넣기\n",
    "        else:#최하층이 아니라면\n",
    "            self.floor-=1#현재층 -1\n",
    "            self.msg=str(self.floor)+\"층입니다\" # self.msg에 (self.floor)+\"층입니다\" 넣기\n",
    "        print(self.msg)#self.msg 출력"
   ]
  },
  {
   "cell_type": "code",
   "execution_count": 29,
   "id": "b711187b",
   "metadata": {},
   "outputs": [],
   "source": [
    "#상속\n",
    "class s_elevator(elevator):\n",
    "    def __init__(self):#상속\n",
    "        super().__init__(1,15,0,\"\")#현재 1층 최고층은 15 최하층은 0\n",
    "    def up(self):#올라가는 함수\n",
    "        super().up() \n",
    "        super().up()\n",
    "    def down(self): #내려가는 함수\n",
    "        super().down() \n",
    "        super().down()"
   ]
  },
  {
   "cell_type": "code",
   "execution_count": 30,
   "id": "b13ced13",
   "metadata": {},
   "outputs": [
    {
     "name": "stdout",
     "output_type": "stream",
     "text": [
      "2층입니다\n",
      "3층입니다\n",
      "2층입니다\n",
      "1층입니다\n",
      "2층입니다\n",
      "3층입니다\n",
      "2층입니다\n",
      "1층입니다\n",
      "2층입니다\n",
      "3층입니다\n",
      "2층입니다\n",
      "1층입니다\n",
      "2층입니다\n",
      "3층입니다\n",
      "2층입니다\n",
      "1층입니다\n",
      "2층입니다\n",
      "3층입니다\n",
      "2층입니다\n",
      "1층입니다\n",
      "2층입니다\n",
      "3층입니다\n",
      "2층입니다\n",
      "1층입니다\n",
      "2층입니다\n",
      "3층입니다\n",
      "2층입니다\n",
      "1층입니다\n",
      "2층입니다\n",
      "3층입니다\n",
      "2층입니다\n",
      "1층입니다\n",
      "2층입니다\n",
      "3층입니다\n",
      "2층입니다\n",
      "1층입니다\n",
      "2층입니다\n",
      "3층입니다\n",
      "2층입니다\n",
      "1층입니다\n",
      "2층입니다\n",
      "3층입니다\n",
      "2층입니다\n",
      "1층입니다\n",
      "2층입니다\n",
      "3층입니다\n",
      "2층입니다\n",
      "1층입니다\n",
      "2층입니다\n",
      "3층입니다\n",
      "2층입니다\n",
      "1층입니다\n",
      "2층입니다\n",
      "3층입니다\n",
      "2층입니다\n",
      "1층입니다\n",
      "2층입니다\n",
      "3층입니다\n",
      "2층입니다\n",
      "1층입니다\n",
      "2층입니다\n",
      "3층입니다\n",
      "2층입니다\n",
      "1층입니다\n",
      "2층입니다\n",
      "3층입니다\n",
      "2층입니다\n",
      "1층입니다\n",
      "2층입니다\n",
      "3층입니다\n",
      "2층입니다\n",
      "1층입니다\n",
      "2층입니다\n",
      "3층입니다\n",
      "2층입니다\n",
      "1층입니다\n",
      "2층입니다\n",
      "3층입니다\n",
      "2층입니다\n",
      "1층입니다\n"
     ]
    }
   ],
   "source": [
    "myclass = s_elevator()#myclass = s_elevator이라고 선언\n",
    "for i in range(20):#20번 up()를 실행 \n",
    "    myclass.up()\n",
    "    myclass.down()"
   ]
  },
  {
   "cell_type": "code",
   "execution_count": 31,
   "id": "10b911f0",
   "metadata": {},
   "outputs": [
    {
     "name": "stdout",
     "output_type": "stream",
     "text": [
      "3125\n"
     ]
    }
   ],
   "source": [
    "#정보은닉\n",
    "class multibox:#클래스 선언\n",
    "    def __init__(self,multi):#생성자선언\n",
    "        self.multi=multi\n",
    "    def getnumber(self):#getnumber제곱 계산함수 값을 리턴\n",
    "        return self.num**self.multi \n",
    "    def setnumber(self,num):#setnumber에서 사용할 값 받기\n",
    "        self.num=num\n",
    "m=multibox(5)#5승 입력\n",
    "m.setnumber(5) \n",
    "print(m.getnumber())"
   ]
  },
  {
   "cell_type": "code",
   "execution_count": 38,
   "id": "d2e9a511",
   "metadata": {},
   "outputs": [
    {
     "name": "stdout",
     "output_type": "stream",
     "text": [
      "3125\n"
     ]
    }
   ],
   "source": [
    "class multibox:\n",
    "    def __init__(self,multi):#생성자선언\n",
    "        self.multi=multi\n",
    "    def getnumber(self):#getnumber제곱 계산함수 값을 리턴\n",
    "        return self.num**self.multi \n",
    "    def setnumber(self,num):#setnumber에서 사용할 값 받기\n",
    "        self.num=num\n",
    "    number=property(getnumber,setnumber)\n",
    "m=multibox(5) #5승 입력\n",
    "m.number=5 \n",
    "print(m.number)"
   ]
  },
  {
   "cell_type": "code",
   "execution_count": null,
   "id": "deab7bcf",
   "metadata": {},
   "outputs": [],
   "source": []
  },
  {
   "cell_type": "code",
   "execution_count": 39,
   "id": "2ed69a26",
   "metadata": {},
   "outputs": [
    {
     "name": "stdout",
     "output_type": "stream",
     "text": [
      "이 클래스는 아무런 일도 하지 않는다\n",
      "이 클래스는 아무런 일도 하지 않는다\n"
     ]
    }
   ],
   "source": [
    "#정적 메서드\n",
    "class myclass: #클래스 선언\n",
    "    cnt=0 \n",
    "    def __init__(self):#함수선언 \n",
    "        myclass.cnt+=1 \n",
    "    @staticmethod #데코레이터\n",
    "    def helf():#함수선언\n",
    "        print(\"이 클래스는 아무런 일도 하지 않는다\")#출력\n",
    "myclass.helf() \n",
    "a=myclass() \n",
    "myclass.helf()"
   ]
  },
  {
   "cell_type": "code",
   "execution_count": 40,
   "id": "b2a8b9c0",
   "metadata": {},
   "outputs": [
    {
     "name": "stdout",
     "output_type": "stream",
     "text": [
      "defabc\n"
     ]
    }
   ],
   "source": [
    "#연산자 메서드\n",
    "class mystr:\n",
    "    def __init__(self,s): #함수선언\n",
    "        self.s=s\n",
    "    def __add__(self, other): # 클래스간 +연산자를 정의 \n",
    "        return other.s + self.s # 문자간 연산을 반대로 수행\n",
    "a = mystr(\"abc\") \n",
    "b = mystr(\"def\")\n",
    "print(a+b)"
   ]
  },
  {
   "cell_type": "code",
   "execution_count": null,
   "id": "6faeb447",
   "metadata": {},
   "outputs": [],
   "source": []
  },
  {
   "cell_type": "code",
   "execution_count": 41,
   "id": "9df029b0",
   "metadata": {},
   "outputs": [
    {
     "name": "stdout",
     "output_type": "stream",
     "text": [
      "9.99999999999998\n"
     ]
    }
   ],
   "source": [
    "#Decimal\n",
    "#0.1을 100번 더하면 10이지만 오차발생\n",
    "sum=0\n",
    "for i in range(100): #100번 반복\n",
    "    sum+=0.1\n",
    "print(sum)"
   ]
  },
  {
   "cell_type": "code",
   "execution_count": 42,
   "id": "059fd36c",
   "metadata": {},
   "outputs": [
    {
     "name": "stdout",
     "output_type": "stream",
     "text": [
      "0.1 => 9.99999999999998\n",
      "0.1000000000000000055511151231257827021181583404541015625 => 10.00000000000000055511151230\n",
      "0.1 => 10.0\n"
     ]
    }
   ],
   "source": [
    "from decimal import Decimal \n",
    "a_sum=0;b_sum=0;c_sum=0 \n",
    "\n",
    "a=0.1\n",
    "b=Decimal(a)\n",
    "c=Decimal(\"0.1\") \n",
    "for i in range(100):#100번 반복\n",
    "    a_sum+=a \n",
    "    b_sum+=b \n",
    "    c_sum+=c\n",
    "print(a,\"=>\",a_sum)\n",
    "print(b,\"=>\",b_sum)\n",
    "print(c,\"=>\",c_sum)"
   ]
  },
  {
   "cell_type": "code",
   "execution_count": 43,
   "id": "4709e0f9",
   "metadata": {},
   "outputs": [
    {
     "name": "stdout",
     "output_type": "stream",
     "text": [
      "2/3 + 1/2 = 7/6\n",
      "2/3 * 1/2 = 1/3\n",
      "2/3 * 1.5 = 2.1666666666666665\n"
     ]
    }
   ],
   "source": [
    "#Fraction\n",
    "from fractions import * \n",
    "a=Fraction(2,3) #3분의 2\n",
    "b=Fraction(5,10) #10분의 5로 약분되어 1/2\n",
    "print(a,\"+\",b,\"=\",a+b)\n",
    "print(a,\"*\",b,\"=\",a*b)\n",
    "print(a,\"*\",1.5,\"=\",a+1.5)"
   ]
  }
 ],
 "metadata": {
  "kernelspec": {
   "display_name": "Python 3 (ipykernel)",
   "language": "python",
   "name": "python3"
  },
  "language_info": {
   "codemirror_mode": {
    "name": "ipython",
    "version": 3
   },
   "file_extension": ".py",
   "mimetype": "text/x-python",
   "name": "python",
   "nbconvert_exporter": "python",
   "pygments_lexer": "ipython3",
   "version": "3.10.4"
  }
 },
 "nbformat": 4,
 "nbformat_minor": 5
}
