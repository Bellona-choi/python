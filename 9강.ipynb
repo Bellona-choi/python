{
 "cells": [
  {
   "cell_type": "code",
   "execution_count": 1,
   "id": "ec3339ae",
   "metadata": {},
   "outputs": [
    {
     "data": {
      "text/plain": [
       "'홍길동'"
      ]
     },
     "execution_count": 1,
     "metadata": {},
     "output_type": "execute_result"
    }
   ],
   "source": [
    "#딕셔너리의 정의\n",
    "a={\"이름\":\"홍길동\",\"국어\":100,\"영어\":88,\"수학\": 95}\n",
    "a[\"수학\"]#수학이라는 키를 방식으로 95점 출력\n",
    "a[\"이름\"]#이름이라는 키를 방식으로 홍길동 출력"
   ]
  },
  {
   "cell_type": "code",
   "execution_count": 3,
   "id": "644c0b77",
   "metadata": {},
   "outputs": [
    {
     "name": "stdout",
     "output_type": "stream",
     "text": [
      "dict_keys(['이름', '국어', '영어', '수학'])\n",
      "dict_values(['홍길동', 100, 88, 95])\n",
      "dict_items([('이름', '홍길동'), ('국어', 100), ('영어', 88), ('수학', 95)])\n"
     ]
    }
   ],
   "source": [
    "print(a.keys())#키값만 출력\n",
    "print(a.values())#벨류값만 출력\n",
    "print(a.items())#키,벨류 둘다 출력"
   ]
  },
  {
   "cell_type": "code",
   "execution_count": 7,
   "id": "78860be3",
   "metadata": {},
   "outputs": [
    {
     "name": "stdout",
     "output_type": "stream",
     "text": [
      "('이름', '홍길동'),('국어', 100),('영어', 88),('수학', 95),\n",
      "\n",
      "이름,국어,영어,수학,\n",
      "\n",
      "홍길동,100,88,95,"
     ]
    }
   ],
   "source": [
    "a={\"이름\":\"홍길동\", \"국어\":100, \"영어\":88, \"수학\": 95} \n",
    "for i in a.items():#키,벨류 둘다 출력\n",
    "    print(i,end=\",\")\n",
    "print(\"\\n\")\n",
    "for i in a.keys():#키값만 출력\n",
    "    print(i,end=\",\") \n",
    "print(\"\\n\")\n",
    "for i in a.values():#벨류값만 출력\n",
    "    print(i,end=\",\") "
   ]
  },
  {
   "cell_type": "code",
   "execution_count": 8,
   "id": "7c91a805",
   "metadata": {},
   "outputs": [
    {
     "name": "stdout",
     "output_type": "stream",
     "text": [
      "None\n",
      "없는과목입니다\n",
      "95\n"
     ]
    }
   ],
   "source": [
    "a={\"이름\":\"홍길동\", \"국어\":100, \"영어\":88, \"수학\": 95} \n",
    "print(a.get(\"과학\"))#과학의 벨류값 출력 하지만 과학이 없어서 넌값 출력\n",
    "print(a.get(\"과학\",\"없는과목입니다\")) \n",
    "#과학의 벨류값 출력 하지만 과학이 없으면 없는과목입니다 출력\n",
    "print(a.get(\"수학\",\"없는과목입니다\"))\n",
    "#수학의 벨류값 출력 하지만 수학이 없으면 없는과목입니다 출력"
   ]
  },
  {
   "cell_type": "code",
   "execution_count": 9,
   "id": "dadd8088",
   "metadata": {},
   "outputs": [
    {
     "name": "stdout",
     "output_type": "stream",
     "text": [
      "{'안': 1, '녕': 1, '하': 1, '셔': 1, '요': 1, '.': 1, '오': 1, '늘': 1, '은': 1, ' ': 1, '날': 1, '씨': 1, '가': 1, '매': 1, '우': 1, '화': 1, '창': 1, '합': 1, '니': 1, '다': 1, '\\n': 1, '그': 1, '래': 1, '서': 1, '기': 1, '분': 1, '이': 1, '좋': 1, '네': 1, '너': 1, '도': 1, '?': 1, '랄': 1, '라': 1, 'a': 1, 'b': 1, 'c': 1, '임': 1, '마': 2}\n"
     ]
    }
   ],
   "source": [
    "#딕셔너리 예제\n",
    "text=\"\"\"안녕하셔요.오늘은 날씨가 매우 화창합니다.\n",
    "그래서 기분이 매우 좋네요\n",
    "너도 기분이 좋은가요? 랄라랄랄라라라라라라 abc임마\"\"\" \n",
    "a=dict()#딕셔너리 정의\n",
    "for c in text:#위에 정의한 텍스트를 하나씩 추출하여 처리\n",
    "    if c not in a:#추출글자가 지금까지의 딕셔너리에 없다면 \n",
    "        a[c]=1#그때는 최초 1값으로 시작\n",
    "else: #이 경우는 해당 추출글자의 딕셔너리가 있다면 \n",
    "    a[c] +=1#그럼 해당 딕셔너리 키에 해당되는 값을 하나더함\n",
    "print(a)"
   ]
  },
  {
   "cell_type": "code",
   "execution_count": 10,
   "id": "6ae94378",
   "metadata": {},
   "outputs": [
    {
     "name": "stdout",
     "output_type": "stream",
     "text": [
      "{'\\n': 1, ' ': 1, '.': 1, '?': 1, 'a': 1, 'b': 1, 'c': 1, '가': 1, '그': 1, '기': 1, '날': 1, '너': 1, '네': 1, '녕': 1, '늘': 1, '니': 1, '다': 1, '도': 1, '라': 1, '랄': 1, '래': 1, '마': 2, '매': 1, '분': 1, '서': 1, '셔': 1, '씨': 1, '안': 1, '오': 1, '요': 1, '우': 1, '은': 1, '이': 1, '임': 1, '좋': 1, '창': 1, '하': 1, '합': 1, '화': 1}\n"
     ]
    }
   ],
   "source": [
    "b=dict()#딕셔너리 정의\n",
    "l=list(a.keys())#a딕서너리에 키만 뽑아 리스트를 만든다 \n",
    "l.sort()#해당 리스트 내림차순\n",
    "for c in l:#각 리스트에 대하여 키값을 하나씩 뽑음 \n",
    "    b[c]=a[c]#새로운 딕셔너리는 키값 순서데로 다시 만든다\n",
    "print(b)"
   ]
  },
  {
   "cell_type": "code",
   "execution_count": 13,
   "id": "f53a84bd",
   "metadata": {},
   "outputs": [
    {
     "name": "stdout",
     "output_type": "stream",
     "text": [
      "{1, 2, 3, 4, 5}\n",
      "{1, 2, 'a'}\n",
      "{'a'}\n",
      "{'국어', '수학', '영어', '이름'}\n"
     ]
    }
   ],
   "source": [
    "#집합의 정의\n",
    "a={1,2,2,2,2,3,3,3,4,5} \n",
    "print(a)\n",
    "print(set((\"a\",1,2)))\n",
    "print(set(\"a\"))\n",
    "print(set({\"이름\":\"홍길동\", \"국어\":100, \"영어\":88, \"수학\": 95}))"
   ]
  },
  {
   "cell_type": "code",
   "execution_count": 14,
   "id": "82bd638f",
   "metadata": {},
   "outputs": [
    {
     "name": "stdout",
     "output_type": "stream",
     "text": [
      "{1, 2, 3, 4, 5}\n",
      "{0, 1, 2, 3, 4, 5}\n",
      "{0, 1, 2, 3, 4, 5, 2.4}\n",
      "{0, 1, 2, 4, 5, 2.4}\n"
     ]
    }
   ],
   "source": [
    "a={1,2,3,4,5} \n",
    "print(a)\n",
    "a.add(0)#a에 0추가\n",
    "print(a)\n",
    "a.add(2.4) #a에 2.4 추가\n",
    "print(a)\n",
    "a.remove(3)#a에 있는 4번째 요소 제거\n",
    "print(a)"
   ]
  },
  {
   "cell_type": "code",
   "execution_count": 15,
   "id": "b62a6ebd",
   "metadata": {},
   "outputs": [
    {
     "name": "stdout",
     "output_type": "stream",
     "text": [
      "{1, 2, 3, 4, 5, 6, 7, 8, 9, 10}\n",
      "{7}\n",
      "{1, 2, 3, 4, 5, 6}\n"
     ]
    }
   ],
   "source": [
    "A={1,2,3,4,5,6,7}\n",
    "B={7,8,9,10}\n",
    "print(A|B)#A,B의 합집합\n",
    "print(A&B)#A,B의 교집합\n",
    "print(A-B)#A,B의 차집합"
   ]
  },
  {
   "cell_type": "code",
   "execution_count": 16,
   "id": "dd7819dd",
   "metadata": {},
   "outputs": [
    {
     "name": "stdout",
     "output_type": "stream",
     "text": [
      "False\n",
      "True\n",
      "True\n",
      "False\n",
      "True\n",
      "True\n"
     ]
    }
   ],
   "source": [
    "print({1,2,3} < {1,2})\n",
    "print({1,2,3} > {1,2})\n",
    "print({1,2,3} >= {1,2})\n",
    "print({1,2,3} == {1,2})\n",
    "print({1,2,3} >= {3,1,2})\n",
    "print({1,2,3} == {3,1,2})"
   ]
  },
  {
   "cell_type": "code",
   "execution_count": 18,
   "id": "6ef8338d",
   "metadata": {},
   "outputs": [
    {
     "data": {
      "text/plain": [
       "{0: 'a', 1: 'b', 2: 'c', 3: 'd', 4: 'e'}"
      ]
     },
     "execution_count": 18,
     "metadata": {},
     "output_type": "execute_result"
    }
   ],
   "source": [
    "#컬렉션으로 변환\n",
    "a=[\"a\",\"b\",\"c\",\"d\",\"e\"] \n",
    "b={}\n",
    "for i in range (len(a)):\n",
    "    b[i]=a[i]#a는 리스트 b는 딕셔너리 \n",
    "b"
   ]
  },
  {
   "cell_type": "code",
   "execution_count": 20,
   "id": "171d7248",
   "metadata": {},
   "outputs": [
    {
     "name": "stdout",
     "output_type": "stream",
     "text": [
      "<enumerate object at 0x000002A02DF27500>\n",
      "{0: 'a', 1: 'b', 2: 'c', 3: 'd', 4: 'e'}\n",
      "[(0, 'a'), (1, 'b'), (2, 'c'), (3, 'd'), (4, 'e')]\n"
     ]
    }
   ],
   "source": [
    "a=[\"a\",\"b\",\"c\",\"d\",\"e\"]\n",
    "b=enumerate(a) \n",
    "print(b) \n",
    "b=dict(enumerate(a)); c=list(enumerate(a)) #딕셔너리와 리스트를 만든다 \n",
    "print(b)\n",
    "print(c)"
   ]
  },
  {
   "cell_type": "code",
   "execution_count": 22,
   "id": "58d9b395",
   "metadata": {},
   "outputs": [
    {
     "name": "stdout",
     "output_type": "stream",
     "text": [
      "<zip object at 0x000002A02DF2CC40>\n",
      "{1: 'e', 2: 'c', 3: 'a', 4: 'd', 5: 'b'}\n",
      "[(1, 'e'), (2, 'c'), (3, 'a'), (4, 'd'), (5, 'b')]\n",
      "{1: 'a', 2: 'b', 3: 'c', 4: 'd', 5: 'e'}\n",
      "[(1, 'a'), (2, 'b'), (3, 'c'), (4, 'd'), (5, 'e')]\n"
     ]
    }
   ],
   "source": [
    "a={1,2,3,4,5,6,7,8}#집합\n",
    "b={\"a\",\"b\",\"c\",\"d\",\"e\"}#집합\n",
    "print(zip(a,b))#zip만으로는 단순히 object임\n",
    "c=dict(zip(a,b));d=list(zip(a,b)) \n",
    "print(c)\n",
    "print(d)\n",
    "a=(1,2,3,4,5,6,7,8) #튜플a\n",
    "b=[\"a\",\"b\",\"c\",\"d\",\"e\"] #리스트 \n",
    "c=dict(zip(a,b));d=list(zip(a,b)) \n",
    "print(c)\n",
    "print(d)"
   ]
  },
  {
   "cell_type": "code",
   "execution_count": 23,
   "id": "c9b24526",
   "metadata": {},
   "outputs": [
    {
     "name": "stdout",
     "output_type": "stream",
     "text": [
      "1\n",
      "2\n",
      "3\n",
      "4\n",
      "5\n",
      "6\n"
     ]
    }
   ],
   "source": [
    "#함수인자에 컬렉션 값을 차례로 대입\n",
    "def func(x):\n",
    "    return x/2\n",
    "x=(1,2,3,4,5,6)\n",
    "for i in filter(func,x):#func에 x를 대입\n",
    "    print(i)"
   ]
  },
  {
   "cell_type": "code",
   "execution_count": 24,
   "id": "9c55afb5",
   "metadata": {},
   "outputs": [
    {
     "name": "stdout",
     "output_type": "stream",
     "text": [
      "8\n",
      "10\n",
      "12\n",
      "14\n",
      "16\n",
      "18\n"
     ]
    }
   ],
   "source": [
    "def func(x,y):\n",
    "    return x+y \n",
    "\n",
    "x=(1,2,3,4,5,6)\n",
    "y=(7,8,9,10,11,12) \n",
    "for i in map(func,x,y): #filter를 사용하면 안된다\n",
    "    print(i)"
   ]
  },
  {
   "cell_type": "code",
   "execution_count": 25,
   "id": "2bb6a995",
   "metadata": {},
   "outputs": [
    {
     "name": "stdout",
     "output_type": "stream",
     "text": [
      "8\n",
      "10\n",
      "12\n",
      "14\n",
      "16\n",
      "18\n"
     ]
    }
   ],
   "source": [
    "x=(1,2,3,4,5,6)\n",
    "y=(7,8,9,10,11,12) \n",
    "for i in map(lambda x,y:x+y,x,y):\n",
    "    print(i)"
   ]
  },
  {
   "cell_type": "code",
   "execution_count": 27,
   "id": "16b04789",
   "metadata": {},
   "outputs": [
    {
     "name": "stdout",
     "output_type": "stream",
     "text": [
      "[1, 2, 5]\n",
      "[1, 2, 5]\n",
      "[1, 3, 5]\n"
     ]
    }
   ],
   "source": [
    "#컬렉션 주의사항\n",
    "a=[1,2,3] \n",
    "b=a #b는 a라고 선언\n",
    "b[2]=5 #b의 3번째 요소를 5이라고 선언\n",
    "print(a)#b의 3번째 요소를 5라고 선언해서 a의3번째요소도 5으로 바뀜\n",
    "print(b)\n",
    "b[1]=3 #b의 2번쨰 요소가 3이라고 선언\n",
    "print(a)#b의 2번쨰요소가 3이라고 선언해서 b의 2번쨰 요소도 3으로 바뀜"
   ]
  },
  {
   "cell_type": "code",
   "execution_count": 43,
   "id": "f13707f2",
   "metadata": {},
   "outputs": [
    {
     "name": "stdout",
     "output_type": "stream",
     "text": [
      "[1, 2, 3] \n",
      " [1, 2, 5]\n"
     ]
    }
   ],
   "source": [
    "a=[1,2,3] \n",
    "b=a[:] \n",
    "b[2]=5 \n",
    "print(a,\"\\n\",b)"
   ]
  },
  {
   "cell_type": "code",
   "execution_count": 44,
   "id": "c0b935bd",
   "metadata": {},
   "outputs": [
    {
     "name": "stdout",
     "output_type": "stream",
     "text": [
      "[1, 2, 3] \n",
      " [1, 2, 5]\n"
     ]
    }
   ],
   "source": [
    "a=[1,2,3] \n",
    "b=a.copy() \n",
    "b[2]=5 \n",
    "print(a,\"\\n\",b)"
   ]
  },
  {
   "cell_type": "code",
   "execution_count": 46,
   "id": "285e85dd",
   "metadata": {},
   "outputs": [
    {
     "name": "stdout",
     "output_type": "stream",
     "text": [
      "[[1, 2], 3, 4]\n",
      "[[1, 3], 3, 4]\n",
      "[[1, 3], 3, 4]\n",
      "[[1, 2], 3, 4]\n",
      "[[1, 3], 3, 4]\n"
     ]
    }
   ],
   "source": [
    "a=[[1,2],3,4] \n",
    "b=a.copy() \n",
    "print(b)\n",
    "b[0][1]=3 \n",
    "print(b)\n",
    "print(a)\n",
    "a=[[1,2],3,4] \n",
    "b=a[:]\n",
    "print(b)\n",
    "b[0][1]=3 \n",
    "print(a)"
   ]
  },
  {
   "cell_type": "code",
   "execution_count": 47,
   "id": "be24e648",
   "metadata": {},
   "outputs": [
    {
     "name": "stdout",
     "output_type": "stream",
     "text": [
      "[[1, 2], 3, 4] [[1, 3], 3, 4]\n"
     ]
    }
   ],
   "source": [
    "import copy as c \n",
    "a=[[1,2],3,4]\n",
    "b=c.deepcopy(a) \n",
    "b[0][1]=3\n",
    "print(a,b)"
   ]
  }
 ],
 "metadata": {
  "kernelspec": {
   "display_name": "Python 3 (ipykernel)",
   "language": "python",
   "name": "python3"
  },
  "language_info": {
   "codemirror_mode": {
    "name": "ipython",
    "version": 3
   },
   "file_extension": ".py",
   "mimetype": "text/x-python",
   "name": "python",
   "nbconvert_exporter": "python",
   "pygments_lexer": "ipython3",
   "version": "3.10.4"
  }
 },
 "nbformat": 4,
 "nbformat_minor": 5
}
