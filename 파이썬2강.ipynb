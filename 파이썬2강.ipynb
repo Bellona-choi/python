{
 "cells": [
  {
   "cell_type": "code",
   "execution_count": 32,
   "id": "58846c66",
   "metadata": {},
   "outputs": [
    {
     "name": "stdout",
     "output_type": "stream",
     "text": [
      "3\n",
      "3\n"
     ]
    }
   ],
   "source": [
    "a=1\n",
    "b=2\n",
    "a+b\n",
    "print(a+b)\n",
    "1+2\n",
    "print(1+2)"
   ]
  },
  {
   "cell_type": "code",
   "execution_count": 33,
   "id": "f9a8d9db",
   "metadata": {},
   "outputs": [
    {
     "name": "stdout",
     "output_type": "stream",
     "text": [
      "아침 점심 저녁\n",
      "아침먹고 점심먹고 저녁\n",
      "아침먹고 점심먹고 저녁땡"
     ]
    }
   ],
   "source": [
    "a=\"아침\"\n",
    "b=\"점심\"\n",
    "c=\"저녁\"\n",
    "print(a,b,c)\n",
    "print(a,b,c, sep=\"먹고 \")\n",
    "print(a,b,c, sep=\"먹고 \" ,end=\"땡\")"
   ]
  },
  {
   "cell_type": "code",
   "execution_count": 34,
   "id": "c373f3c8",
   "metadata": {},
   "outputs": [
    {
     "name": "stdout",
     "output_type": "stream",
     "text": [
      "아침 점심 저녁\n",
      "아침먹고 점심먹고 저녁\n",
      "아침먹고 점심먹고 저녁아침자고 점심자고 저녁아침먹고 점심먹고 저녁\n",
      "아침자고 점심자고 저녁\n"
     ]
    }
   ],
   "source": [
    "a=\"아침\"\n",
    "b=\"점심\"\n",
    "c=\"저녁\"\n",
    "print(a,b,c)\n",
    "print(a,b,c, sep=\"먹고 \")\n",
    "print(a,b,c, sep=\"먹고 \" ,end=\"\")\n",
    "print(a,b,c, sep=\"자고 \" ,end=\"\")\n",
    "print(a,b,c, sep=\"먹고 \" ,end=\"\\n\")\n",
    "print(a,b,c, sep=\"자고 \" ,end=\"\\n\")"
   ]
  },
  {
   "cell_type": "code",
   "execution_count": 35,
   "id": "bcda5afa",
   "metadata": {},
   "outputs": [
    {
     "name": "stdout",
     "output_type": "stream",
     "text": [
      "22+33=55\n"
     ]
    }
   ],
   "source": [
    "a=22\n",
    "b=33\n",
    "print(a,b, sep=\"+\" ,end=\"=\")\n",
    "print(a+b)"
   ]
  },
  {
   "cell_type": "code",
   "execution_count": 37,
   "id": "404de495",
   "metadata": {},
   "outputs": [
    {
     "name": "stdout",
     "output_type": "stream",
     "text": [
      "너의 이름이 뭐니?홍길동\n",
      "이름이 홍길동 입니다\n",
      "너는 몇 살이니?12\n",
      "나이가 12 살 입니다\n"
     ]
    }
   ],
   "source": [
    "a= input(\"너의 이름이 뭐니?\")\n",
    "print(\"이름이\",a,\"입니다\")\n",
    "b= input(\"너는 몇 살이니?\")\n",
    "print(\"나이가\",b,\"살 입니다\")"
   ]
  },
  {
   "cell_type": "code",
   "execution_count": 39,
   "id": "59c0798e",
   "metadata": {},
   "outputs": [
    {
     "name": "stdout",
     "output_type": "stream",
     "text": [
      "a값을 입력하세요?1\n",
      "b값을 입력하세요?2\n",
      "1+2=12\n",
      "수치 계산:3\n"
     ]
    }
   ],
   "source": [
    "a=input(\"a값을 입력하세요?\")\n",
    "b=input(\"b값을 입력하세요?\")\n",
    "print(a,b, sep=\"+\",end=\"=\")\n",
    "print(a+b)\n",
    "print(\"수치 계산\", end =\":\")\n",
    "print(int(a)+int(b))"
   ]
  },
  {
   "cell_type": "code",
   "execution_count": 40,
   "id": "c7d2a5a9",
   "metadata": {},
   "outputs": [
    {
     "name": "stdout",
     "output_type": "stream",
     "text": [
      "품목?초코파이\n",
      "수량?10\n",
      "단가?100\n",
      "초코파이  :  10 개 *  100 원 = 총  1000 원\n"
     ]
    }
   ],
   "source": [
    "a=input(\"품목?\")\n",
    "b=int(input(\"수량?\"))\n",
    "c=int(input(\"단가?\"))\n",
    "print(a, \" : \",b,\"개 * \",c,\"원 = 총 \", b*c, \"원\")"
   ]
  },
  {
   "cell_type": "code",
   "execution_count": 41,
   "id": "61a2713e",
   "metadata": {},
   "outputs": [
    {
     "name": "stdout",
     "output_type": "stream",
     "text": [
      "1\n",
      "2\n",
      "3\n",
      "2\n"
     ]
    }
   ],
   "source": [
    "a=1\n",
    "print(a)\n",
    "\n",
    "a=2\n",
    "print(a)\n",
    "\n",
    "b=3\n",
    "print(b)\n",
    "\n",
    "print(a)\n"
   ]
  },
  {
   "cell_type": "code",
   "execution_count": 44,
   "id": "78053040",
   "metadata": {},
   "outputs": [
    {
     "name": "stdout",
     "output_type": "stream",
     "text": [
      "1122\n",
      "hello\n"
     ]
    },
    {
     "data": {
      "text/plain": [
       "str"
      ]
     },
     "execution_count": 44,
     "metadata": {},
     "output_type": "execute_result"
    }
   ],
   "source": [
    "a=1122;print(a);type(a)\n",
    "b=\"hello\";print(b);type(b)\n"
   ]
  },
  {
   "cell_type": "code",
   "execution_count": 45,
   "id": "0928c3b7",
   "metadata": {},
   "outputs": [
    {
     "name": "stdout",
     "output_type": "stream",
     "text": [
      "1122\n",
      "11\n"
     ]
    },
    {
     "ename": "NameError",
     "evalue": "name 'a' is not defined",
     "output_type": "error",
     "traceback": [
      "\u001b[1;31m---------------------------------------------------------------------------\u001b[0m",
      "\u001b[1;31mNameError\u001b[0m                                 Traceback (most recent call last)",
      "Input \u001b[1;32mIn [45]\u001b[0m, in \u001b[0;36m<cell line: 5>\u001b[1;34m()\u001b[0m\n\u001b[0;32m      2\u001b[0m a\u001b[38;5;241m=\u001b[39m\u001b[38;5;241m11\u001b[39m;\u001b[38;5;28mprint\u001b[39m(a)\n\u001b[0;32m      4\u001b[0m \u001b[38;5;28;01mdel\u001b[39;00m a\n\u001b[1;32m----> 5\u001b[0m \u001b[38;5;28mprint\u001b[39m(\u001b[43ma\u001b[49m)\n",
      "\u001b[1;31mNameError\u001b[0m: name 'a' is not defined"
     ]
    }
   ],
   "source": [
    "a=1122;print(a);type(a)\n",
    "a=11;print(a)\n",
    "\n",
    "del a\n",
    "print(a)"
   ]
  },
  {
   "cell_type": "code",
   "execution_count": 46,
   "id": "3b09e127",
   "metadata": {},
   "outputs": [
    {
     "name": "stdout",
     "output_type": "stream",
     "text": [
      "100000\n",
      "100000\n"
     ]
    }
   ],
   "source": [
    "net=100;qty=1000;total=net*qty;print(total)\n",
    "\n",
    "단가=100;수량=1000;총합=단가*수량;print(총합)"
   ]
  },
  {
   "cell_type": "code",
   "execution_count": null,
   "id": "aa43b807",
   "metadata": {},
   "outputs": [],
   "source": []
  }
 ],
 "metadata": {
  "kernelspec": {
   "display_name": "Python 3 (ipykernel)",
   "language": "python",
   "name": "python3"
  },
  "language_info": {
   "codemirror_mode": {
    "name": "ipython",
    "version": 3
   },
   "file_extension": ".py",
   "mimetype": "text/x-python",
   "name": "python",
   "nbconvert_exporter": "python",
   "pygments_lexer": "ipython3",
   "version": "3.10.4"
  }
 },
 "nbformat": 4,
 "nbformat_minor": 5
}
