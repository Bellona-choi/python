{
 "cells": [
  {
   "cell_type": "code",
   "execution_count": 1,
   "id": "525960c7",
   "metadata": {},
   "outputs": [
    {
     "data": {
      "text/plain": [
       "(3, 4, 2859)"
      ]
     },
     "execution_count": 1,
     "metadata": {},
     "output_type": "execute_result"
    }
   ],
   "source": [
    "#단순 대입 연산자\n",
    "a=3\n",
    "b=4\n",
    "c=123+456*6\n",
    "a,b,c"
   ]
  },
  {
   "cell_type": "code",
   "execution_count": 2,
   "id": "8b591397",
   "metadata": {},
   "outputs": [
    {
     "ename": "SyntaxError",
     "evalue": "cannot assign to expression here. Maybe you meant '==' instead of '='? (1001618493.py, line 1)",
     "output_type": "error",
     "traceback": [
      "\u001b[1;36m  Input \u001b[1;32mIn [2]\u001b[1;36m\u001b[0m\n\u001b[1;33m    a+b=c\u001b[0m\n\u001b[1;37m    ^\u001b[0m\n\u001b[1;31mSyntaxError\u001b[0m\u001b[1;31m:\u001b[0m cannot assign to expression here. Maybe you meant '==' instead of '='?\n"
     ]
    }
   ],
   "source": [
    "a+b=c"
   ]
  },
  {
   "cell_type": "code",
   "execution_count": 3,
   "id": "8870577a",
   "metadata": {},
   "outputs": [
    {
     "ename": "SyntaxError",
     "evalue": "cannot assign to expression here. Maybe you meant '==' instead of '='? (1236383597.py, line 1)",
     "output_type": "error",
     "traceback": [
      "\u001b[1;36m  Input \u001b[1;32mIn [3]\u001b[1;36m\u001b[0m\n\u001b[1;33m    123+456=a\u001b[0m\n\u001b[1;37m    ^\u001b[0m\n\u001b[1;31mSyntaxError\u001b[0m\u001b[1;31m:\u001b[0m cannot assign to expression here. Maybe you meant '==' instead of '='?\n"
     ]
    }
   ],
   "source": [
    "123+456=a"
   ]
  },
  {
   "cell_type": "code",
   "execution_count": 4,
   "id": "a4f94c93",
   "metadata": {},
   "outputs": [
    {
     "ename": "TypeError",
     "evalue": "unsupported operand type(s) for +: 'int' and 'str'",
     "output_type": "error",
     "traceback": [
      "\u001b[1;31m---------------------------------------------------------------------------\u001b[0m",
      "\u001b[1;31mTypeError\u001b[0m                                 Traceback (most recent call last)",
      "Input \u001b[1;32mIn [4]\u001b[0m, in \u001b[0;36m<cell line: 2>\u001b[1;34m()\u001b[0m\n\u001b[0;32m      1\u001b[0m a\u001b[38;5;241m=\u001b[39m\u001b[38;5;241m1\u001b[39m\n\u001b[1;32m----> 2\u001b[0m a\u001b[38;5;241m=\u001b[39m\u001b[43ma\u001b[49m\u001b[38;5;241;43m+\u001b[39;49m\u001b[38;5;124;43m\"\u001b[39;49m\u001b[38;5;124;43m안녕\u001b[39;49m\u001b[38;5;124;43m\"\u001b[39;49m\n",
      "\u001b[1;31mTypeError\u001b[0m: unsupported operand type(s) for +: 'int' and 'str'"
     ]
    }
   ],
   "source": [
    "a=1\n",
    "a=a+\"안녕\" #a는 수치형"
   ]
  },
  {
   "cell_type": "code",
   "execution_count": 6,
   "id": "6227b9ac",
   "metadata": {},
   "outputs": [
    {
     "data": {
      "text/plain": [
       "'abc안녕'"
      ]
     },
     "execution_count": 6,
     "metadata": {},
     "output_type": "execute_result"
    }
   ],
   "source": [
    "a=\"abc\"\n",
    "a=a+\"안녕\"\n",
    "a"
   ]
  },
  {
   "cell_type": "code",
   "execution_count": 14,
   "id": "61fd2a26",
   "metadata": {},
   "outputs": [
    {
     "data": {
      "text/plain": [
       "(1, 2)"
      ]
     },
     "execution_count": 14,
     "metadata": {},
     "output_type": "execute_result"
    }
   ],
   "source": [
    "#복합형태 대입 연산자\n",
    "a=1\n",
    "b=2\n",
    "a,b"
   ]
  },
  {
   "cell_type": "code",
   "execution_count": 11,
   "id": "3abcf21a",
   "metadata": {},
   "outputs": [
    {
     "data": {
      "text/plain": [
       "(2, 1)"
      ]
     },
     "execution_count": 11,
     "metadata": {},
     "output_type": "execute_result"
    }
   ],
   "source": [
    "a,b=b,a\n",
    "a,b"
   ]
  },
  {
   "cell_type": "code",
   "execution_count": 15,
   "id": "e475dc50",
   "metadata": {},
   "outputs": [
    {
     "data": {
      "text/plain": [
       "(1, 2, '안녕', '하세요', 3, 4)"
      ]
     },
     "execution_count": 15,
     "metadata": {},
     "output_type": "execute_result"
    }
   ],
   "source": [
    "a,b,c,d,e,f=1,2,\"안녕\",\"하세요\",3,4\n",
    "a,b,c,d,e,f"
   ]
  },
  {
   "cell_type": "code",
   "execution_count": 16,
   "id": "9601ffbc",
   "metadata": {},
   "outputs": [
    {
     "data": {
      "text/plain": [
       "(1, 1)"
      ]
     },
     "execution_count": 16,
     "metadata": {},
     "output_type": "execute_result"
    }
   ],
   "source": [
    "a=b=1\n",
    "a,b"
   ]
  },
  {
   "cell_type": "code",
   "execution_count": 17,
   "id": "ad053a53",
   "metadata": {},
   "outputs": [
    {
     "data": {
      "text/plain": [
       "(1, 2)"
      ]
     },
     "execution_count": 17,
     "metadata": {},
     "output_type": "execute_result"
    }
   ],
   "source": [
    "b=2\n",
    "a,b"
   ]
  },
  {
   "cell_type": "code",
   "execution_count": 19,
   "id": "57e2448a",
   "metadata": {},
   "outputs": [
    {
     "data": {
      "text/plain": [
       "([1, 2, 3], [1, 2, 3])"
      ]
     },
     "execution_count": 19,
     "metadata": {},
     "output_type": "execute_result"
    }
   ],
   "source": [
    "a=b=[1,2,3]\n",
    "a,b"
   ]
  },
  {
   "cell_type": "code",
   "execution_count": 22,
   "id": "afba96f8",
   "metadata": {},
   "outputs": [
    {
     "data": {
      "text/plain": [
       "([1, 4, 3], [1, 4, 3])"
      ]
     },
     "execution_count": 22,
     "metadata": {},
     "output_type": "execute_result"
    }
   ],
   "source": [
    "a[1]=4\n",
    "a,b"
   ]
  },
  {
   "cell_type": "code",
   "execution_count": 23,
   "id": "82c1c1fd",
   "metadata": {},
   "outputs": [
    {
     "data": {
      "text/plain": [
       "([1, 2, 3, 4, 5], [1, 2, 3, 4, 5])"
      ]
     },
     "execution_count": 23,
     "metadata": {},
     "output_type": "execute_result"
    }
   ],
   "source": [
    "a=[1,2,3,4,5]\n",
    "b=a[:]\n",
    "a,b"
   ]
  },
  {
   "cell_type": "code",
   "execution_count": 24,
   "id": "ae5227dd",
   "metadata": {},
   "outputs": [
    {
     "data": {
      "text/plain": [
       "([1, 2, 5, 4, 5], [1, 2, 3, 4, 5])"
      ]
     },
     "execution_count": 24,
     "metadata": {},
     "output_type": "execute_result"
    }
   ],
   "source": [
    "a[2]=5\n",
    "a,b"
   ]
  },
  {
   "cell_type": "code",
   "execution_count": 27,
   "id": "fcec65b1",
   "metadata": {},
   "outputs": [
    {
     "data": {
      "text/plain": [
       "76"
      ]
     },
     "execution_count": 27,
     "metadata": {},
     "output_type": "execute_result"
    }
   ],
   "source": [
    "import sys\n",
    "a=123\n",
    "sys.getrefcount(123)"
   ]
  },
  {
   "cell_type": "code",
   "execution_count": 28,
   "id": "1845614a",
   "metadata": {},
   "outputs": [
    {
     "data": {
      "text/plain": [
       "77"
      ]
     },
     "execution_count": 28,
     "metadata": {},
     "output_type": "execute_result"
    }
   ],
   "source": [
    "b=123;sys.getrefcount(123)"
   ]
  },
  {
   "cell_type": "code",
   "execution_count": 29,
   "id": "f3c668bc",
   "metadata": {},
   "outputs": [
    {
     "data": {
      "text/plain": [
       "78"
      ]
     },
     "execution_count": 29,
     "metadata": {},
     "output_type": "execute_result"
    }
   ],
   "source": [
    "c=123;sys.getrefcount(123)"
   ]
  },
  {
   "cell_type": "code",
   "execution_count": 30,
   "id": "6c6fb5d8",
   "metadata": {},
   "outputs": [
    {
     "data": {
      "text/plain": [
       "2.5"
      ]
     },
     "execution_count": 30,
     "metadata": {},
     "output_type": "execute_result"
    }
   ],
   "source": [
    "#일반 산술 연산자\n",
    "1+2*3/4"
   ]
  },
  {
   "cell_type": "code",
   "execution_count": 31,
   "id": "12efdea6",
   "metadata": {},
   "outputs": [
    {
     "data": {
      "text/plain": [
       "8"
      ]
     },
     "execution_count": 31,
     "metadata": {},
     "output_type": "execute_result"
    }
   ],
   "source": [
    "2**3"
   ]
  },
  {
   "cell_type": "code",
   "execution_count": 32,
   "id": "ef1d9b8d",
   "metadata": {},
   "outputs": [
    {
     "data": {
      "text/plain": [
       "3.3333333333333335"
      ]
     },
     "execution_count": 32,
     "metadata": {},
     "output_type": "execute_result"
    }
   ],
   "source": [
    "10/3"
   ]
  },
  {
   "cell_type": "code",
   "execution_count": 33,
   "id": "7ee5b2d2",
   "metadata": {},
   "outputs": [
    {
     "data": {
      "text/plain": [
       "1.23456789012e+23"
      ]
     },
     "execution_count": 33,
     "metadata": {},
     "output_type": "execute_result"
    }
   ],
   "source": [
    "1e12*123456789012"
   ]
  },
  {
   "cell_type": "code",
   "execution_count": 34,
   "id": "973e0642",
   "metadata": {},
   "outputs": [
    {
     "data": {
      "text/plain": [
       "(124+14j)"
      ]
     },
     "execution_count": 34,
     "metadata": {},
     "output_type": "execute_result"
    }
   ],
   "source": [
    "a=1+2j\n",
    "a+(123+12j)"
   ]
  },
  {
   "cell_type": "code",
   "execution_count": 35,
   "id": "6e257b86",
   "metadata": {},
   "outputs": [
    {
     "data": {
      "text/plain": [
       "2.5"
      ]
     },
     "execution_count": 35,
     "metadata": {},
     "output_type": "execute_result"
    }
   ],
   "source": [
    "5/2"
   ]
  },
  {
   "cell_type": "code",
   "execution_count": 36,
   "id": "8f4a0295",
   "metadata": {},
   "outputs": [
    {
     "data": {
      "text/plain": [
       "2"
      ]
     },
     "execution_count": 36,
     "metadata": {},
     "output_type": "execute_result"
    }
   ],
   "source": [
    "5//2 #int형태"
   ]
  },
  {
   "cell_type": "code",
   "execution_count": 37,
   "id": "63ecdb11",
   "metadata": {},
   "outputs": [
    {
     "data": {
      "text/plain": [
       "1"
      ]
     },
     "execution_count": 37,
     "metadata": {},
     "output_type": "execute_result"
    }
   ],
   "source": [
    "5%2 #나머지계산"
   ]
  },
  {
   "cell_type": "code",
   "execution_count": 41,
   "id": "5390bc8e",
   "metadata": {},
   "outputs": [
    {
     "name": "stdout",
     "output_type": "stream",
     "text": [
      "2\n",
      "2\n"
     ]
    },
    {
     "data": {
      "text/plain": [
       "4"
      ]
     },
     "execution_count": 41,
     "metadata": {},
     "output_type": "execute_result"
    }
   ],
   "source": [
    "#복합 연산자\n",
    "a=1;a=a+1;print(a)\n",
    "a=1;a+=1;print(a)\n",
    "a*=2;a"
   ]
  },
  {
   "cell_type": "code",
   "execution_count": 42,
   "id": "83d9c109",
   "metadata": {},
   "outputs": [
    {
     "data": {
      "text/plain": [
       "8"
      ]
     },
     "execution_count": 42,
     "metadata": {},
     "output_type": "execute_result"
    }
   ],
   "source": [
    "a*=2;a"
   ]
  },
  {
   "cell_type": "code",
   "execution_count": 43,
   "id": "158b72e5",
   "metadata": {},
   "outputs": [
    {
     "data": {
      "text/plain": [
       "0"
      ]
     },
     "execution_count": 43,
     "metadata": {},
     "output_type": "execute_result"
    }
   ],
   "source": [
    "a=1;a-=1;a"
   ]
  },
  {
   "cell_type": "code",
   "execution_count": 44,
   "id": "de9dfe06",
   "metadata": {},
   "outputs": [
    {
     "data": {
      "text/plain": [
       "-1"
      ]
     },
     "execution_count": 44,
     "metadata": {},
     "output_type": "execute_result"
    }
   ],
   "source": [
    "a-=1;a"
   ]
  },
  {
   "cell_type": "code",
   "execution_count": 45,
   "id": "41a8c3e6",
   "metadata": {},
   "outputs": [
    {
     "ename": "SyntaxError",
     "evalue": "invalid syntax (1365106215.py, line 2)",
     "output_type": "error",
     "traceback": [
      "\u001b[1;36m  Input \u001b[1;32mIn [45]\u001b[1;36m\u001b[0m\n\u001b[1;33m    a++\u001b[0m\n\u001b[1;37m       ^\u001b[0m\n\u001b[1;31mSyntaxError\u001b[0m\u001b[1;31m:\u001b[0m invalid syntax\n"
     ]
    }
   ],
   "source": [
    "a=1\n",
    "a++"
   ]
  },
  {
   "cell_type": "code",
   "execution_count": 46,
   "id": "64270066",
   "metadata": {},
   "outputs": [
    {
     "ename": "SyntaxError",
     "evalue": "invalid syntax (1562500846.py, line 1)",
     "output_type": "error",
     "traceback": [
      "\u001b[1;36m  Input \u001b[1;32mIn [46]\u001b[1;36m\u001b[0m\n\u001b[1;33m    a--\u001b[0m\n\u001b[1;37m       ^\u001b[0m\n\u001b[1;31mSyntaxError\u001b[0m\u001b[1;31m:\u001b[0m invalid syntax\n"
     ]
    }
   ],
   "source": [
    "a--"
   ]
  },
  {
   "cell_type": "code",
   "execution_count": 48,
   "id": "5798768d",
   "metadata": {},
   "outputs": [
    {
     "data": {
      "text/plain": [
       "-1"
      ]
     },
     "execution_count": 48,
     "metadata": {},
     "output_type": "execute_result"
    }
   ],
   "source": [
    "a=+ 1; a ; a=- 1 ;a"
   ]
  },
  {
   "cell_type": "code",
   "execution_count": 51,
   "id": "3dfeffb0",
   "metadata": {},
   "outputs": [
    {
     "data": {
      "text/plain": [
       "'멍멍이고양이'"
      ]
     },
     "execution_count": 51,
     "metadata": {},
     "output_type": "execute_result"
    }
   ],
   "source": [
    "#문자형 변환\n",
    "a=\"멍멍이\"\n",
    "b=\"고양이\"\n",
    "a+b"
   ]
  },
  {
   "cell_type": "code",
   "execution_count": 52,
   "id": "208499e7",
   "metadata": {},
   "outputs": [
    {
     "data": {
      "text/plain": [
       "'멍멍이멍멍이멍멍이고양이고양이'"
      ]
     },
     "execution_count": 52,
     "metadata": {},
     "output_type": "execute_result"
    }
   ],
   "source": [
    "a*3+b*2 #a를3번b를2번 출력"
   ]
  },
  {
   "cell_type": "code",
   "execution_count": 53,
   "id": "af361bec",
   "metadata": {},
   "outputs": [
    {
     "data": {
      "text/plain": [
       "'--------------------'"
      ]
     },
     "execution_count": 53,
     "metadata": {},
     "output_type": "execute_result"
    }
   ],
   "source": [
    "\"-\"*20 # - 20번출력"
   ]
  },
  {
   "cell_type": "code",
   "execution_count": 54,
   "id": "88af199e",
   "metadata": {},
   "outputs": [
    {
     "ename": "TypeError",
     "evalue": "can only concatenate str (not \"int\") to str",
     "output_type": "error",
     "traceback": [
      "\u001b[1;31m---------------------------------------------------------------------------\u001b[0m",
      "\u001b[1;31mTypeError\u001b[0m                                 Traceback (most recent call last)",
      "Input \u001b[1;32mIn [54]\u001b[0m, in \u001b[0;36m<cell line: 2>\u001b[1;34m()\u001b[0m\n\u001b[0;32m      1\u001b[0m a\u001b[38;5;241m=\u001b[39m\u001b[38;5;241m1\u001b[39m\n\u001b[1;32m----> 2\u001b[0m b\u001b[38;5;241m=\u001b[39m\u001b[38;5;124;43m\"\u001b[39;49m\u001b[38;5;124;43m강아지\u001b[39;49m\u001b[38;5;124;43m\"\u001b[39;49m\u001b[38;5;241;43m+\u001b[39;49m\u001b[43ma\u001b[49m\u001b[38;5;241m+\u001b[39m\u001b[38;5;124m\"\u001b[39m\u001b[38;5;124m마리\u001b[39m\u001b[38;5;124m\"\u001b[39m\n",
      "\u001b[1;31mTypeError\u001b[0m: can only concatenate str (not \"int\") to str"
     ]
    }
   ],
   "source": [
    "a=1\n",
    "b=\"강아지\"+a+\"마리\"\n",
    "#a가 인티저 형태라서 오류"
   ]
  },
  {
   "cell_type": "code",
   "execution_count": 56,
   "id": "ed6c15a5",
   "metadata": {},
   "outputs": [
    {
     "data": {
      "text/plain": [
       "'강아지1마리'"
      ]
     },
     "execution_count": 56,
     "metadata": {},
     "output_type": "execute_result"
    }
   ],
   "source": [
    "b=\"강아지\" +str(a)+\"마리\"\n",
    "b\n",
    "#인티저 형태의 a를 str로 변경후 출력"
   ]
  },
  {
   "cell_type": "code",
   "execution_count": 57,
   "id": "21410fda",
   "metadata": {},
   "outputs": [
    {
     "data": {
      "text/plain": [
       "44032"
      ]
     },
     "execution_count": 57,
     "metadata": {},
     "output_type": "execute_result"
    }
   ],
   "source": [
    "ord(\"가\")"
   ]
  },
  {
   "cell_type": "code",
   "execution_count": 58,
   "id": "bfda2dcd",
   "metadata": {},
   "outputs": [
    {
     "data": {
      "text/plain": [
       "'0x61'"
      ]
     },
     "execution_count": 58,
     "metadata": {},
     "output_type": "execute_result"
    }
   ],
   "source": [
    "hex(ord(\"a\"))"
   ]
  },
  {
   "cell_type": "code",
   "execution_count": 59,
   "id": "433eec92",
   "metadata": {},
   "outputs": [
    {
     "name": "stdout",
     "output_type": "stream",
     "text": [
      "0x61 = a ,0x62 = b ,0x63 = c ,0x64 = d ,0x65 = e ,0x66 = f ,0x67 = g ,0x68 = h ,0x69 = i ,0x6a = j ,0x6b = k ,0x6c = l ,0x6d = m ,0x6e = n ,0x6f = o ,0x70 = p ,0x71 = q ,0x72 = r ,0x73 = s ,0x74 = t ,0x75 = u ,0x76 = v ,0x77 = w ,0x78 = x ,0x79 = y ,0x7a = z ,"
     ]
    }
   ],
   "source": [
    "for c in range(ord('a'), ord('z')+1):\n",
    "    print(hex(c), \"=\",chr(c),\",\",end=\"\")"
   ]
  },
  {
   "cell_type": "code",
   "execution_count": 60,
   "id": "274dc90b",
   "metadata": {},
   "outputs": [
    {
     "ename": "TypeError",
     "evalue": "can only concatenate str (not \"int\") to str",
     "output_type": "error",
     "traceback": [
      "\u001b[1;31m---------------------------------------------------------------------------\u001b[0m",
      "\u001b[1;31mTypeError\u001b[0m                                 Traceback (most recent call last)",
      "Input \u001b[1;32mIn [60]\u001b[0m, in \u001b[0;36m<cell line: 2>\u001b[1;34m()\u001b[0m\n\u001b[0;32m      1\u001b[0m \u001b[38;5;66;03m#숫자형 변환\u001b[39;00m\n\u001b[1;32m----> 2\u001b[0m a\u001b[38;5;241m=\u001b[39m\u001b[38;5;124m\"\u001b[39m\u001b[38;5;124m123\u001b[39m\u001b[38;5;124m\"\u001b[39m;\u001b[43ma\u001b[49m\u001b[38;5;241;43m+\u001b[39;49m\u001b[38;5;241;43m1\u001b[39;49m\n",
      "\u001b[1;31mTypeError\u001b[0m: can only concatenate str (not \"int\") to str"
     ]
    }
   ],
   "source": [
    "#숫자형 변환\n",
    "a=\"123\";a+1"
   ]
  },
  {
   "cell_type": "code",
   "execution_count": 61,
   "id": "53c990f4",
   "metadata": {},
   "outputs": [
    {
     "data": {
      "text/plain": [
       "123"
      ]
     },
     "execution_count": 61,
     "metadata": {},
     "output_type": "execute_result"
    }
   ],
   "source": [
    "a=\"123\";int(a)"
   ]
  },
  {
   "cell_type": "code",
   "execution_count": 62,
   "id": "f5cb1541",
   "metadata": {},
   "outputs": [
    {
     "data": {
      "text/plain": [
       "12"
      ]
     },
     "execution_count": 62,
     "metadata": {},
     "output_type": "execute_result"
    }
   ],
   "source": [
    "a=12.3;int(a)"
   ]
  },
  {
   "cell_type": "code",
   "execution_count": 63,
   "id": "da00c346",
   "metadata": {},
   "outputs": [
    {
     "ename": "ValueError",
     "evalue": "invalid literal for int() with base 10: '12.3'",
     "output_type": "error",
     "traceback": [
      "\u001b[1;31m---------------------------------------------------------------------------\u001b[0m",
      "\u001b[1;31mValueError\u001b[0m                                Traceback (most recent call last)",
      "Input \u001b[1;32mIn [63]\u001b[0m, in \u001b[0;36m<cell line: 1>\u001b[1;34m()\u001b[0m\n\u001b[1;32m----> 1\u001b[0m a\u001b[38;5;241m=\u001b[39m\u001b[38;5;124m\"\u001b[39m\u001b[38;5;124m12.3\u001b[39m\u001b[38;5;124m\"\u001b[39m;\u001b[38;5;28;43mint\u001b[39;49m\u001b[43m(\u001b[49m\u001b[43ma\u001b[49m\u001b[43m)\u001b[49m\n",
      "\u001b[1;31mValueError\u001b[0m: invalid literal for int() with base 10: '12.3'"
     ]
    }
   ],
   "source": [
    "a=\"12.3\";int(a)"
   ]
  },
  {
   "cell_type": "code",
   "execution_count": 64,
   "id": "23535bb9",
   "metadata": {},
   "outputs": [
    {
     "data": {
      "text/plain": [
       "12.3"
      ]
     },
     "execution_count": 64,
     "metadata": {},
     "output_type": "execute_result"
    }
   ],
   "source": [
    "float(a)"
   ]
  },
  {
   "cell_type": "code",
   "execution_count": 65,
   "id": "4d75ed33",
   "metadata": {},
   "outputs": [
    {
     "data": {
      "text/plain": [
       "14.1"
      ]
     },
     "execution_count": 65,
     "metadata": {},
     "output_type": "execute_result"
    }
   ],
   "source": [
    "a=1.1;1+a+12"
   ]
  },
  {
   "cell_type": "code",
   "execution_count": 67,
   "id": "0ee2eb60",
   "metadata": {},
   "outputs": [
    {
     "data": {
      "text/plain": [
       "14"
      ]
     },
     "execution_count": 67,
     "metadata": {},
     "output_type": "execute_result"
    }
   ],
   "source": [
    "1+int(a)+12"
   ]
  },
  {
   "cell_type": "code",
   "execution_count": 68,
   "id": "8529704e",
   "metadata": {},
   "outputs": [
    {
     "data": {
      "text/plain": [
       "3"
      ]
     },
     "execution_count": 68,
     "metadata": {},
     "output_type": "execute_result"
    }
   ],
   "source": [
    "int(3.13)"
   ]
  },
  {
   "cell_type": "code",
   "execution_count": 76,
   "id": "74957b23",
   "metadata": {},
   "outputs": [
    {
     "data": {
      "text/plain": [
       "3"
      ]
     },
     "execution_count": 76,
     "metadata": {},
     "output_type": "execute_result"
    }
   ],
   "source": [
    "round(3.14)"
   ]
  },
  {
   "cell_type": "code",
   "execution_count": 77,
   "id": "df21b2a6",
   "metadata": {},
   "outputs": [
    {
     "data": {
      "text/plain": [
       "3.1"
      ]
     },
     "execution_count": 77,
     "metadata": {},
     "output_type": "execute_result"
    }
   ],
   "source": [
    "round(3.14,1)"
   ]
  },
  {
   "cell_type": "code",
   "execution_count": 73,
   "id": "c0c4931c",
   "metadata": {},
   "outputs": [
    {
     "data": {
      "text/plain": [
       "120000"
      ]
     },
     "execution_count": 73,
     "metadata": {},
     "output_type": "execute_result"
    }
   ],
   "source": [
    "round(123456,-4)"
   ]
  },
  {
   "cell_type": "code",
   "execution_count": 78,
   "id": "46ae5d5e",
   "metadata": {},
   "outputs": [
    {
     "data": {
      "text/plain": [
       "1235000"
      ]
     },
     "execution_count": 78,
     "metadata": {},
     "output_type": "execute_result"
    }
   ],
   "source": [
    "a=1234567\n",
    "if(a%1000 != 0 ) : #1000으로 나누어 나머지0이 아니면\n",
    "    a=int(a/1000)*1000+1000 #버린값에다 한자리를 올린다\n",
    "else:\n",
    "    a=int(a/1000)*1000\n",
    "a"
   ]
  },
  {
   "cell_type": "code",
   "execution_count": null,
   "id": "bbc5d4ed",
   "metadata": {},
   "outputs": [],
   "source": []
  },
  {
   "cell_type": "code",
   "execution_count": null,
   "id": "9da6b263",
   "metadata": {},
   "outputs": [],
   "source": []
  },
  {
   "cell_type": "code",
   "execution_count": null,
   "id": "e105d00f",
   "metadata": {},
   "outputs": [],
   "source": []
  },
  {
   "cell_type": "code",
   "execution_count": null,
   "id": "b82277b6",
   "metadata": {},
   "outputs": [],
   "source": []
  }
 ],
 "metadata": {
  "kernelspec": {
   "display_name": "Python 3 (ipykernel)",
   "language": "python",
   "name": "python3"
  },
  "language_info": {
   "codemirror_mode": {
    "name": "ipython",
    "version": 3
   },
   "file_extension": ".py",
   "mimetype": "text/x-python",
   "name": "python",
   "nbconvert_exporter": "python",
   "pygments_lexer": "ipython3",
   "version": "3.10.4"
  }
 },
 "nbformat": 4,
 "nbformat_minor": 5
}
