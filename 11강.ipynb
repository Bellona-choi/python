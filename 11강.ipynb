{
 "cells": [
  {
   "cell_type": "code",
   "execution_count": 3,
   "id": "9f7f7233",
   "metadata": {},
   "outputs": [
    {
     "name": "stdout",
     "output_type": "stream",
     "text": [
      "0.0\n",
      "3.141592653589793\n",
      "1.0\n"
     ]
    }
   ],
   "source": [
    "#표준 라이브러리\n",
    "import math #math 라이브러리 선언\n",
    "print(math.sin(0))\n",
    "print(math.pi)#파이 출력\n",
    "print(math.sin(math.pi/2.0))"
   ]
  },
  {
   "cell_type": "code",
   "execution_count": 4,
   "id": "a5b7d68c",
   "metadata": {},
   "outputs": [
    {
     "name": "stdout",
     "output_type": "stream",
     "text": [
      "0.9999999999999466\n",
      "1.0\n",
      "1.0\n"
     ]
    }
   ],
   "source": [
    "from math import sin #from 라이브러리 명 import 함수명\n",
    "print(sin(3.141592/2))\n",
    "from math import sin,pi #여러 함수 사용시\n",
    "print(sin(pi/2.0))\n",
    "import math as m #import함수명 as단축명\n",
    "print(m.sin(m.pi/2.0))"
   ]
  },
  {
   "cell_type": "code",
   "execution_count": 5,
   "id": "ce39ee1c",
   "metadata": {},
   "outputs": [
    {
     "name": "stdout",
     "output_type": "stream",
     "text": [
      "                                                  [0.000000]\n",
      "                                                  [0.017452]\n",
      "                                                   [0.034899]\n",
      "                                                    [0.052336]\n",
      "                                                     [0.069756]\n",
      "                                                      [0.087156]\n",
      "                                                       [0.104528]\n",
      "                                                        [0.121869]\n",
      "                                                        [0.139173]\n",
      "                                                         [0.156434]\n",
      "                                                          [0.173648]\n",
      "                                                           [0.190809]\n",
      "                                                            [0.207912]\n",
      "                                                             [0.224951]\n",
      "                                                              [0.241922]\n",
      "                                                              [0.258819]\n",
      "                                                               [0.275637]\n",
      "                                                                [0.292372]\n",
      "                                                                 [0.309017]\n",
      "                                                                  [0.325568]\n",
      "                                                                   [0.342020]\n",
      "                                                                   [0.358368]\n",
      "                                                                    [0.374607]\n",
      "                                                                     [0.390731]\n",
      "                                                                      [0.406737]\n",
      "                                                                       [0.422618]\n",
      "                                                                       [0.438371]\n",
      "                                                                        [0.453990]\n",
      "                                                                         [0.469472]\n",
      "                                                                          [0.484810]\n",
      "                                                                           [0.500000]\n",
      "                                                                           [0.515038]\n",
      "                                                                            [0.529919]\n",
      "                                                                             [0.544639]\n",
      "                                                                             [0.559193]\n",
      "                                                                              [0.573576]\n",
      "                                                                               [0.587785]\n",
      "                                                                                [0.601815]\n",
      "                                                                                [0.615661]\n",
      "                                                                                 [0.629320]\n",
      "                                                                                  [0.642788]\n",
      "                                                                                  [0.656059]\n",
      "                                                                                   [0.669131]\n",
      "                                                                                    [0.681998]\n",
      "                                                                                    [0.694658]\n",
      "                                                                                     [0.707107]\n",
      "                                                                                     [0.719340]\n",
      "                                                                                      [0.731354]\n",
      "                                                                                       [0.743145]\n",
      "                                                                                       [0.754710]\n",
      "                                                                                        [0.766044]\n",
      "                                                                                        [0.777146]\n",
      "                                                                                         [0.788011]\n",
      "                                                                                         [0.798636]\n",
      "                                                                                          [0.809017]\n",
      "                                                                                          [0.819152]\n",
      "                                                                                           [0.829038]\n",
      "                                                                                           [0.838671]\n",
      "                                                                                            [0.848048]\n",
      "                                                                                            [0.857167]\n",
      "                                                                                             [0.866025]\n",
      "                                                                                             [0.874620]\n",
      "                                                                                              [0.882948]\n",
      "                                                                                              [0.891007]\n",
      "                                                                                              [0.898794]\n",
      "                                                                                               [0.906308]\n",
      "                                                                                               [0.913545]\n",
      "                                                                                                [0.920505]\n",
      "                                                                                                [0.927184]\n",
      "                                                                                                [0.933580]\n",
      "                                                                                                [0.939693]\n",
      "                                                                                                 [0.945519]\n",
      "                                                                                                 [0.951057]\n",
      "                                                                                                 [0.956305]\n",
      "                                                                                                  [0.961262]\n",
      "                                                                                                  [0.965926]\n",
      "                                                                                                  [0.970296]\n",
      "                                                                                                  [0.974370]\n",
      "                                                                                                  [0.978148]\n",
      "                                                                                                   [0.981627]\n",
      "                                                                                                   [0.984808]\n",
      "                                                                                                   [0.987688]\n",
      "                                                                                                   [0.990268]\n",
      "                                                                                                   [0.992546]\n",
      "                                                                                                   [0.994522]\n",
      "                                                                                                   [0.996195]\n",
      "                                                                                                   [0.997564]\n",
      "                                                                                                   [0.998630]\n",
      "                                                                                                   [0.999391]\n",
      "                                                                                                   [0.999848]\n",
      "                                                                                                    [1.000000]\n",
      "                                                                                                   [0.999848]\n",
      "                                                                                                   [0.999391]\n",
      "                                                                                                   [0.998630]\n",
      "                                                                                                   [0.997564]\n",
      "                                                                                                   [0.996195]\n",
      "                                                                                                   [0.994522]\n",
      "                                                                                                   [0.992546]\n",
      "                                                                                                   [0.990268]\n",
      "                                                                                                   [0.987688]\n",
      "                                                                                                   [0.984808]\n",
      "                                                                                                   [0.981627]\n",
      "                                                                                                  [0.978148]\n",
      "                                                                                                  [0.974370]\n",
      "                                                                                                  [0.970296]\n",
      "                                                                                                  [0.965926]\n",
      "                                                                                                  [0.961262]\n",
      "                                                                                                 [0.956305]\n",
      "                                                                                                 [0.951057]\n",
      "                                                                                                 [0.945519]\n",
      "                                                                                                [0.939693]\n",
      "                                                                                                [0.933580]\n",
      "                                                                                                [0.927184]\n",
      "                                                                                                [0.920505]\n",
      "                                                                                               [0.913545]\n",
      "                                                                                               [0.906308]\n",
      "                                                                                              [0.898794]\n",
      "                                                                                              [0.891007]\n",
      "                                                                                              [0.882948]\n",
      "                                                                                             [0.874620]\n",
      "                                                                                             [0.866025]\n",
      "                                                                                            [0.857167]\n",
      "                                                                                            [0.848048]\n",
      "                                                                                           [0.838671]\n",
      "                                                                                           [0.829038]\n",
      "                                                                                          [0.819152]\n",
      "                                                                                          [0.809017]\n",
      "                                                                                         [0.798636]\n",
      "                                                                                         [0.788011]\n",
      "                                                                                        [0.777146]\n",
      "                                                                                        [0.766044]\n",
      "                                                                                       [0.754710]\n",
      "                                                                                       [0.743145]\n",
      "                                                                                      [0.731354]\n",
      "                                                                                     [0.719340]\n",
      "                                                                                     [0.707107]\n",
      "                                                                                    [0.694658]\n",
      "                                                                                    [0.681998]\n",
      "                                                                                   [0.669131]\n",
      "                                                                                  [0.656059]\n",
      "                                                                                  [0.642788]\n",
      "                                                                                 [0.629320]\n",
      "                                                                                [0.615661]\n",
      "                                                                                [0.601815]\n",
      "                                                                               [0.587785]\n",
      "                                                                              [0.573576]\n",
      "                                                                             [0.559193]\n",
      "                                                                             [0.544639]\n",
      "                                                                            [0.529919]\n",
      "                                                                           [0.515038]\n",
      "                                                                           [0.500000]\n",
      "                                                                          [0.484810]\n",
      "                                                                         [0.469472]\n",
      "                                                                        [0.453990]\n",
      "                                                                       [0.438371]\n",
      "                                                                       [0.422618]\n",
      "                                                                      [0.406737]\n",
      "                                                                     [0.390731]\n",
      "                                                                    [0.374607]\n",
      "                                                                   [0.358368]\n",
      "                                                                   [0.342020]\n",
      "                                                                  [0.325568]\n",
      "                                                                 [0.309017]\n",
      "                                                                [0.292372]\n",
      "                                                               [0.275637]\n",
      "                                                              [0.258819]\n",
      "                                                              [0.241922]\n",
      "                                                             [0.224951]\n",
      "                                                            [0.207912]\n",
      "                                                           [0.190809]\n",
      "                                                          [0.173648]\n",
      "                                                         [0.156434]\n",
      "                                                        [0.139173]\n",
      "                                                        [0.121869]\n",
      "                                                       [0.104528]\n",
      "                                                      [0.087156]\n",
      "                                                     [0.069756]\n",
      "                                                    [0.052336]\n",
      "                                                   [0.034899]\n",
      "                                                  [0.017452]\n",
      "                                                  [0.000000]\n",
      "                                                 [-0.017452]\n",
      "                                                [-0.034899]\n",
      "                                               [-0.052336]\n",
      "                                              [-0.069756]\n",
      "                                             [-0.087156]\n",
      "                                            [-0.104528]\n",
      "                                           [-0.121869]\n",
      "                                           [-0.139173]\n",
      "                                          [-0.156434]\n",
      "                                         [-0.173648]\n",
      "                                        [-0.190809]\n",
      "                                       [-0.207912]\n",
      "                                      [-0.224951]\n",
      "                                     [-0.241922]\n",
      "                                     [-0.258819]\n",
      "                                    [-0.275637]\n",
      "                                   [-0.292372]\n",
      "                                  [-0.309017]\n",
      "                                 [-0.325568]\n",
      "                                [-0.342020]\n",
      "                                [-0.358368]\n",
      "                               [-0.374607]\n",
      "                              [-0.390731]\n",
      "                             [-0.406737]\n",
      "                            [-0.422618]\n",
      "                            [-0.438371]\n",
      "                           [-0.453990]\n",
      "                          [-0.469472]\n",
      "                         [-0.484810]\n",
      "                        [-0.500000]\n",
      "                        [-0.515038]\n",
      "                       [-0.529919]\n",
      "                      [-0.544639]\n",
      "                      [-0.559193]\n",
      "                     [-0.573576]\n",
      "                    [-0.587785]\n",
      "                   [-0.601815]\n",
      "                   [-0.615661]\n",
      "                  [-0.629320]\n",
      "                 [-0.642788]\n",
      "                 [-0.656059]\n",
      "                [-0.669131]\n",
      "               [-0.681998]\n",
      "               [-0.694658]\n",
      "              [-0.707107]\n",
      "              [-0.719340]\n",
      "             [-0.731354]\n",
      "            [-0.743145]\n",
      "            [-0.754710]\n",
      "           [-0.766044]\n",
      "           [-0.777146]\n",
      "          [-0.788011]\n",
      "          [-0.798636]\n",
      "         [-0.809017]\n",
      "         [-0.819152]\n",
      "        [-0.829038]\n",
      "        [-0.838671]\n",
      "       [-0.848048]\n",
      "       [-0.857167]\n",
      "      [-0.866025]\n",
      "      [-0.874620]\n",
      "     [-0.882948]\n",
      "     [-0.891007]\n",
      "     [-0.898794]\n",
      "    [-0.906308]\n",
      "    [-0.913545]\n",
      "   [-0.920505]\n",
      "   [-0.927184]\n",
      "   [-0.933580]\n",
      "   [-0.939693]\n",
      "  [-0.945519]\n",
      "  [-0.951057]\n",
      "  [-0.956305]\n",
      " [-0.961262]\n",
      " [-0.965926]\n",
      " [-0.970296]\n",
      " [-0.974370]\n",
      " [-0.978148]\n",
      "[-0.981627]\n",
      "[-0.984808]\n",
      "[-0.987688]\n",
      "[-0.990268]\n",
      "[-0.992546]\n",
      "[-0.994522]\n",
      "[-0.996195]\n",
      "[-0.997564]\n",
      "[-0.998630]\n",
      "[-0.999391]\n",
      "[-0.999848]\n",
      "[-1.000000]\n",
      "[-0.999848]\n",
      "[-0.999391]\n",
      "[-0.998630]\n",
      "[-0.997564]\n",
      "[-0.996195]\n",
      "[-0.994522]\n",
      "[-0.992546]\n",
      "[-0.990268]\n",
      "[-0.987688]\n",
      "[-0.984808]\n",
      "[-0.981627]\n",
      " [-0.978148]\n",
      " [-0.974370]\n",
      " [-0.970296]\n",
      " [-0.965926]\n",
      " [-0.961262]\n",
      "  [-0.956305]\n",
      "  [-0.951057]\n",
      "  [-0.945519]\n",
      "   [-0.939693]\n",
      "   [-0.933580]\n",
      "   [-0.927184]\n",
      "   [-0.920505]\n",
      "    [-0.913545]\n",
      "    [-0.906308]\n",
      "     [-0.898794]\n",
      "     [-0.891007]\n",
      "     [-0.882948]\n",
      "      [-0.874620]\n",
      "      [-0.866025]\n",
      "       [-0.857167]\n",
      "       [-0.848048]\n",
      "        [-0.838671]\n",
      "        [-0.829038]\n",
      "         [-0.819152]\n",
      "         [-0.809017]\n",
      "          [-0.798636]\n",
      "          [-0.788011]\n",
      "           [-0.777146]\n",
      "           [-0.766044]\n",
      "            [-0.754710]\n",
      "            [-0.743145]\n",
      "             [-0.731354]\n",
      "              [-0.719340]\n",
      "              [-0.707107]\n",
      "               [-0.694658]\n",
      "               [-0.681998]\n",
      "                [-0.669131]\n",
      "                 [-0.656059]\n",
      "                 [-0.642788]\n",
      "                  [-0.629320]\n",
      "                   [-0.615661]\n",
      "                   [-0.601815]\n",
      "                    [-0.587785]\n",
      "                     [-0.573576]\n",
      "                      [-0.559193]\n",
      "                      [-0.544639]\n",
      "                       [-0.529919]\n",
      "                        [-0.515038]\n",
      "                        [-0.500000]\n",
      "                         [-0.484810]\n",
      "                          [-0.469472]\n",
      "                           [-0.453990]\n",
      "                            [-0.438371]\n",
      "                            [-0.422618]\n",
      "                             [-0.406737]\n",
      "                              [-0.390731]\n",
      "                               [-0.374607]\n",
      "                                [-0.358368]\n",
      "                                [-0.342020]\n",
      "                                 [-0.325568]\n",
      "                                  [-0.309017]\n",
      "                                   [-0.292372]\n",
      "                                    [-0.275637]\n",
      "                                     [-0.258819]\n",
      "                                     [-0.241922]\n",
      "                                      [-0.224951]\n",
      "                                       [-0.207912]\n",
      "                                        [-0.190809]\n",
      "                                         [-0.173648]\n",
      "                                          [-0.156434]\n",
      "                                           [-0.139173]\n",
      "                                           [-0.121869]\n",
      "                                            [-0.104528]\n",
      "                                             [-0.087156]\n",
      "                                              [-0.069756]\n",
      "                                               [-0.052336]\n",
      "                                                [-0.034899]\n",
      "                                                 [-0.017452]\n"
     ]
    }
   ],
   "source": [
    "#math 모듈 사용 예제\n",
    "from math import sin,pi \n",
    "for i in range(360):\n",
    "    sin_value=sin(i*pi/180)\n",
    "    space_value=int( (1+sin_value)*50) \n",
    "    print(\" \"*space_value, end=\"\") \n",
    "    print(\"[%f]\"%sin_value)"
   ]
  },
  {
   "cell_type": "code",
   "execution_count": null,
   "id": "6f9d98bc",
   "metadata": {},
   "outputs": [],
   "source": []
  },
  {
   "cell_type": "code",
   "execution_count": 2,
   "id": "4b8431a5",
   "metadata": {},
   "outputs": [
    {
     "data": {
      "image/png": "[encoded data removed]",
      "text/plain": [
       "<Figure size 432x288 with 1 Axes>"
      ]
     },
     "metadata": {
      "needs_background": "light"
     },
     "output_type": "display_data"
    }
   ],
   "source": [
    "#mathplotlib 맛보기\n",
    "from math import sin,pi \n",
    "import matplotlib.pyplot as plt\n",
    "graph_value=[]  #리스트 선언,빈 리스트를 만들어야 append가능 \n",
    "for i in range(360):\n",
    "    graph_value.append(sin(i*pi/180)) #sin값을 하나씩 리스트에 넣음 \n",
    "plt.plot(graph_value) #해당 리스트를 그래프 함수에 보냄\n",
    "plt.show()"
   ]
  },
  {
   "cell_type": "code",
   "execution_count": 8,
   "id": "92ef04b5",
   "metadata": {},
   "outputs": [
    {
     "name": "stdout",
     "output_type": "stream",
     "text": [
      "60.888888888888886\n",
      "34.18129768032675\n",
      "1168.361111111111\n",
      "96.0\n"
     ]
    }
   ],
   "source": [
    "#statistics 모듈사용예제\n",
    "import  statistics as s\n",
    "a=[100,95,25,33,45,90,100,35,25]\n",
    "print(s.mean(a)) #평균\n",
    "print(s.stdev(a)) #표준편차 34.18129768032675\n",
    "print(s.variance(a)) #분산\n",
    "import  statistics as s \n",
    "print(s.harmonic_mean([120,80]))"
   ]
  },
  {
   "cell_type": "code",
   "execution_count": null,
   "id": "e9226a6e",
   "metadata": {},
   "outputs": [],
   "source": []
  },
  {
   "cell_type": "code",
   "execution_count": 9,
   "id": "965da736",
   "metadata": {},
   "outputs": [
    {
     "name": "stdout",
     "output_type": "stream",
     "text": [
      "Mon May  2 17:56:45 2022\n",
      "Thu Jan  1 09:00:00 1970\n"
     ]
    }
   ],
   "source": [
    "#time 모듈\n",
    "import time as t\n",
    "a=t.time(); a   #현재시간을 구함 1538473517.0459952\n",
    "print(t.ctime(a))  #초단위로 표시된 시간을 문자형식으로 표현 \n",
    "print(t.ctime(0)) #우리나라 기준으로 time=0의 경우 1970년1월1일 오전9시 정각이다"
   ]
  },
  {
   "cell_type": "code",
   "execution_count": 15,
   "id": "ac48ef37",
   "metadata": {},
   "outputs": [
    {
     "name": "stdout",
     "output_type": "stream",
     "text": [
      "time.struct_time(tm_year=2022, tm_mon=5, tm_mday=2, tm_hour=17, tm_min=59, tm_sec=26, tm_wday=0, tm_yday=122, tm_isdst=0)\n",
      "2022년 5월 2일 17시 59분 26초\n"
     ]
    }
   ],
   "source": [
    "import time as t \n",
    "a=t.localtime() #localtime함수\n",
    "print(a)\n",
    "print(\"%d년 %d월 %d일 %02d시 %02d분 %02d초\"%(a.tm_year,a.tm_mon,a. tm_mday,a.tm_hour,a.tm_min,a.tm_sec))"
   ]
  },
  {
   "cell_type": "code",
   "execution_count": 17,
   "id": "75826ec0",
   "metadata": {},
   "outputs": [
    {
     "name": "stdout",
     "output_type": "stream",
     "text": [
      "2022년 5월 2일 18시 00분59초\n"
     ]
    }
   ],
   "source": [
    "#datetime 모듈\n",
    "import datetime as t \n",
    "a=t.datetime.now()#datetime함수\n",
    "print(\"%d년 %d월 %d일 %02d시 %02d분%02d초\"%(a.year,a.month,a.day,a.hour,a.minute,a.second))"
   ]
  },
  {
   "cell_type": "code",
   "execution_count": null,
   "id": "52f74438",
   "metadata": {},
   "outputs": [],
   "source": []
  },
  {
   "cell_type": "code",
   "execution_count": 20,
   "id": "071712cc",
   "metadata": {},
   "outputs": [
    {
     "name": "stdout",
     "output_type": "stream",
     "text": [
      "0.000000 초 동안 실행함\n"
     ]
    }
   ],
   "source": [
    "#시간차 계산\n",
    "import time as t \n",
    "start=t.time()#프로그램 시작시간\n",
    "for i in range(10000):\n",
    "    pass\n",
    "end=t.time()#프로그램 종료시간\n",
    "print(\"%f 초 동안 실행함\"%(end-start))"
   ]
  },
  {
   "cell_type": "code",
   "execution_count": 22,
   "id": "026e7e75",
   "metadata": {},
   "outputs": [
    {
     "name": "stdout",
     "output_type": "stream",
     "text": [
      "Mon May  2 18:03:07 2022\n",
      "Mon May  2 18:03:10 2022\n",
      "Mon May  2 18:03:13 2022\n",
      "Mon May  2 18:03:16 2022\n",
      "Mon May  2 18:03:19 2022\n",
      "Mon May  2 18:03:22 2022\n",
      "Mon May  2 18:03:25 2022\n",
      "Mon May  2 18:03:28 2022\n",
      "Mon May  2 18:03:31 2022\n",
      "Mon May  2 18:03:34 2022\n"
     ]
    }
   ],
   "source": [
    "#sleep()함수\n",
    "import time as t \n",
    "for i in range(10):#10번 반복\n",
    "    print(t.ctime()) \n",
    "    t.sleep(3)#3초 동안 실행을 멈춘 후 다시 실행"
   ]
  },
  {
   "cell_type": "code",
   "execution_count": 23,
   "id": "ed285479",
   "metadata": {},
   "outputs": [
    {
     "data": {
      "image/png": "[encoded data removed]",
      "text/plain": [
       "<Figure size 432x288 with 1 Axes>"
      ]
     },
     "metadata": {
      "needs_background": "light"
     },
     "output_type": "display_data"
    }
   ],
   "source": [
    "#난수 발생\n",
    "import random as r#랜덤 라이브러리 소환\n",
    "import matplotlib.pyplot as plt #라이브러리 소환\n",
    "score=[]\n",
    "for i in range(100):\n",
    "    score.append(r.randrange(0,100)) #0부터 100까지의 임의정수\n",
    "plt.plot(score)#임의 정수를 그래프\n",
    "plt.show()#그래프 출력"
   ]
  },
  {
   "cell_type": "code",
   "execution_count": null,
   "id": "0bbe2aa2",
   "metadata": {},
   "outputs": [],
   "source": []
  },
  {
   "cell_type": "code",
   "execution_count": 24,
   "id": "8546bb75",
   "metadata": {},
   "outputs": [
    {
     "data": {
      "text/plain": [
       "sys.getwindowsversion(major=10, minor=0, build=19042, platform=2, service_pack='')"
      ]
     },
     "execution_count": 24,
     "metadata": {},
     "output_type": "execute_result"
    }
   ],
   "source": [
    "#sys 모듈\n",
    "import sys\n",
    "sys.version  #파이썬 버전 조회\n",
    "sys.platform #파이썬 설치 플랫폼\n",
    "sys.getwindowsversion() #설치된 윈도우의 버전"
   ]
  },
  {
   "cell_type": "code",
   "execution_count": null,
   "id": "64a2b6f5",
   "metadata": {},
   "outputs": [],
   "source": []
  },
  {
   "cell_type": "code",
   "execution_count": 28,
   "id": "4af22743",
   "metadata": {},
   "outputs": [
    {
     "name": "stdout",
     "output_type": "stream",
     "text": [
      "0\n",
      "0\n",
      "0\n",
      "1\n"
     ]
    }
   ],
   "source": [
    "#built- in 모듈응용사례\n",
    "import os \n",
    "os.getcwd()\n",
    "print(os.system(\"calc\")) #계산기 실행\n",
    "print(os.system(\"IDLE\")) #IDLE실행,실행안됨 path가 다름, 1리턴\n",
    "print(os.system(\"python\")) #파이썬 실행 실행된 상태에서 기다림 -1073741510\n",
    "print(os.system(\"shutdown -f -t 10\")) #이 명령 수행전 모든 윈도우 프로그램을 정리할 것"
   ]
  },
  {
   "cell_type": "code",
   "execution_count": 31,
   "id": "6a999cc3",
   "metadata": {},
   "outputs": [
    {
     "name": "stdout",
     "output_type": "stream",
     "text": [
      "<meta name=\"author\" content=\"폴리텍대학\" />\r\n",
      "\n",
      "<meta name=\"description\" content=\"폴리텍대학 홈페이지입니다.\" />\r\n",
      "\n",
      "<meta name=\"keywords\" content=\"폴리텍대학\" />\r\n",
      "\n",
      "<title>학교법인한국폴리텍</title>\r\n",
      "\n",
      "\t<a class=\"nav-skip__item\" href=\"#pg-div\">학교법인한국폴리텍본문 바로가기</a><br/>\r\n",
      "\n",
      "\t<a class=\"nav-skip__item\" href=\"#kopoMenu\">학교법인한국폴리텍주메뉴 바로가기</a>\r\n",
      "\n",
      "\t\t\t<a href =\"javascript:showAllCampus();\" title=\"폴리텍대학 캠퍼스 목록 표시\">전국 캠퍼스 안내</a>\r\n",
      "\n",
      "\t\t\t\t<h3>한국폴리텍대학 전국 캠퍼스 안내</h3>\r\n",
      "\n",
      "\t\t\t<img class=\"all_campus_map\" alt=\"한국폴리텍대학 전국 캠퍼스 지도\" src=\"/images/kopo/all_campus_map2.png\"/>\r\n",
      "\n",
      "\t\t<a href=\"#\" class=\"all_campus_close\" onclick=\"showAllCampus(); return false;\"><img alt=\"한국폴리텍대학 전국 캠퍼스 바로가기 닫기\" src=\"/images/kopo/all_cam_close.png\"/></a>\r\n",
      "\n",
      "\t\t\t<img src=\"/assets2021/img/logo_header_pc.png\" alt=\"한국폴리텍대학 \">\r\n",
      "\n",
      "\t\t\t\t\t\t\t폴리텍대학 소개</span></a><div class=\"depth-2\"><div class=\"container\">\r\n",
      "\n",
      "\t\t\t\t\t\t\t폴리텍대학 소개</span></a></div>\r\n",
      "\n",
      "\t\t\t\t\t\t\t폴리텍 역사</span></a></li>\r\n",
      "\n",
      "\t\t\t\t\t\t\t폴리텍대학 소식</span></a></div>\r\n",
      "\n",
      "\t\t\t\t\t\t\t폴리텍대학 홍보</span></a></div>\r\n",
      "\n",
      "\t\t\t\t\t\t\t폴리텍人 스토리 공모전 수상작</span></a></li>\r\n",
      "\n",
      "\t\t\t\t\t\t\t폴리텍 컬러링 신청</span></a></li>\r\n",
      "\n",
      "\t\t\t\t\t\t\t폴리텍대학 강점</span></a></div>\r\n",
      "\n",
      "\t\t\t\t\t\t\t참人폴리텍</span></a></li>\r\n",
      "\n",
      "\t<h2 class=\"hidden\">한국폴리텍 주요정보</h2>\r\n",
      "\n",
      "\t\t\t\t\t\t\t\t<span class=\"icon-quick\" style=\"background-image: url('https://www.kopo.ac.kr/cmm/fms/kopoImg.do?atchFileId=FILE_000000000276798&fileSn=0');\"></span><span class=\"icon-txt\">폴리텍 역사</span>\r\n",
      "\n",
      "\t\t\t\t<button onclick=\"popOpen('.sch-pop')\">나에게 맞는 폴리텍 과정 찾기</button>\r\n",
      "\n",
      "\t\t\t\t\t<span class=\"for-mobile\">나에게 맞는 폴리텍</span>\r\n",
      "\n",
      "\t<h2><span class=\"em\">폴리텍</span> 소식</h2>\r\n",
      "\n",
      "\t\t\t\t\t\t\t\t<p class=\"content\">한국폴리텍대학 2022년도 하반기 임용 교수초빙(전임교원) 공고</p>\r\n",
      "\n",
      "\t\t\t\t\t\t\t\t<p class=\"content\">매일노동뉴스-[조재희 한국폴리텍대학 이사장] “기술패권 시대, 누구나 일할 수 있는 사회 만들 것”</p>\r\n",
      "\n",
      "\t\t\t\t\t\t\t\t<p class=\"content\">한국대학신문-한국폴리텍대, 포스텍과 ‘맞손’…AI 공동연구센터 개소</p>\r\n",
      "\n",
      "\t\t\t\t\t\t\t\t<p class=\"content\">한국폴리텍대학 2022년도 하반기 임용 교수초빙(전임교원) 공고</p>\r\n",
      "\n",
      "\t\t\t\t\t\t\t\t<p class=\"content\">매일노동뉴스-[조재희 한국폴리텍대학 이사장] “기술패권 시대, 누구나 일할 수 있는 사회 만들 것”</p>\r\n",
      "\n",
      "\t\t\t\t\t\t\t\t<p class=\"content\">한국대학신문-한국폴리텍대, 포스텍과 ‘맞손’…AI 공동연구센터 개소</p>\r\n",
      "\n",
      "\t\t\t\t\t\t\t\t<p class=\"content\">[AI 인재 양성 현장을 가다]&lt;하&middot;끝&gt;&quot;AI 교육, 노량진 말고 폴리텍 광주로 오세요&quot;</p>\r\n",
      "\n",
      "\t\t\t\t\t\t\t\t<p class=\"content\">[AI 인재 양성 현장을 가다] &lt;중&gt;폴리텍 서울정수&middot;분당융기원 &quot;주부&middot;유학생도 AI 열공&quot;</p>\r\n",
      "\n",
      "\t\t\t\t\t\t\t\t<p class=\"content\">[AI 인재 양성 현장을 가다] &lt;상&gt;대구폴리텍 AI엔지니어링과</p>\r\n",
      "\n",
      "\t\t\t\t\t\t\t\t<p class=\"content\">파이낸셜뉴스-조재희 한국폴리텍 이사장, 대구캠퍼스 찾아</p>\r\n",
      "\n",
      "                   <a class=\"links\" style=\"cursor: pointer;\" href=\"https://kopo.brms.kr\" target=\"_blank\" title=\"새 창\"><img alt=\"2022년도 하반기 임용 한국폴리텍대학 교수초빙(전임교원)공고 모집인원 : 총 55명 접수기간 : 2022.5.6.(금) 10:00∼5.12.(목) 15:00\" src=\"/cmm/fms/kopoImg.do?atchFileId=FILE_000000000281958\" /></a></li>\n",
      "\n",
      "\t\t\t\t\t\t\t<img src='https://img.youtube.com/vi/lZSJ87BnkwA/hqdefault.jpg' alt=\"대표 홍보영상:한국폴리텍대학 데이터융합SW과 교수님이 들려주는 AI+빅데이터\" />\r\n",
      "\n",
      "\t\t\t\t\t\t\t\t한국폴리텍대학 데이터융합SW과 교수님이 들려주는 AI+빅데이터</div>\r\n",
      "\n",
      "\t\t\t\t\tpip_title=\"폴리텍 소식\";\r\n",
      "\n",
      "\t\t<h3 class=\"hidden\">한국폴리텍대학 푸터</h3>\r\n",
      "\n",
      "\t\t<a class=\"footer__logo\" href=\"/index.do\"><img src=\"/assets2021/img/logo_header_wh.png\" alt=\"한국폴리텍대학\"></a>\r\n",
      "\n",
      "                   <a class=\"home-aside__item\" style=\"cursor: pointer;\" href=\"https://kopo.brms.kr\" target=\"_blank\" title=\"새 창\"><img alt=\"2022년도 하반기 임용 한국폴리텍대학 교수초빙(전임교원)공고 모집인원 : 총 55명 접수기간 : 2022.5.6.(금) 10:00∼5.12.(목) 15:00\" src=\"/cmm/fms/kopoImg.do?atchFileId=FILE_000000000281957\" /></a></li>\n",
      "\n",
      "<!-- 폴리텍과정찾기 popup -->\n",
      "\n",
      "\t\t\t<h2>나에게 맞는<br>폴리텍과정찾기</h2>\n",
      "\n",
      "\t\t\t\t<span class=\"placeholder\">나에게 맞는 폴리텍과정 찾기\n",
      "\n",
      "<!-- // 폴리텍과정찾기 popup -->\n",
      "\n"
     ]
    }
   ],
   "source": [
    "from urllib.request import urlopen\n",
    "with urlopen('http://www.kopo.ac.kr/') as response: \n",
    "    for line in response:\n",
    "        line = line.decode('utf-8')  # 한글 처리 \n",
    "        if \"폴리텍\" in line:\n",
    "            print(line)"
   ]
  },
  {
   "cell_type": "code",
   "execution_count": null,
   "id": "7f6fbdfa",
   "metadata": {},
   "outputs": [],
   "source": []
  },
  {
   "cell_type": "code",
   "execution_count": null,
   "id": "b877813f",
   "metadata": {},
   "outputs": [],
   "source": []
  },
  {
   "cell_type": "code",
   "execution_count": null,
   "id": "a1911353",
   "metadata": {},
   "outputs": [],
   "source": []
  }
 ],
 "metadata": {
  "kernelspec": {
   "display_name": "Python 3 (ipykernel)",
   "language": "python",
   "name": "python3"
  },
  "language_info": {
   "codemirror_mode": {
    "name": "ipython",
    "version": 3
   },
   "file_extension": ".py",
   "mimetype": "text/x-python",
   "name": "python",
   "nbconvert_exporter": "python",
   "pygments_lexer": "ipython3",
   "version": "3.10.4"
  }
 },
 "nbformat": 4,
 "nbformat_minor": 5
}
