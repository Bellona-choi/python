{
 "cells": [
  {
   "cell_type": "code",
   "execution_count": 18,
   "id": "e1cc7207",
   "metadata": {},
   "outputs": [
    {
     "ename": "SyntaxError",
     "evalue": "invalid syntax (3248378886.py, line 1)",
     "output_type": "error",
     "traceback": [
      "\u001b[1;36m  Input \u001b[1;32mIn [18]\u001b[1;36m\u001b[0m\n\u001b[1;33m    //정수형\u001b[0m\n\u001b[1;37m    ^\u001b[0m\n\u001b[1;31mSyntaxError\u001b[0m\u001b[1;31m:\u001b[0m invalid syntax\n"
     ]
    }
   ],
   "source": [
    "#정수형\n",
    "a=10\n",
    "b=1200\n",
    "c=+1200\n",
    "d=-1234\n",
    "print(\"a=\",a,\"b=\",b,\"c=\",c,\"d=\",d)"
   ]
  },
  {
   "cell_type": "code",
   "execution_count": 3,
   "id": "6864660c",
   "metadata": {},
   "outputs": [
    {
     "name": "stdout",
     "output_type": "stream",
     "text": [
      "a+b= 255510442125830710419794796092205501516501430550152055055015215205510\n",
      "a*b= 4945662337664182251045508647662854964228779292407290431545377548887919021506299614458775856747962183641984855519033366861090951680866469\n"
     ]
    }
   ],
   "source": [
    "a=21098134232408921340891340984312089423089341208943120934120894312089\n",
    "b=234412307893421789078903455107893412093412089341208934120894320893421\n",
    "print(\"a+b=\", a+b)\n",
    "print(\"a*b=\", a*b)"
   ]
  },
  {
   "cell_type": "code",
   "execution_count": 7,
   "id": "26155d9b",
   "metadata": {},
   "outputs": [
    {
     "data": {
      "text/plain": [
       "10"
      ]
     },
     "execution_count": 7,
     "metadata": {},
     "output_type": "execute_result"
    }
   ],
   "source": [
    "0b1010"
   ]
  },
  {
   "cell_type": "code",
   "execution_count": 8,
   "id": "674c0bb5",
   "metadata": {},
   "outputs": [
    {
     "data": {
      "text/plain": [
       "15"
      ]
     },
     "execution_count": 8,
     "metadata": {},
     "output_type": "execute_result"
    }
   ],
   "source": [
    "0b1111"
   ]
  },
  {
   "cell_type": "code",
   "execution_count": 9,
   "id": "53924804",
   "metadata": {},
   "outputs": [
    {
     "data": {
      "text/plain": [
       "1"
      ]
     },
     "execution_count": 9,
     "metadata": {},
     "output_type": "execute_result"
    }
   ],
   "source": [
    "0b0001"
   ]
  },
  {
   "cell_type": "code",
   "execution_count": 10,
   "id": "5b40f277",
   "metadata": {},
   "outputs": [
    {
     "ename": "SyntaxError",
     "evalue": "invalid digit '2' in binary literal (4097528594.py, line 1)",
     "output_type": "error",
     "traceback": [
      "\u001b[1;36m  Input \u001b[1;32mIn [10]\u001b[1;36m\u001b[0m\n\u001b[1;33m    0b0201\u001b[0m\n\u001b[1;37m       ^\u001b[0m\n\u001b[1;31mSyntaxError\u001b[0m\u001b[1;31m:\u001b[0m invalid digit '2' in binary literal\n"
     ]
    }
   ],
   "source": [
    "0b0201"
   ]
  },
  {
   "cell_type": "code",
   "execution_count": 11,
   "id": "ceb3c655",
   "metadata": {},
   "outputs": [
    {
     "data": {
      "text/plain": [
       "16"
      ]
     },
     "execution_count": 11,
     "metadata": {},
     "output_type": "execute_result"
    }
   ],
   "source": [
    "0x10"
   ]
  },
  {
   "cell_type": "code",
   "execution_count": 12,
   "id": "49a23816",
   "metadata": {},
   "outputs": [
    {
     "data": {
      "text/plain": [
       "26"
      ]
     },
     "execution_count": 12,
     "metadata": {},
     "output_type": "execute_result"
    }
   ],
   "source": [
    "0x1a"
   ]
  },
  {
   "cell_type": "code",
   "execution_count": 13,
   "id": "973a540e",
   "metadata": {},
   "outputs": [
    {
     "data": {
      "text/plain": [
       "47"
      ]
     },
     "execution_count": 13,
     "metadata": {},
     "output_type": "execute_result"
    }
   ],
   "source": [
    "0x2f"
   ]
  },
  {
   "cell_type": "code",
   "execution_count": 14,
   "id": "99d46f03",
   "metadata": {},
   "outputs": [
    {
     "ename": "SyntaxError",
     "evalue": "invalid hexadecimal literal (3986162713.py, line 1)",
     "output_type": "error",
     "traceback": [
      "\u001b[1;36m  Input \u001b[1;32mIn [14]\u001b[1;36m\u001b[0m\n\u001b[1;33m    0x3z\u001b[0m\n\u001b[1;37m      ^\u001b[0m\n\u001b[1;31mSyntaxError\u001b[0m\u001b[1;31m:\u001b[0m invalid hexadecimal literal\n"
     ]
    }
   ],
   "source": [
    "0x3z"
   ]
  },
  {
   "cell_type": "code",
   "execution_count": 15,
   "id": "777859d7",
   "metadata": {},
   "outputs": [
    {
     "name": "stdout",
     "output_type": "stream",
     "text": [
      "0xc\n",
      "0o26\n",
      "0b100001\n"
     ]
    }
   ],
   "source": [
    "print(hex(12));print(oct(22));print(bin(33))"
   ]
  },
  {
   "cell_type": "code",
   "execution_count": 16,
   "id": "9e1a2faf",
   "metadata": {},
   "outputs": [
    {
     "data": {
      "text/plain": [
       "9460000000000.0"
      ]
     },
     "execution_count": 16,
     "metadata": {},
     "output_type": "execute_result"
    }
   ],
   "source": [
    "#실수형\n",
    "9.46e12"
   ]
  },
  {
   "cell_type": "code",
   "execution_count": 17,
   "id": "3eacc261",
   "metadata": {},
   "outputs": [
    {
     "data": {
      "text/plain": [
       "1.2131232417683412e+32"
      ]
     },
     "execution_count": 17,
     "metadata": {},
     "output_type": "execute_result"
    }
   ],
   "source": [
    "9.46e12 + 121312324176834127678963412341298"
   ]
  },
  {
   "cell_type": "code",
   "execution_count": 19,
   "id": "77359459",
   "metadata": {},
   "outputs": [
    {
     "ename": "SyntaxError",
     "evalue": "invalid decimal literal (1072203557.py, line 2)",
     "output_type": "error",
     "traceback": [
      "\u001b[1;36m  Input \u001b[1;32mIn [19]\u001b[1;36m\u001b[0m\n\u001b[1;33m    a=1+2i\u001b[0m\n\u001b[1;37m        ^\u001b[0m\n\u001b[1;31mSyntaxError\u001b[0m\u001b[1;31m:\u001b[0m invalid decimal literal\n"
     ]
    }
   ],
   "source": [
    "# 복소수형\n",
    "a=1+2i"
   ]
  },
  {
   "cell_type": "code",
   "execution_count": 21,
   "id": "bd09b986",
   "metadata": {},
   "outputs": [
    {
     "name": "stdout",
     "output_type": "stream",
     "text": [
      "(2+0j) (5+0j)\n"
     ]
    }
   ],
   "source": [
    "a=1+2j\n",
    "b=1-2j\n",
    "print(a+b, a*b)"
   ]
  },
  {
   "cell_type": "code",
   "execution_count": 22,
   "id": "ef86d7c2",
   "metadata": {},
   "outputs": [
    {
     "data": {
      "text/plain": [
       "'aaabbb'"
      ]
     },
     "execution_count": 22,
     "metadata": {},
     "output_type": "execute_result"
    }
   ],
   "source": [
    "#문자형\n",
    "a=\"aaa\"\n",
    "b=\"bbb\"\n",
    "a+b"
   ]
  },
  {
   "cell_type": "code",
   "execution_count": 23,
   "id": "0771b2b3",
   "metadata": {},
   "outputs": [
    {
     "ename": "TypeError",
     "evalue": "can't multiply sequence by non-int of type 'str'",
     "output_type": "error",
     "traceback": [
      "\u001b[1;31m---------------------------------------------------------------------------\u001b[0m",
      "\u001b[1;31mTypeError\u001b[0m                                 Traceback (most recent call last)",
      "Input \u001b[1;32mIn [23]\u001b[0m, in \u001b[0;36m<cell line: 1>\u001b[1;34m()\u001b[0m\n\u001b[1;32m----> 1\u001b[0m \u001b[43ma\u001b[49m\u001b[38;5;241;43m*\u001b[39;49m\u001b[43mb\u001b[49m\n",
      "\u001b[1;31mTypeError\u001b[0m: can't multiply sequence by non-int of type 'str'"
     ]
    }
   ],
   "source": [
    "#정수형이라서 에러\n",
    "a*b"
   ]
  },
  {
   "cell_type": "code",
   "execution_count": 25,
   "id": "6213ae92",
   "metadata": {},
   "outputs": [
    {
     "data": {
      "text/plain": [
       "'aaaaaaaaa'"
      ]
     },
     "execution_count": 25,
     "metadata": {},
     "output_type": "execute_result"
    }
   ],
   "source": [
    "a*3"
   ]
  },
  {
   "cell_type": "code",
   "execution_count": 26,
   "id": "9e7c214b",
   "metadata": {},
   "outputs": [
    {
     "data": {
      "text/plain": [
       "'bbbbbbbbbbbbbbb'"
      ]
     },
     "execution_count": 26,
     "metadata": {},
     "output_type": "execute_result"
    }
   ],
   "source": [
    "b*5"
   ]
  },
  {
   "cell_type": "code",
   "execution_count": 31,
   "id": "5872c950",
   "metadata": {},
   "outputs": [
    {
     "name": "stdout",
     "output_type": "stream",
     "text": [
      "호랑이가 \"떡하나 주면 안잡아 먹지\" 라고 말했습니다.\n",
      " 호랑이가 \"떡하나 주면 안잡아 먹지\" 라고 말했습니다.\n",
      "I say \"I Love You\"\n"
     ]
    }
   ],
   "source": [
    "print ('호랑이가 \"떡하나 주면 안잡아 먹지\" 라고 말했습니다.')\n",
    "print (\" 호랑이가 \\\"떡하나 주면 안잡아 먹지\\\" 라고 말했습니다.\")\n",
    "print (\"I say \\\"I Love You\\\"\")"
   ]
  },
  {
   "cell_type": "code",
   "execution_count": 32,
   "id": "d863f906",
   "metadata": {},
   "outputs": [
    {
     "ename": "SyntaxError",
     "evalue": "invalid syntax. Perhaps you forgot a comma? (832799594.py, line 1)",
     "output_type": "error",
     "traceback": [
      "\u001b[1;36m  Input \u001b[1;32mIn [32]\u001b[1;36m\u001b[0m\n\u001b[1;33m    print (\"I say \"I Love You\"\")\u001b[0m\n\u001b[1;37m           ^\u001b[0m\n\u001b[1;31mSyntaxError\u001b[0m\u001b[1;31m:\u001b[0m invalid syntax. Perhaps you forgot a comma?\n"
     ]
    }
   ],
   "source": [
    "#\"\"의 위치때문에 에러\n",
    "print (\"I say \"I Love You\"\")"
   ]
  },
  {
   "cell_type": "code",
   "execution_count": 35,
   "id": "b461fc36",
   "metadata": {},
   "outputs": [
    {
     "name": "stdout",
     "output_type": "stream",
     "text": [
      "오늘 열심히 파이썬을 공부했습니다. \n",
      "내일도 열심히 파이썬을 공부할 것입니다. \n",
      "그래서 일등할 것입니다\n",
      "오늘 열심히 파이썬을 공부했습니다. 내일도 열심히 파이썬을 공부할 것입니다. 그래서 일등할 것입니다\n"
     ]
    }
   ],
   "source": [
    "print(\"\"\"오늘 열심히 파이썬을 공부했습니다. \n",
    "내일도 열심히 파이썬을 공부할 것입니다. \n",
    "그래서 일등할 것입니다\"\"\")\n",
    "\n",
    "print(\"오늘 열심히 파이썬을 공부했습니다. \\\n",
    "내일도 열심히 파이썬을 공부할 것입니다. \\\n",
    "그래서 일등할 것입니다\")\n"
   ]
  },
  {
   "cell_type": "code",
   "execution_count": 36,
   "id": "69f4e391",
   "metadata": {},
   "outputs": [
    {
     "name": "stdout",
     "output_type": "stream",
     "text": [
      "오늘은즐거운일요일\n",
      "오늘 열심히 파이썬을 공부했습니다. \n",
      "내일도 열심히 파이썬을 공부할 것입니다. \n",
      "그래서 일등할 것입니다\n"
     ]
    }
   ],
   "source": [
    "a = \"오늘은\" \"즐거운\" \"일요일\"\n",
    "print (a)\n",
    "print(\"오늘 열심히 파이썬을 공부했습니다. \\n\"\n",
    "\"내일도 열심히 파이썬을 공부할 것입니다. \\n\"\n",
    "\"그래서 일등할 것입니다\")\n"
   ]
  },
  {
   "cell_type": "code",
   "execution_count": 38,
   "id": "2ed81c50",
   "metadata": {},
   "outputs": [
    {
     "data": {
      "text/plain": [
       "False"
      ]
     },
     "execution_count": 38,
     "metadata": {},
     "output_type": "execute_result"
    }
   ],
   "source": [
    "#부울형 시작\n",
    "a=True\n",
    "b=False\n",
    "a and b"
   ]
  },
  {
   "cell_type": "code",
   "execution_count": 39,
   "id": "c98110e2",
   "metadata": {},
   "outputs": [
    {
     "data": {
      "text/plain": [
       "True"
      ]
     },
     "execution_count": 39,
     "metadata": {},
     "output_type": "execute_result"
    }
   ],
   "source": [
    "a or b"
   ]
  },
  {
   "cell_type": "code",
   "execution_count": 40,
   "id": "65e6df82",
   "metadata": {},
   "outputs": [
    {
     "data": {
      "text/plain": [
       "True"
      ]
     },
     "execution_count": 40,
     "metadata": {},
     "output_type": "execute_result"
    }
   ],
   "source": [
    "a and not b"
   ]
  },
  {
   "cell_type": "code",
   "execution_count": 41,
   "id": "42f4c067",
   "metadata": {},
   "outputs": [
    {
     "data": {
      "text/plain": [
       "True"
      ]
     },
     "execution_count": 41,
     "metadata": {},
     "output_type": "execute_result"
    }
   ],
   "source": [
    "a=0\n",
    "b= a==0\n",
    "b"
   ]
  },
  {
   "cell_type": "code",
   "execution_count": 42,
   "id": "670ccc7c",
   "metadata": {},
   "outputs": [
    {
     "name": "stdout",
     "output_type": "stream",
     "text": [
      "참\n"
     ]
    }
   ],
   "source": [
    "if 1> 2 and a and b or b or a:#1이 2보다 크고 a 그리고 b 아니면 b 아니면 a 일떄\n",
    "    print(\"참\")#는 참 출력\n",
    "else:# 아니면\n",
    "    print(\"거짓\")#거짓 출력"
   ]
  },
  {
   "cell_type": "code",
   "execution_count": 45,
   "id": "e15a83f0",
   "metadata": {},
   "outputs": [
    {
     "name": "stdout",
     "output_type": "stream",
     "text": [
      "['빨', '주', '노', '초', '파', '남', '보']\n"
     ]
    },
    {
     "data": {
      "text/plain": [
       "True"
      ]
     },
     "execution_count": 45,
     "metadata": {},
     "output_type": "execute_result"
    }
   ],
   "source": [
    "rainbow = [\"빨\",\"주\",\"노\",\"초\",\"파\",\"남\",\"보\"]\n",
    "print(rainbow)\n",
    "True"
   ]
  },
  {
   "cell_type": "code",
   "execution_count": 47,
   "id": "89af1b95",
   "metadata": {},
   "outputs": [
    {
     "name": "stdout",
     "output_type": "stream",
     "text": [
      "빨강 색\n",
      "주황 색\n",
      "노랑 색\n",
      "초록 색\n",
      "파랑 색\n",
      "남색 색\n",
      "보라 색\n"
     ]
    }
   ],
   "source": [
    "rainbow = [\"빨강\",\"주황\",\"노랑\",\"초록\",\"파랑\",\"남색\",\"보라\"]\n",
    "for color in rainbow :\n",
    "    print(color, \"색\")"
   ]
  },
  {
   "cell_type": "code",
   "execution_count": null,
   "id": "e9a4bd78",
   "metadata": {},
   "outputs": [],
   "source": []
  }
 ],
 "metadata": {
  "kernelspec": {
   "display_name": "Python 3 (ipykernel)",
   "language": "python",
   "name": "python3"
  },
  "language_info": {
   "codemirror_mode": {
    "name": "ipython",
    "version": 3
   },
   "file_extension": ".py",
   "mimetype": "text/x-python",
   "name": "python",
   "nbconvert_exporter": "python",
   "pygments_lexer": "ipython3",
   "version": "3.10.4"
  }
 },
 "nbformat": 4,
 "nbformat_minor": 5
}
